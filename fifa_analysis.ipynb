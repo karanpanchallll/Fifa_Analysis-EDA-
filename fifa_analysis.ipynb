{
 "cells": [
  {
   "cell_type": "code",
   "execution_count": 47,
   "id": "cfd109dc",
   "metadata": {},
   "outputs": [],
   "source": [
    "import pandas as pd \n",
    "import numpy as np\n",
    "import matplotlib.pyplot as plt\n",
    "import seaborn as sns\n",
    "import plotly.express as px\n",
    "import plotly.graph_objects as go\n",
    "from plotly.subplots import make_subplots"
   ]
  },
  {
   "cell_type": "code",
   "execution_count": 2,
   "id": "78b5de03",
   "metadata": {},
   "outputs": [],
   "source": [
    "world_ranking=pd.read_csv(\"fifa_ranking.csv\")\n",
    "world_cup=pd.read_csv(\"world_cup.csv\")\n",
    "matches=pd.read_csv(\"matches.csv\")"
   ]
  },
  {
   "cell_type": "code",
   "execution_count": 3,
   "id": "16c9060f",
   "metadata": {},
   "outputs": [
    {
     "data": {
      "text/html": [
       "<div>\n",
       "<style scoped>\n",
       "    .dataframe tbody tr th:only-of-type {\n",
       "        vertical-align: middle;\n",
       "    }\n",
       "\n",
       "    .dataframe tbody tr th {\n",
       "        vertical-align: top;\n",
       "    }\n",
       "\n",
       "    .dataframe thead th {\n",
       "        text-align: right;\n",
       "    }\n",
       "</style>\n",
       "<table border=\"1\" class=\"dataframe\">\n",
       "  <thead>\n",
       "    <tr style=\"text-align: right;\">\n",
       "      <th></th>\n",
       "      <th>team</th>\n",
       "      <th>team_code</th>\n",
       "      <th>association</th>\n",
       "      <th>rank</th>\n",
       "      <th>previous_rank</th>\n",
       "      <th>points</th>\n",
       "      <th>previous_points</th>\n",
       "    </tr>\n",
       "  </thead>\n",
       "  <tbody>\n",
       "    <tr>\n",
       "      <th>0</th>\n",
       "      <td>Brazil</td>\n",
       "      <td>BRA</td>\n",
       "      <td>CONMEBOL</td>\n",
       "      <td>1</td>\n",
       "      <td>1</td>\n",
       "      <td>1841.30</td>\n",
       "      <td>1837.56</td>\n",
       "    </tr>\n",
       "    <tr>\n",
       "      <th>1</th>\n",
       "      <td>Belgium</td>\n",
       "      <td>BEL</td>\n",
       "      <td>UEFA</td>\n",
       "      <td>2</td>\n",
       "      <td>2</td>\n",
       "      <td>1816.71</td>\n",
       "      <td>1821.92</td>\n",
       "    </tr>\n",
       "    <tr>\n",
       "      <th>2</th>\n",
       "      <td>Argentina</td>\n",
       "      <td>ARG</td>\n",
       "      <td>CONMEBOL</td>\n",
       "      <td>3</td>\n",
       "      <td>3</td>\n",
       "      <td>1773.88</td>\n",
       "      <td>1770.65</td>\n",
       "    </tr>\n",
       "    <tr>\n",
       "      <th>3</th>\n",
       "      <td>France</td>\n",
       "      <td>FRA</td>\n",
       "      <td>UEFA</td>\n",
       "      <td>4</td>\n",
       "      <td>4</td>\n",
       "      <td>1759.78</td>\n",
       "      <td>1764.85</td>\n",
       "    </tr>\n",
       "    <tr>\n",
       "      <th>4</th>\n",
       "      <td>England</td>\n",
       "      <td>ENG</td>\n",
       "      <td>UEFA</td>\n",
       "      <td>5</td>\n",
       "      <td>5</td>\n",
       "      <td>1728.47</td>\n",
       "      <td>1737.46</td>\n",
       "    </tr>\n",
       "    <tr>\n",
       "      <th>...</th>\n",
       "      <td>...</td>\n",
       "      <td>...</td>\n",
       "      <td>...</td>\n",
       "      <td>...</td>\n",
       "      <td>...</td>\n",
       "      <td>...</td>\n",
       "      <td>...</td>\n",
       "    </tr>\n",
       "    <tr>\n",
       "      <th>206</th>\n",
       "      <td>Sri Lanka</td>\n",
       "      <td>SRI</td>\n",
       "      <td>AFC</td>\n",
       "      <td>207</td>\n",
       "      <td>207</td>\n",
       "      <td>825.25</td>\n",
       "      <td>825.25</td>\n",
       "    </tr>\n",
       "    <tr>\n",
       "      <th>207</th>\n",
       "      <td>US Virgin Islands</td>\n",
       "      <td>VIR</td>\n",
       "      <td>CONCACAF</td>\n",
       "      <td>208</td>\n",
       "      <td>208</td>\n",
       "      <td>823.97</td>\n",
       "      <td>823.97</td>\n",
       "    </tr>\n",
       "    <tr>\n",
       "      <th>208</th>\n",
       "      <td>British Virgin Islands</td>\n",
       "      <td>VGB</td>\n",
       "      <td>CONCACAF</td>\n",
       "      <td>209</td>\n",
       "      <td>209</td>\n",
       "      <td>809.32</td>\n",
       "      <td>809.32</td>\n",
       "    </tr>\n",
       "    <tr>\n",
       "      <th>209</th>\n",
       "      <td>Anguilla</td>\n",
       "      <td>AIA</td>\n",
       "      <td>CONCACAF</td>\n",
       "      <td>210</td>\n",
       "      <td>210</td>\n",
       "      <td>790.74</td>\n",
       "      <td>790.74</td>\n",
       "    </tr>\n",
       "    <tr>\n",
       "      <th>210</th>\n",
       "      <td>San Marino</td>\n",
       "      <td>SMR</td>\n",
       "      <td>UEFA</td>\n",
       "      <td>211</td>\n",
       "      <td>211</td>\n",
       "      <td>762.22</td>\n",
       "      <td>763.82</td>\n",
       "    </tr>\n",
       "  </tbody>\n",
       "</table>\n",
       "<p>211 rows × 7 columns</p>\n",
       "</div>"
      ],
      "text/plain": [
       "                       team team_code association  rank  previous_rank  \\\n",
       "0                    Brazil       BRA    CONMEBOL     1              1   \n",
       "1                   Belgium       BEL        UEFA     2              2   \n",
       "2                 Argentina       ARG    CONMEBOL     3              3   \n",
       "3                    France       FRA        UEFA     4              4   \n",
       "4                   England       ENG        UEFA     5              5   \n",
       "..                      ...       ...         ...   ...            ...   \n",
       "206               Sri Lanka       SRI         AFC   207            207   \n",
       "207       US Virgin Islands       VIR    CONCACAF   208            208   \n",
       "208  British Virgin Islands       VGB    CONCACAF   209            209   \n",
       "209                Anguilla       AIA    CONCACAF   210            210   \n",
       "210              San Marino       SMR        UEFA   211            211   \n",
       "\n",
       "      points  previous_points  \n",
       "0    1841.30          1837.56  \n",
       "1    1816.71          1821.92  \n",
       "2    1773.88          1770.65  \n",
       "3    1759.78          1764.85  \n",
       "4    1728.47          1737.46  \n",
       "..       ...              ...  \n",
       "206   825.25           825.25  \n",
       "207   823.97           823.97  \n",
       "208   809.32           809.32  \n",
       "209   790.74           790.74  \n",
       "210   762.22           763.82  \n",
       "\n",
       "[211 rows x 7 columns]"
      ]
     },
     "execution_count": 3,
     "metadata": {},
     "output_type": "execute_result"
    }
   ],
   "source": [
    "world_ranking"
   ]
  },
  {
   "cell_type": "code",
   "execution_count": 4,
   "id": "66ddb055",
   "metadata": {},
   "outputs": [
    {
     "data": {
      "text/html": [
       "<div>\n",
       "<style scoped>\n",
       "    .dataframe tbody tr th:only-of-type {\n",
       "        vertical-align: middle;\n",
       "    }\n",
       "\n",
       "    .dataframe tbody tr th {\n",
       "        vertical-align: top;\n",
       "    }\n",
       "\n",
       "    .dataframe thead th {\n",
       "        text-align: right;\n",
       "    }\n",
       "</style>\n",
       "<table border=\"1\" class=\"dataframe\">\n",
       "  <thead>\n",
       "    <tr style=\"text-align: right;\">\n",
       "      <th></th>\n",
       "      <th>Year</th>\n",
       "      <th>Host</th>\n",
       "      <th>Teams</th>\n",
       "      <th>Champion</th>\n",
       "      <th>Runner-Up</th>\n",
       "      <th>TopScorrer</th>\n",
       "      <th>Attendance</th>\n",
       "      <th>AttendanceAvg</th>\n",
       "      <th>Matches</th>\n",
       "    </tr>\n",
       "  </thead>\n",
       "  <tbody>\n",
       "    <tr>\n",
       "      <th>0</th>\n",
       "      <td>2022</td>\n",
       "      <td>Qatar</td>\n",
       "      <td>32</td>\n",
       "      <td>Argentina</td>\n",
       "      <td>France</td>\n",
       "      <td>Kylian Mbappé - 8</td>\n",
       "      <td>3404252</td>\n",
       "      <td>53191</td>\n",
       "      <td>64</td>\n",
       "    </tr>\n",
       "    <tr>\n",
       "      <th>1</th>\n",
       "      <td>2018</td>\n",
       "      <td>Russia</td>\n",
       "      <td>32</td>\n",
       "      <td>France</td>\n",
       "      <td>Croatia</td>\n",
       "      <td>Harry Kane - 6</td>\n",
       "      <td>3031768</td>\n",
       "      <td>47371</td>\n",
       "      <td>64</td>\n",
       "    </tr>\n",
       "    <tr>\n",
       "      <th>2</th>\n",
       "      <td>2014</td>\n",
       "      <td>Brazil</td>\n",
       "      <td>32</td>\n",
       "      <td>Germany</td>\n",
       "      <td>Argentina</td>\n",
       "      <td>James Rodríguez - 6</td>\n",
       "      <td>3429873</td>\n",
       "      <td>53592</td>\n",
       "      <td>64</td>\n",
       "    </tr>\n",
       "    <tr>\n",
       "      <th>3</th>\n",
       "      <td>2010</td>\n",
       "      <td>South Africa</td>\n",
       "      <td>32</td>\n",
       "      <td>Spain</td>\n",
       "      <td>Netherlands</td>\n",
       "      <td>Wesley Sneijder, Thomas Müller... - 5</td>\n",
       "      <td>3178856</td>\n",
       "      <td>49670</td>\n",
       "      <td>64</td>\n",
       "    </tr>\n",
       "    <tr>\n",
       "      <th>4</th>\n",
       "      <td>2006</td>\n",
       "      <td>Germany</td>\n",
       "      <td>32</td>\n",
       "      <td>Italy</td>\n",
       "      <td>France</td>\n",
       "      <td>Miroslav Klose - 5</td>\n",
       "      <td>3352605</td>\n",
       "      <td>52384</td>\n",
       "      <td>64</td>\n",
       "    </tr>\n",
       "    <tr>\n",
       "      <th>5</th>\n",
       "      <td>2002</td>\n",
       "      <td>Korea Republic, Japan</td>\n",
       "      <td>32</td>\n",
       "      <td>Brazil</td>\n",
       "      <td>Germany</td>\n",
       "      <td>Ronaldo - 8</td>\n",
       "      <td>2705337</td>\n",
       "      <td>42271</td>\n",
       "      <td>64</td>\n",
       "    </tr>\n",
       "    <tr>\n",
       "      <th>6</th>\n",
       "      <td>1998</td>\n",
       "      <td>France</td>\n",
       "      <td>32</td>\n",
       "      <td>France</td>\n",
       "      <td>Brazil</td>\n",
       "      <td>Davor Šuker - 6</td>\n",
       "      <td>2903477</td>\n",
       "      <td>45367</td>\n",
       "      <td>64</td>\n",
       "    </tr>\n",
       "    <tr>\n",
       "      <th>7</th>\n",
       "      <td>1994</td>\n",
       "      <td>United States</td>\n",
       "      <td>24</td>\n",
       "      <td>Brazil</td>\n",
       "      <td>Italy</td>\n",
       "      <td>Hristo Stoichkov, Oleg Salenko - 6</td>\n",
       "      <td>3587538</td>\n",
       "      <td>68991</td>\n",
       "      <td>52</td>\n",
       "    </tr>\n",
       "    <tr>\n",
       "      <th>8</th>\n",
       "      <td>1990</td>\n",
       "      <td>Italy</td>\n",
       "      <td>24</td>\n",
       "      <td>West Germany</td>\n",
       "      <td>Argentina</td>\n",
       "      <td>Salvatore Schillaci - 6</td>\n",
       "      <td>2516215</td>\n",
       "      <td>48389</td>\n",
       "      <td>52</td>\n",
       "    </tr>\n",
       "    <tr>\n",
       "      <th>9</th>\n",
       "      <td>1986</td>\n",
       "      <td>Mexico</td>\n",
       "      <td>24</td>\n",
       "      <td>Argentina</td>\n",
       "      <td>West Germany</td>\n",
       "      <td>Gary Lineker - 6</td>\n",
       "      <td>2394031</td>\n",
       "      <td>46039</td>\n",
       "      <td>52</td>\n",
       "    </tr>\n",
       "    <tr>\n",
       "      <th>10</th>\n",
       "      <td>1982</td>\n",
       "      <td>Spain</td>\n",
       "      <td>24</td>\n",
       "      <td>Italy</td>\n",
       "      <td>West Germany</td>\n",
       "      <td>Paolo Rossi - 6</td>\n",
       "      <td>2109723</td>\n",
       "      <td>40572</td>\n",
       "      <td>52</td>\n",
       "    </tr>\n",
       "    <tr>\n",
       "      <th>11</th>\n",
       "      <td>1978</td>\n",
       "      <td>Argentina</td>\n",
       "      <td>16</td>\n",
       "      <td>Argentina</td>\n",
       "      <td>Netherlands</td>\n",
       "      <td>Mario Kempes - 6</td>\n",
       "      <td>1545791</td>\n",
       "      <td>40679</td>\n",
       "      <td>38</td>\n",
       "    </tr>\n",
       "    <tr>\n",
       "      <th>12</th>\n",
       "      <td>1974</td>\n",
       "      <td>Germany</td>\n",
       "      <td>16</td>\n",
       "      <td>West Germany</td>\n",
       "      <td>Netherlands</td>\n",
       "      <td>Grzegorz Lato - 7</td>\n",
       "      <td>1865753</td>\n",
       "      <td>49099</td>\n",
       "      <td>38</td>\n",
       "    </tr>\n",
       "    <tr>\n",
       "      <th>13</th>\n",
       "      <td>1970</td>\n",
       "      <td>Mexico</td>\n",
       "      <td>16</td>\n",
       "      <td>Brazil</td>\n",
       "      <td>Italy</td>\n",
       "      <td>Gerd Müller - 10</td>\n",
       "      <td>1603975</td>\n",
       "      <td>50124</td>\n",
       "      <td>32</td>\n",
       "    </tr>\n",
       "    <tr>\n",
       "      <th>14</th>\n",
       "      <td>1966</td>\n",
       "      <td>England</td>\n",
       "      <td>16</td>\n",
       "      <td>England</td>\n",
       "      <td>West Germany</td>\n",
       "      <td>Eusébio - 9</td>\n",
       "      <td>1563135</td>\n",
       "      <td>48848</td>\n",
       "      <td>32</td>\n",
       "    </tr>\n",
       "    <tr>\n",
       "      <th>15</th>\n",
       "      <td>1962</td>\n",
       "      <td>Chile</td>\n",
       "      <td>16</td>\n",
       "      <td>Brazil</td>\n",
       "      <td>Czechoslovakia</td>\n",
       "      <td>Leonel Sánchez, Flórián Albert... - 4</td>\n",
       "      <td>893172</td>\n",
       "      <td>27912</td>\n",
       "      <td>32</td>\n",
       "    </tr>\n",
       "    <tr>\n",
       "      <th>16</th>\n",
       "      <td>1958</td>\n",
       "      <td>Sweden</td>\n",
       "      <td>16</td>\n",
       "      <td>Brazil</td>\n",
       "      <td>Sweden</td>\n",
       "      <td>Just Fontaine - 13</td>\n",
       "      <td>819810</td>\n",
       "      <td>23423</td>\n",
       "      <td>35</td>\n",
       "    </tr>\n",
       "    <tr>\n",
       "      <th>17</th>\n",
       "      <td>1954</td>\n",
       "      <td>Switzerland</td>\n",
       "      <td>16</td>\n",
       "      <td>Germany</td>\n",
       "      <td>Hungary</td>\n",
       "      <td>Sándor Kocsis - 11</td>\n",
       "      <td>768607</td>\n",
       "      <td>29562</td>\n",
       "      <td>26</td>\n",
       "    </tr>\n",
       "    <tr>\n",
       "      <th>18</th>\n",
       "      <td>1950</td>\n",
       "      <td>Brazil</td>\n",
       "      <td>15</td>\n",
       "      <td>Uruguay</td>\n",
       "      <td>Brazil</td>\n",
       "      <td>Ademir - 8</td>\n",
       "      <td>1045246</td>\n",
       "      <td>47511</td>\n",
       "      <td>22</td>\n",
       "    </tr>\n",
       "    <tr>\n",
       "      <th>19</th>\n",
       "      <td>1938</td>\n",
       "      <td>France</td>\n",
       "      <td>16</td>\n",
       "      <td>Italy</td>\n",
       "      <td>Hungary</td>\n",
       "      <td>Leônidas - 7</td>\n",
       "      <td>375700</td>\n",
       "      <td>20872</td>\n",
       "      <td>18</td>\n",
       "    </tr>\n",
       "    <tr>\n",
       "      <th>20</th>\n",
       "      <td>1934</td>\n",
       "      <td>Italy</td>\n",
       "      <td>16</td>\n",
       "      <td>Italy</td>\n",
       "      <td>Czechoslovakia</td>\n",
       "      <td>Oldřich Nejedlý - 5</td>\n",
       "      <td>363000</td>\n",
       "      <td>21353</td>\n",
       "      <td>17</td>\n",
       "    </tr>\n",
       "    <tr>\n",
       "      <th>21</th>\n",
       "      <td>1930</td>\n",
       "      <td>Uruguay</td>\n",
       "      <td>13</td>\n",
       "      <td>Uruguay</td>\n",
       "      <td>Argentina</td>\n",
       "      <td>Guillermo Stábile - 8</td>\n",
       "      <td>590549</td>\n",
       "      <td>32808</td>\n",
       "      <td>18</td>\n",
       "    </tr>\n",
       "  </tbody>\n",
       "</table>\n",
       "</div>"
      ],
      "text/plain": [
       "    Year                   Host  Teams      Champion       Runner-Up  \\\n",
       "0   2022                  Qatar     32     Argentina          France   \n",
       "1   2018                 Russia     32        France         Croatia   \n",
       "2   2014                 Brazil     32       Germany       Argentina   \n",
       "3   2010           South Africa     32         Spain     Netherlands   \n",
       "4   2006                Germany     32         Italy          France   \n",
       "5   2002  Korea Republic, Japan     32        Brazil         Germany   \n",
       "6   1998                 France     32        France          Brazil   \n",
       "7   1994          United States     24        Brazil           Italy   \n",
       "8   1990                  Italy     24  West Germany       Argentina   \n",
       "9   1986                 Mexico     24     Argentina    West Germany   \n",
       "10  1982                  Spain     24         Italy    West Germany   \n",
       "11  1978              Argentina     16     Argentina     Netherlands   \n",
       "12  1974                Germany     16  West Germany     Netherlands   \n",
       "13  1970                 Mexico     16        Brazil           Italy   \n",
       "14  1966                England     16       England    West Germany   \n",
       "15  1962                  Chile     16        Brazil  Czechoslovakia   \n",
       "16  1958                 Sweden     16        Brazil          Sweden   \n",
       "17  1954            Switzerland     16       Germany         Hungary   \n",
       "18  1950                 Brazil     15       Uruguay          Brazil   \n",
       "19  1938                 France     16         Italy         Hungary   \n",
       "20  1934                  Italy     16         Italy  Czechoslovakia   \n",
       "21  1930                Uruguay     13       Uruguay       Argentina   \n",
       "\n",
       "                               TopScorrer  Attendance  AttendanceAvg  Matches  \n",
       "0                       Kylian Mbappé - 8     3404252          53191       64  \n",
       "1                          Harry Kane - 6     3031768          47371       64  \n",
       "2                     James Rodríguez - 6     3429873          53592       64  \n",
       "3   Wesley Sneijder, Thomas Müller... - 5     3178856          49670       64  \n",
       "4                      Miroslav Klose - 5     3352605          52384       64  \n",
       "5                             Ronaldo - 8     2705337          42271       64  \n",
       "6                         Davor Šuker - 6     2903477          45367       64  \n",
       "7      Hristo Stoichkov, Oleg Salenko - 6     3587538          68991       52  \n",
       "8                 Salvatore Schillaci - 6     2516215          48389       52  \n",
       "9                        Gary Lineker - 6     2394031          46039       52  \n",
       "10                        Paolo Rossi - 6     2109723          40572       52  \n",
       "11                       Mario Kempes - 6     1545791          40679       38  \n",
       "12                      Grzegorz Lato - 7     1865753          49099       38  \n",
       "13                       Gerd Müller - 10     1603975          50124       32  \n",
       "14                            Eusébio - 9     1563135          48848       32  \n",
       "15  Leonel Sánchez, Flórián Albert... - 4      893172          27912       32  \n",
       "16                     Just Fontaine - 13      819810          23423       35  \n",
       "17                     Sándor Kocsis - 11      768607          29562       26  \n",
       "18                             Ademir - 8     1045246          47511       22  \n",
       "19                           Leônidas - 7      375700          20872       18  \n",
       "20                    Oldřich Nejedlý - 5      363000          21353       17  \n",
       "21                  Guillermo Stábile - 8      590549          32808       18  "
      ]
     },
     "execution_count": 4,
     "metadata": {},
     "output_type": "execute_result"
    }
   ],
   "source": [
    "world_cup\n"
   ]
  },
  {
   "cell_type": "code",
   "execution_count": 5,
   "id": "a0fdbb68",
   "metadata": {},
   "outputs": [
    {
     "data": {
      "text/html": [
       "<div>\n",
       "<style scoped>\n",
       "    .dataframe tbody tr th:only-of-type {\n",
       "        vertical-align: middle;\n",
       "    }\n",
       "\n",
       "    .dataframe tbody tr th {\n",
       "        vertical-align: top;\n",
       "    }\n",
       "\n",
       "    .dataframe thead th {\n",
       "        text-align: right;\n",
       "    }\n",
       "</style>\n",
       "<table border=\"1\" class=\"dataframe\">\n",
       "  <thead>\n",
       "    <tr style=\"text-align: right;\">\n",
       "      <th></th>\n",
       "      <th>home_team</th>\n",
       "      <th>away_team</th>\n",
       "      <th>home_score</th>\n",
       "      <th>home_xg</th>\n",
       "      <th>home_penalty</th>\n",
       "      <th>away_score</th>\n",
       "      <th>away_xg</th>\n",
       "      <th>away_penalty</th>\n",
       "      <th>home_manager</th>\n",
       "      <th>home_captain</th>\n",
       "      <th>...</th>\n",
       "      <th>home_penalty_shootout_miss_long</th>\n",
       "      <th>away_penalty_shootout_miss_long</th>\n",
       "      <th>home_red_card</th>\n",
       "      <th>away_red_card</th>\n",
       "      <th>home_yellow_red_card</th>\n",
       "      <th>away_yellow_red_card</th>\n",
       "      <th>home_yellow_card_long</th>\n",
       "      <th>away_yellow_card_long</th>\n",
       "      <th>home_substitute_in_long</th>\n",
       "      <th>away_substitute_in_long</th>\n",
       "    </tr>\n",
       "  </thead>\n",
       "  <tbody>\n",
       "    <tr>\n",
       "      <th>0</th>\n",
       "      <td>Argentina</td>\n",
       "      <td>France</td>\n",
       "      <td>3</td>\n",
       "      <td>3.3</td>\n",
       "      <td>4.0</td>\n",
       "      <td>3</td>\n",
       "      <td>2.2</td>\n",
       "      <td>2.0</td>\n",
       "      <td>Lionel Scaloni</td>\n",
       "      <td>Lionel Messi</td>\n",
       "      <td>...</td>\n",
       "      <td>NaN</td>\n",
       "      <td>['3|1:1|Kingsley Coman', '5|2:1|Aurélien Tchou...</td>\n",
       "      <td>NaN</td>\n",
       "      <td>NaN</td>\n",
       "      <td>NaN</td>\n",
       "      <td>NaN</td>\n",
       "      <td>['45+7&amp;rsquor;|2:0|Enzo Fernández', '90+8&amp;rsqu...</td>\n",
       "      <td>['55&amp;rsquor;|2:0|Adrien Rabiot', '87&amp;rsquor;|2...</td>\n",
       "      <td>['64&amp;rsquor;|2:0|Marcos Acuña|for Ángel Di Mar...</td>\n",
       "      <td>['41&amp;rsquor;|2:0|Randal Kolo Muani|for Ousmane...</td>\n",
       "    </tr>\n",
       "    <tr>\n",
       "      <th>1</th>\n",
       "      <td>Croatia</td>\n",
       "      <td>Morocco</td>\n",
       "      <td>2</td>\n",
       "      <td>0.7</td>\n",
       "      <td>NaN</td>\n",
       "      <td>1</td>\n",
       "      <td>1.2</td>\n",
       "      <td>NaN</td>\n",
       "      <td>Zlatko Dalić</td>\n",
       "      <td>Luka Modrić</td>\n",
       "      <td>...</td>\n",
       "      <td>NaN</td>\n",
       "      <td>NaN</td>\n",
       "      <td>NaN</td>\n",
       "      <td>NaN</td>\n",
       "      <td>NaN</td>\n",
       "      <td>NaN</td>\n",
       "      <td>NaN</td>\n",
       "      <td>['69&amp;rsquor;|2:1|Azzedine Ounahi', '84&amp;rsquor;...</td>\n",
       "      <td>['61&amp;rsquor;|2:1|Nikola Vlašić|for Andrej Kram...</td>\n",
       "      <td>['46&amp;rsquor;|2:1|Ilias Chair|for Abdelhamid Sa...</td>\n",
       "    </tr>\n",
       "    <tr>\n",
       "      <th>2</th>\n",
       "      <td>France</td>\n",
       "      <td>Morocco</td>\n",
       "      <td>2</td>\n",
       "      <td>2.0</td>\n",
       "      <td>NaN</td>\n",
       "      <td>0</td>\n",
       "      <td>0.9</td>\n",
       "      <td>NaN</td>\n",
       "      <td>Didier Deschamps</td>\n",
       "      <td>Hugo Lloris</td>\n",
       "      <td>...</td>\n",
       "      <td>NaN</td>\n",
       "      <td>NaN</td>\n",
       "      <td>NaN</td>\n",
       "      <td>NaN</td>\n",
       "      <td>NaN</td>\n",
       "      <td>NaN</td>\n",
       "      <td>NaN</td>\n",
       "      <td>['27&amp;rsquor;|1:0|Sofiane Boufal']</td>\n",
       "      <td>['65&amp;rsquor;|1:0|Marcus Thuram|for Olivier Gir...</td>\n",
       "      <td>['21&amp;rsquor;|1:0|Selim Amallah|for Romain Saïs...</td>\n",
       "    </tr>\n",
       "    <tr>\n",
       "      <th>3</th>\n",
       "      <td>Argentina</td>\n",
       "      <td>Croatia</td>\n",
       "      <td>3</td>\n",
       "      <td>2.3</td>\n",
       "      <td>NaN</td>\n",
       "      <td>0</td>\n",
       "      <td>0.5</td>\n",
       "      <td>NaN</td>\n",
       "      <td>Lionel Scaloni</td>\n",
       "      <td>Lionel Messi</td>\n",
       "      <td>...</td>\n",
       "      <td>NaN</td>\n",
       "      <td>NaN</td>\n",
       "      <td>NaN</td>\n",
       "      <td>NaN</td>\n",
       "      <td>NaN</td>\n",
       "      <td>NaN</td>\n",
       "      <td>['68&amp;rsquor;|2:0|Cristian Romero', '71&amp;rsquor;...</td>\n",
       "      <td>['32&amp;rsquor;|0:0|Mateo Kovačić', '32&amp;rsquor;|0...</td>\n",
       "      <td>['62&amp;rsquor;|2:0|Lisandro Martínez|for Leandro...</td>\n",
       "      <td>['46&amp;rsquor;|2:0|Mislav Oršić|for Borna Sosa',...</td>\n",
       "    </tr>\n",
       "    <tr>\n",
       "      <th>4</th>\n",
       "      <td>Morocco</td>\n",
       "      <td>Portugal</td>\n",
       "      <td>1</td>\n",
       "      <td>1.4</td>\n",
       "      <td>NaN</td>\n",
       "      <td>0</td>\n",
       "      <td>0.9</td>\n",
       "      <td>NaN</td>\n",
       "      <td>Hoalid Regragui</td>\n",
       "      <td>Romain Saïss</td>\n",
       "      <td>...</td>\n",
       "      <td>NaN</td>\n",
       "      <td>NaN</td>\n",
       "      <td>NaN</td>\n",
       "      <td>NaN</td>\n",
       "      <td>Walid Cheddira · 90+3</td>\n",
       "      <td>NaN</td>\n",
       "      <td>['70&amp;rsquor;|1:0|Achraf Dari', '90+1&amp;rsquor;|1...</td>\n",
       "      <td>['87&amp;rsquor;|1:0|Vitinha']</td>\n",
       "      <td>['57&amp;rsquor;|1:0|Achraf Dari|for Romain Saïss'...</td>\n",
       "      <td>['51&amp;rsquor;|1:0|João Cancelo|for Raphaël Guer...</td>\n",
       "    </tr>\n",
       "    <tr>\n",
       "      <th>...</th>\n",
       "      <td>...</td>\n",
       "      <td>...</td>\n",
       "      <td>...</td>\n",
       "      <td>...</td>\n",
       "      <td>...</td>\n",
       "      <td>...</td>\n",
       "      <td>...</td>\n",
       "      <td>...</td>\n",
       "      <td>...</td>\n",
       "      <td>...</td>\n",
       "      <td>...</td>\n",
       "      <td>...</td>\n",
       "      <td>...</td>\n",
       "      <td>...</td>\n",
       "      <td>...</td>\n",
       "      <td>...</td>\n",
       "      <td>...</td>\n",
       "      <td>...</td>\n",
       "      <td>...</td>\n",
       "      <td>...</td>\n",
       "      <td>...</td>\n",
       "    </tr>\n",
       "    <tr>\n",
       "      <th>959</th>\n",
       "      <td>Argentina</td>\n",
       "      <td>France</td>\n",
       "      <td>1</td>\n",
       "      <td>NaN</td>\n",
       "      <td>NaN</td>\n",
       "      <td>0</td>\n",
       "      <td>NaN</td>\n",
       "      <td>NaN</td>\n",
       "      <td>Francisco Olazar</td>\n",
       "      <td>Manuel Ferreira</td>\n",
       "      <td>...</td>\n",
       "      <td>NaN</td>\n",
       "      <td>NaN</td>\n",
       "      <td>NaN</td>\n",
       "      <td>NaN</td>\n",
       "      <td>NaN</td>\n",
       "      <td>NaN</td>\n",
       "      <td>NaN</td>\n",
       "      <td>NaN</td>\n",
       "      <td>NaN</td>\n",
       "      <td>NaN</td>\n",
       "    </tr>\n",
       "    <tr>\n",
       "      <th>960</th>\n",
       "      <td>Yugoslavia</td>\n",
       "      <td>Brazil</td>\n",
       "      <td>2</td>\n",
       "      <td>NaN</td>\n",
       "      <td>NaN</td>\n",
       "      <td>1</td>\n",
       "      <td>NaN</td>\n",
       "      <td>NaN</td>\n",
       "      <td>Bosko Simonovic</td>\n",
       "      <td>Milutin Ivković</td>\n",
       "      <td>...</td>\n",
       "      <td>NaN</td>\n",
       "      <td>NaN</td>\n",
       "      <td>NaN</td>\n",
       "      <td>NaN</td>\n",
       "      <td>NaN</td>\n",
       "      <td>NaN</td>\n",
       "      <td>NaN</td>\n",
       "      <td>NaN</td>\n",
       "      <td>NaN</td>\n",
       "      <td>NaN</td>\n",
       "    </tr>\n",
       "    <tr>\n",
       "      <th>961</th>\n",
       "      <td>Romania</td>\n",
       "      <td>Peru</td>\n",
       "      <td>3</td>\n",
       "      <td>NaN</td>\n",
       "      <td>NaN</td>\n",
       "      <td>1</td>\n",
       "      <td>NaN</td>\n",
       "      <td>NaN</td>\n",
       "      <td>Octav Luchide</td>\n",
       "      <td>Emerich Vogl</td>\n",
       "      <td>...</td>\n",
       "      <td>NaN</td>\n",
       "      <td>NaN</td>\n",
       "      <td>NaN</td>\n",
       "      <td>Plácido Galindo · 70</td>\n",
       "      <td>NaN</td>\n",
       "      <td>NaN</td>\n",
       "      <td>NaN</td>\n",
       "      <td>NaN</td>\n",
       "      <td>NaN</td>\n",
       "      <td>NaN</td>\n",
       "    </tr>\n",
       "    <tr>\n",
       "      <th>962</th>\n",
       "      <td>United States</td>\n",
       "      <td>Belgium</td>\n",
       "      <td>3</td>\n",
       "      <td>NaN</td>\n",
       "      <td>NaN</td>\n",
       "      <td>0</td>\n",
       "      <td>NaN</td>\n",
       "      <td>NaN</td>\n",
       "      <td>Bob Millar</td>\n",
       "      <td>Tom Florie</td>\n",
       "      <td>...</td>\n",
       "      <td>NaN</td>\n",
       "      <td>NaN</td>\n",
       "      <td>NaN</td>\n",
       "      <td>NaN</td>\n",
       "      <td>NaN</td>\n",
       "      <td>NaN</td>\n",
       "      <td>NaN</td>\n",
       "      <td>NaN</td>\n",
       "      <td>NaN</td>\n",
       "      <td>NaN</td>\n",
       "    </tr>\n",
       "    <tr>\n",
       "      <th>963</th>\n",
       "      <td>France</td>\n",
       "      <td>Mexico</td>\n",
       "      <td>4</td>\n",
       "      <td>NaN</td>\n",
       "      <td>NaN</td>\n",
       "      <td>1</td>\n",
       "      <td>NaN</td>\n",
       "      <td>NaN</td>\n",
       "      <td>Raoul Caudron</td>\n",
       "      <td>Alexandre Villaplane</td>\n",
       "      <td>...</td>\n",
       "      <td>NaN</td>\n",
       "      <td>NaN</td>\n",
       "      <td>NaN</td>\n",
       "      <td>NaN</td>\n",
       "      <td>NaN</td>\n",
       "      <td>NaN</td>\n",
       "      <td>NaN</td>\n",
       "      <td>NaN</td>\n",
       "      <td>NaN</td>\n",
       "      <td>NaN</td>\n",
       "    </tr>\n",
       "  </tbody>\n",
       "</table>\n",
       "<p>964 rows × 44 columns</p>\n",
       "</div>"
      ],
      "text/plain": [
       "         home_team away_team  home_score  home_xg  home_penalty  away_score  \\\n",
       "0        Argentina    France           3      3.3           4.0           3   \n",
       "1          Croatia   Morocco           2      0.7           NaN           1   \n",
       "2           France   Morocco           2      2.0           NaN           0   \n",
       "3        Argentina   Croatia           3      2.3           NaN           0   \n",
       "4          Morocco  Portugal           1      1.4           NaN           0   \n",
       "..             ...       ...         ...      ...           ...         ...   \n",
       "959      Argentina    France           1      NaN           NaN           0   \n",
       "960     Yugoslavia    Brazil           2      NaN           NaN           1   \n",
       "961        Romania      Peru           3      NaN           NaN           1   \n",
       "962  United States   Belgium           3      NaN           NaN           0   \n",
       "963         France    Mexico           4      NaN           NaN           1   \n",
       "\n",
       "     away_xg  away_penalty      home_manager          home_captain  ...  \\\n",
       "0        2.2           2.0    Lionel Scaloni          Lionel Messi  ...   \n",
       "1        1.2           NaN      Zlatko Dalić           Luka Modrić  ...   \n",
       "2        0.9           NaN  Didier Deschamps           Hugo Lloris  ...   \n",
       "3        0.5           NaN    Lionel Scaloni          Lionel Messi  ...   \n",
       "4        0.9           NaN   Hoalid Regragui          Romain Saïss  ...   \n",
       "..       ...           ...               ...                   ...  ...   \n",
       "959      NaN           NaN  Francisco Olazar       Manuel Ferreira  ...   \n",
       "960      NaN           NaN   Bosko Simonovic       Milutin Ivković  ...   \n",
       "961      NaN           NaN     Octav Luchide          Emerich Vogl  ...   \n",
       "962      NaN           NaN        Bob Millar            Tom Florie  ...   \n",
       "963      NaN           NaN     Raoul Caudron  Alexandre Villaplane  ...   \n",
       "\n",
       "    home_penalty_shootout_miss_long  \\\n",
       "0                               NaN   \n",
       "1                               NaN   \n",
       "2                               NaN   \n",
       "3                               NaN   \n",
       "4                               NaN   \n",
       "..                              ...   \n",
       "959                             NaN   \n",
       "960                             NaN   \n",
       "961                             NaN   \n",
       "962                             NaN   \n",
       "963                             NaN   \n",
       "\n",
       "                       away_penalty_shootout_miss_long  home_red_card  \\\n",
       "0    ['3|1:1|Kingsley Coman', '5|2:1|Aurélien Tchou...            NaN   \n",
       "1                                                  NaN            NaN   \n",
       "2                                                  NaN            NaN   \n",
       "3                                                  NaN            NaN   \n",
       "4                                                  NaN            NaN   \n",
       "..                                                 ...            ...   \n",
       "959                                                NaN            NaN   \n",
       "960                                                NaN            NaN   \n",
       "961                                                NaN            NaN   \n",
       "962                                                NaN            NaN   \n",
       "963                                                NaN            NaN   \n",
       "\n",
       "            away_red_card   home_yellow_red_card away_yellow_red_card  \\\n",
       "0                     NaN                    NaN                  NaN   \n",
       "1                     NaN                    NaN                  NaN   \n",
       "2                     NaN                    NaN                  NaN   \n",
       "3                     NaN                    NaN                  NaN   \n",
       "4                     NaN  Walid Cheddira · 90+3                  NaN   \n",
       "..                    ...                    ...                  ...   \n",
       "959                   NaN                    NaN                  NaN   \n",
       "960                   NaN                    NaN                  NaN   \n",
       "961  Plácido Galindo · 70                    NaN                  NaN   \n",
       "962                   NaN                    NaN                  NaN   \n",
       "963                   NaN                    NaN                  NaN   \n",
       "\n",
       "                                 home_yellow_card_long  \\\n",
       "0    ['45+7&rsquor;|2:0|Enzo Fernández', '90+8&rsqu...   \n",
       "1                                                  NaN   \n",
       "2                                                  NaN   \n",
       "3    ['68&rsquor;|2:0|Cristian Romero', '71&rsquor;...   \n",
       "4    ['70&rsquor;|1:0|Achraf Dari', '90+1&rsquor;|1...   \n",
       "..                                                 ...   \n",
       "959                                                NaN   \n",
       "960                                                NaN   \n",
       "961                                                NaN   \n",
       "962                                                NaN   \n",
       "963                                                NaN   \n",
       "\n",
       "                                 away_yellow_card_long  \\\n",
       "0    ['55&rsquor;|2:0|Adrien Rabiot', '87&rsquor;|2...   \n",
       "1    ['69&rsquor;|2:1|Azzedine Ounahi', '84&rsquor;...   \n",
       "2                    ['27&rsquor;|1:0|Sofiane Boufal']   \n",
       "3    ['32&rsquor;|0:0|Mateo Kovačić', '32&rsquor;|0...   \n",
       "4                           ['87&rsquor;|1:0|Vitinha']   \n",
       "..                                                 ...   \n",
       "959                                                NaN   \n",
       "960                                                NaN   \n",
       "961                                                NaN   \n",
       "962                                                NaN   \n",
       "963                                                NaN   \n",
       "\n",
       "                               home_substitute_in_long  \\\n",
       "0    ['64&rsquor;|2:0|Marcos Acuña|for Ángel Di Mar...   \n",
       "1    ['61&rsquor;|2:1|Nikola Vlašić|for Andrej Kram...   \n",
       "2    ['65&rsquor;|1:0|Marcus Thuram|for Olivier Gir...   \n",
       "3    ['62&rsquor;|2:0|Lisandro Martínez|for Leandro...   \n",
       "4    ['57&rsquor;|1:0|Achraf Dari|for Romain Saïss'...   \n",
       "..                                                 ...   \n",
       "959                                                NaN   \n",
       "960                                                NaN   \n",
       "961                                                NaN   \n",
       "962                                                NaN   \n",
       "963                                                NaN   \n",
       "\n",
       "                               away_substitute_in_long  \n",
       "0    ['41&rsquor;|2:0|Randal Kolo Muani|for Ousmane...  \n",
       "1    ['46&rsquor;|2:1|Ilias Chair|for Abdelhamid Sa...  \n",
       "2    ['21&rsquor;|1:0|Selim Amallah|for Romain Saïs...  \n",
       "3    ['46&rsquor;|2:0|Mislav Oršić|for Borna Sosa',...  \n",
       "4    ['51&rsquor;|1:0|João Cancelo|for Raphaël Guer...  \n",
       "..                                                 ...  \n",
       "959                                                NaN  \n",
       "960                                                NaN  \n",
       "961                                                NaN  \n",
       "962                                                NaN  \n",
       "963                                                NaN  \n",
       "\n",
       "[964 rows x 44 columns]"
      ]
     },
     "execution_count": 5,
     "metadata": {},
     "output_type": "execute_result"
    }
   ],
   "source": [
    "matches"
   ]
  },
  {
   "cell_type": "code",
   "execution_count": 12,
   "id": "88f33e20",
   "metadata": {},
   "outputs": [
    {
     "data": {
      "text/plain": [
       "(22, 9)"
      ]
     },
     "execution_count": 12,
     "metadata": {},
     "output_type": "execute_result"
    }
   ],
   "source": [
    "world_cup.shape\n"
   ]
  },
  {
   "cell_type": "code",
   "execution_count": 10,
   "id": "7347acd8",
   "metadata": {},
   "outputs": [
    {
     "data": {
      "text/plain": [
       "(211, 7)"
      ]
     },
     "execution_count": 10,
     "metadata": {},
     "output_type": "execute_result"
    }
   ],
   "source": [
    "world_ranking.shape"
   ]
  },
  {
   "cell_type": "code",
   "execution_count": 11,
   "id": "8c02d74f",
   "metadata": {},
   "outputs": [
    {
     "data": {
      "text/plain": [
       "(964, 44)"
      ]
     },
     "execution_count": 11,
     "metadata": {},
     "output_type": "execute_result"
    }
   ],
   "source": [
    "matches.shape"
   ]
  },
  {
   "cell_type": "code",
   "execution_count": 14,
   "id": "9c0da185",
   "metadata": {},
   "outputs": [
    {
     "data": {
      "text/plain": [
       "Year             0\n",
       "Host             0\n",
       "Teams            0\n",
       "Champion         0\n",
       "Runner-Up        0\n",
       "TopScorrer       0\n",
       "Attendance       0\n",
       "AttendanceAvg    0\n",
       "Matches          0\n",
       "dtype: int64"
      ]
     },
     "execution_count": 14,
     "metadata": {},
     "output_type": "execute_result"
    }
   ],
   "source": [
    "world_cup.isnull().sum()"
   ]
  },
  {
   "cell_type": "code",
   "execution_count": 15,
   "id": "e6d2b2d1",
   "metadata": {},
   "outputs": [
    {
     "data": {
      "text/plain": [
       "team               0\n",
       "team_code          0\n",
       "association        0\n",
       "rank               0\n",
       "previous_rank      0\n",
       "points             0\n",
       "previous_points    0\n",
       "dtype: int64"
      ]
     },
     "execution_count": 15,
     "metadata": {},
     "output_type": "execute_result"
    }
   ],
   "source": [
    "world_ranking.isnull().sum()"
   ]
  },
  {
   "cell_type": "code",
   "execution_count": 17,
   "id": "6ebaf6a8",
   "metadata": {},
   "outputs": [
    {
     "data": {
      "text/plain": [
       "home_team                           0.000000\n",
       "away_team                           0.000000\n",
       "home_score                          0.000000\n",
       "home_xg                            86.721992\n",
       "home_penalty                       96.369295\n",
       "away_score                          0.000000\n",
       "away_xg                            86.721992\n",
       "away_penalty                       96.369295\n",
       "home_manager                        0.000000\n",
       "home_captain                       33.195021\n",
       "away_manager                        0.000000\n",
       "away_captain                       33.195021\n",
       "Attendance                          0.000000\n",
       "Venue                               0.000000\n",
       "Officials                          26.452282\n",
       "Round                               0.000000\n",
       "Date                                0.000000\n",
       "Score                               0.000000\n",
       "Referee                            26.452282\n",
       "Notes                              92.427386\n",
       "Host                                0.000000\n",
       "Year                                0.000000\n",
       "home_goal                          25.518672\n",
       "away_goal                          40.767635\n",
       "home_goal_long                     25.518672\n",
       "away_goal_long                     40.767635\n",
       "home_own_goal                      95.954357\n",
       "away_own_goal                      98.236515\n",
       "home_penalty_goal                  87.966805\n",
       "away_penalty_goal                  91.286307\n",
       "home_penalty_miss_long             99.377593\n",
       "away_penalty_miss_long             99.066390\n",
       "home_penalty_shootout_goal_long    96.473029\n",
       "away_penalty_shootout_goal_long    96.473029\n",
       "home_penalty_shootout_miss_long    97.510373\n",
       "away_penalty_shootout_miss_long    96.887967\n",
       "home_red_card                      94.709544\n",
       "away_red_card                      94.398340\n",
       "home_yellow_red_card               97.614108\n",
       "away_yellow_red_card               96.784232\n",
       "home_yellow_card_long              35.580913\n",
       "away_yellow_card_long              34.958506\n",
       "home_substitute_in_long            23.236515\n",
       "away_substitute_in_long            22.510373\n",
       "dtype: float64"
      ]
     },
     "execution_count": 17,
     "metadata": {},
     "output_type": "execute_result"
    }
   ],
   "source": [
    "matches.isnull().sum()/len(matches)*100"
   ]
  },
  {
   "cell_type": "code",
   "execution_count": 18,
   "id": "1519b5a6",
   "metadata": {},
   "outputs": [
    {
     "data": {
      "text/plain": [
       "0"
      ]
     },
     "execution_count": 18,
     "metadata": {},
     "output_type": "execute_result"
    }
   ],
   "source": [
    "matches.duplicated().sum()"
   ]
  },
  {
   "cell_type": "code",
   "execution_count": 20,
   "id": "a281c812",
   "metadata": {},
   "outputs": [
    {
     "data": {
      "text/plain": [
       "0"
      ]
     },
     "execution_count": 20,
     "metadata": {},
     "output_type": "execute_result"
    }
   ],
   "source": [
    "world_cup.duplicated().sum()"
   ]
  },
  {
   "cell_type": "code",
   "execution_count": 21,
   "id": "8048e273",
   "metadata": {},
   "outputs": [
    {
     "data": {
      "text/plain": [
       "0"
      ]
     },
     "execution_count": 21,
     "metadata": {},
     "output_type": "execute_result"
    }
   ],
   "source": [
    "world_ranking.duplicated().sum()"
   ]
  },
  {
   "cell_type": "code",
   "execution_count": 25,
   "id": "22e9545d",
   "metadata": {},
   "outputs": [
    {
     "data": {
      "text/plain": [
       "array(['Argentina', 'Croatia', 'France', 'Morocco', 'England',\n",
       "       'Netherlands', 'Portugal', 'Japan', 'Brazil', 'Korea Republic',\n",
       "       'Ghana', 'Cameroon', 'Serbia', 'Canada', 'Costa Rica', 'Australia',\n",
       "       'Tunisia', 'Saudi Arabia', 'Poland', 'Ecuador', 'IR Iran', 'Wales',\n",
       "       'Belgium', 'Spain', 'Qatar', 'Switzerland', 'Uruguay', 'Germany',\n",
       "       'Denmark', 'Mexico', 'Senegal', 'United States', 'Sweden',\n",
       "       'Russia', 'Colombia', 'Panama', 'Iceland', 'Nigeria', 'Peru',\n",
       "       'Egypt', 'Algeria', 'Bosnia and Herzegovina', 'Honduras', 'Italy',\n",
       "       'Greece', \"Côte d'Ivoire\", 'Chile', 'Paraguay', 'Korea DPR',\n",
       "       'Slovakia', 'Slovenia', 'South Africa', 'New Zealand', 'Ukraine',\n",
       "       'Togo', 'Czech Republic', 'Serbia and Montenegro', 'Angola',\n",
       "       'Trinidad and Tobago', 'Türkiye', 'China PR',\n",
       "       'Republic of Ireland', 'Romania', 'Scotland', 'FR Yugoslavia',\n",
       "       'Jamaica', 'Bulgaria', 'Bolivia', 'Norway', 'West Germany',\n",
       "       'Yugoslavia', 'Czechoslovakia', 'Austria', 'United Arab Emirates',\n",
       "       'Soviet Union', 'Northern Ireland', 'Iraq', 'Hungary',\n",
       "       'Germany DR', 'Zaire', 'Haiti', 'Cuba'], dtype=object)"
      ]
     },
     "execution_count": 25,
     "metadata": {},
     "output_type": "execute_result"
    }
   ],
   "source": [
    "matches['home_team'].unique()"
   ]
  },
  {
   "cell_type": "code",
   "execution_count": 26,
   "id": "5fe60aed",
   "metadata": {},
   "outputs": [],
   "source": [
    "matches['home_team']=matches['home_team'].apply(lambda x: x.replace('Germany Dr','West Germany'))\n",
    "matches['away_team']=matches['away_team'].apply(lambda x: x.replace('Germany Dr','West Germany'))"
   ]
  },
  {
   "cell_type": "code",
   "execution_count": 28,
   "id": "a0e337d4",
   "metadata": {},
   "outputs": [
    {
     "name": "stdout",
     "output_type": "stream",
     "text": [
      "Total Number of matches : 964\n",
      "Total goals scored: 2720\n",
      "Average goals scored per match: 2.8215767634854774\n",
      "Total attendance Over time: 44048413\n",
      "Average aattendance Over time: 45693.3744813278\n"
     ]
    }
   ],
   "source": [
    "# Total number of matches played till 2022.\n",
    "print(f'Total Number of matches : {len(matches)}')\n",
    "# Total goals Scored (penalty Goals).\n",
    "print(f\"Total goals scored: {sum(matches['home_score'] + matches['away_score'])}\")\n",
    "#Average Goals Scored Per match.\n",
    "print(f\"Average goals scored per match: {sum(matches['home_score'] + matches['away_score'])/len(matches)}\")\n",
    "#Total attendance Over time.\n",
    "print(f\"Total attendance Over time: {sum(matches['Attendance'])}\")\n",
    "#Average aattendance Over time.\n",
    "print(f\"Average aattendance Over time: {sum(matches['Attendance'])/len(matches)}\")"
   ]
  },
  {
   "cell_type": "code",
   "execution_count": 31,
   "id": "9780eb40",
   "metadata": {},
   "outputs": [],
   "source": [
    "winner=world_cup['Champion'].value_counts().reset_index()"
   ]
  },
  {
   "cell_type": "code",
   "execution_count": 40,
   "id": "c6a76453",
   "metadata": {},
   "outputs": [
    {
     "data": {
      "application/vnd.plotly.v1+json": {
       "config": {
        "plotlyServerURL": "https://plot.ly"
       },
       "data": [
        {
         "domain": {
          "x": [
           0,
           1
          ],
          "y": [
           0,
           1
          ]
         },
         "hovertemplate": "Champion=%{label}<br>count=%{value}<extra></extra>",
         "labels": [
          "Brazil",
          "Italy",
          "Argentina",
          "France",
          "Germany",
          "West Germany",
          "Uruguay",
          "Spain",
          "England"
         ],
         "legendgroup": "",
         "name": "",
         "showlegend": true,
         "textinfo": "label+value",
         "type": "pie",
         "values": [
          5,
          4,
          3,
          2,
          2,
          2,
          2,
          1,
          1
         ]
        }
       ],
       "layout": {
        "legend": {
         "tracegroupgap": 0
        },
        "template": {
         "data": {
          "bar": [
           {
            "error_x": {
             "color": "#2a3f5f"
            },
            "error_y": {
             "color": "#2a3f5f"
            },
            "marker": {
             "line": {
              "color": "#E5ECF6",
              "width": 0.5
             },
             "pattern": {
              "fillmode": "overlay",
              "size": 10,
              "solidity": 0.2
             }
            },
            "type": "bar"
           }
          ],
          "barpolar": [
           {
            "marker": {
             "line": {
              "color": "#E5ECF6",
              "width": 0.5
             },
             "pattern": {
              "fillmode": "overlay",
              "size": 10,
              "solidity": 0.2
             }
            },
            "type": "barpolar"
           }
          ],
          "carpet": [
           {
            "aaxis": {
             "endlinecolor": "#2a3f5f",
             "gridcolor": "white",
             "linecolor": "white",
             "minorgridcolor": "white",
             "startlinecolor": "#2a3f5f"
            },
            "baxis": {
             "endlinecolor": "#2a3f5f",
             "gridcolor": "white",
             "linecolor": "white",
             "minorgridcolor": "white",
             "startlinecolor": "#2a3f5f"
            },
            "type": "carpet"
           }
          ],
          "choropleth": [
           {
            "colorbar": {
             "outlinewidth": 0,
             "ticks": ""
            },
            "type": "choropleth"
           }
          ],
          "contour": [
           {
            "colorbar": {
             "outlinewidth": 0,
             "ticks": ""
            },
            "colorscale": [
             [
              0,
              "#0d0887"
             ],
             [
              0.1111111111111111,
              "#46039f"
             ],
             [
              0.2222222222222222,
              "#7201a8"
             ],
             [
              0.3333333333333333,
              "#9c179e"
             ],
             [
              0.4444444444444444,
              "#bd3786"
             ],
             [
              0.5555555555555556,
              "#d8576b"
             ],
             [
              0.6666666666666666,
              "#ed7953"
             ],
             [
              0.7777777777777778,
              "#fb9f3a"
             ],
             [
              0.8888888888888888,
              "#fdca26"
             ],
             [
              1,
              "#f0f921"
             ]
            ],
            "type": "contour"
           }
          ],
          "contourcarpet": [
           {
            "colorbar": {
             "outlinewidth": 0,
             "ticks": ""
            },
            "type": "contourcarpet"
           }
          ],
          "heatmap": [
           {
            "colorbar": {
             "outlinewidth": 0,
             "ticks": ""
            },
            "colorscale": [
             [
              0,
              "#0d0887"
             ],
             [
              0.1111111111111111,
              "#46039f"
             ],
             [
              0.2222222222222222,
              "#7201a8"
             ],
             [
              0.3333333333333333,
              "#9c179e"
             ],
             [
              0.4444444444444444,
              "#bd3786"
             ],
             [
              0.5555555555555556,
              "#d8576b"
             ],
             [
              0.6666666666666666,
              "#ed7953"
             ],
             [
              0.7777777777777778,
              "#fb9f3a"
             ],
             [
              0.8888888888888888,
              "#fdca26"
             ],
             [
              1,
              "#f0f921"
             ]
            ],
            "type": "heatmap"
           }
          ],
          "heatmapgl": [
           {
            "colorbar": {
             "outlinewidth": 0,
             "ticks": ""
            },
            "colorscale": [
             [
              0,
              "#0d0887"
             ],
             [
              0.1111111111111111,
              "#46039f"
             ],
             [
              0.2222222222222222,
              "#7201a8"
             ],
             [
              0.3333333333333333,
              "#9c179e"
             ],
             [
              0.4444444444444444,
              "#bd3786"
             ],
             [
              0.5555555555555556,
              "#d8576b"
             ],
             [
              0.6666666666666666,
              "#ed7953"
             ],
             [
              0.7777777777777778,
              "#fb9f3a"
             ],
             [
              0.8888888888888888,
              "#fdca26"
             ],
             [
              1,
              "#f0f921"
             ]
            ],
            "type": "heatmapgl"
           }
          ],
          "histogram": [
           {
            "marker": {
             "pattern": {
              "fillmode": "overlay",
              "size": 10,
              "solidity": 0.2
             }
            },
            "type": "histogram"
           }
          ],
          "histogram2d": [
           {
            "colorbar": {
             "outlinewidth": 0,
             "ticks": ""
            },
            "colorscale": [
             [
              0,
              "#0d0887"
             ],
             [
              0.1111111111111111,
              "#46039f"
             ],
             [
              0.2222222222222222,
              "#7201a8"
             ],
             [
              0.3333333333333333,
              "#9c179e"
             ],
             [
              0.4444444444444444,
              "#bd3786"
             ],
             [
              0.5555555555555556,
              "#d8576b"
             ],
             [
              0.6666666666666666,
              "#ed7953"
             ],
             [
              0.7777777777777778,
              "#fb9f3a"
             ],
             [
              0.8888888888888888,
              "#fdca26"
             ],
             [
              1,
              "#f0f921"
             ]
            ],
            "type": "histogram2d"
           }
          ],
          "histogram2dcontour": [
           {
            "colorbar": {
             "outlinewidth": 0,
             "ticks": ""
            },
            "colorscale": [
             [
              0,
              "#0d0887"
             ],
             [
              0.1111111111111111,
              "#46039f"
             ],
             [
              0.2222222222222222,
              "#7201a8"
             ],
             [
              0.3333333333333333,
              "#9c179e"
             ],
             [
              0.4444444444444444,
              "#bd3786"
             ],
             [
              0.5555555555555556,
              "#d8576b"
             ],
             [
              0.6666666666666666,
              "#ed7953"
             ],
             [
              0.7777777777777778,
              "#fb9f3a"
             ],
             [
              0.8888888888888888,
              "#fdca26"
             ],
             [
              1,
              "#f0f921"
             ]
            ],
            "type": "histogram2dcontour"
           }
          ],
          "mesh3d": [
           {
            "colorbar": {
             "outlinewidth": 0,
             "ticks": ""
            },
            "type": "mesh3d"
           }
          ],
          "parcoords": [
           {
            "line": {
             "colorbar": {
              "outlinewidth": 0,
              "ticks": ""
             }
            },
            "type": "parcoords"
           }
          ],
          "pie": [
           {
            "automargin": true,
            "type": "pie"
           }
          ],
          "scatter": [
           {
            "fillpattern": {
             "fillmode": "overlay",
             "size": 10,
             "solidity": 0.2
            },
            "type": "scatter"
           }
          ],
          "scatter3d": [
           {
            "line": {
             "colorbar": {
              "outlinewidth": 0,
              "ticks": ""
             }
            },
            "marker": {
             "colorbar": {
              "outlinewidth": 0,
              "ticks": ""
             }
            },
            "type": "scatter3d"
           }
          ],
          "scattercarpet": [
           {
            "marker": {
             "colorbar": {
              "outlinewidth": 0,
              "ticks": ""
             }
            },
            "type": "scattercarpet"
           }
          ],
          "scattergeo": [
           {
            "marker": {
             "colorbar": {
              "outlinewidth": 0,
              "ticks": ""
             }
            },
            "type": "scattergeo"
           }
          ],
          "scattergl": [
           {
            "marker": {
             "colorbar": {
              "outlinewidth": 0,
              "ticks": ""
             }
            },
            "type": "scattergl"
           }
          ],
          "scattermapbox": [
           {
            "marker": {
             "colorbar": {
              "outlinewidth": 0,
              "ticks": ""
             }
            },
            "type": "scattermapbox"
           }
          ],
          "scatterpolar": [
           {
            "marker": {
             "colorbar": {
              "outlinewidth": 0,
              "ticks": ""
             }
            },
            "type": "scatterpolar"
           }
          ],
          "scatterpolargl": [
           {
            "marker": {
             "colorbar": {
              "outlinewidth": 0,
              "ticks": ""
             }
            },
            "type": "scatterpolargl"
           }
          ],
          "scatterternary": [
           {
            "marker": {
             "colorbar": {
              "outlinewidth": 0,
              "ticks": ""
             }
            },
            "type": "scatterternary"
           }
          ],
          "surface": [
           {
            "colorbar": {
             "outlinewidth": 0,
             "ticks": ""
            },
            "colorscale": [
             [
              0,
              "#0d0887"
             ],
             [
              0.1111111111111111,
              "#46039f"
             ],
             [
              0.2222222222222222,
              "#7201a8"
             ],
             [
              0.3333333333333333,
              "#9c179e"
             ],
             [
              0.4444444444444444,
              "#bd3786"
             ],
             [
              0.5555555555555556,
              "#d8576b"
             ],
             [
              0.6666666666666666,
              "#ed7953"
             ],
             [
              0.7777777777777778,
              "#fb9f3a"
             ],
             [
              0.8888888888888888,
              "#fdca26"
             ],
             [
              1,
              "#f0f921"
             ]
            ],
            "type": "surface"
           }
          ],
          "table": [
           {
            "cells": {
             "fill": {
              "color": "#EBF0F8"
             },
             "line": {
              "color": "white"
             }
            },
            "header": {
             "fill": {
              "color": "#C8D4E3"
             },
             "line": {
              "color": "white"
             }
            },
            "type": "table"
           }
          ]
         },
         "layout": {
          "annotationdefaults": {
           "arrowcolor": "#2a3f5f",
           "arrowhead": 0,
           "arrowwidth": 1
          },
          "autotypenumbers": "strict",
          "coloraxis": {
           "colorbar": {
            "outlinewidth": 0,
            "ticks": ""
           }
          },
          "colorscale": {
           "diverging": [
            [
             0,
             "#8e0152"
            ],
            [
             0.1,
             "#c51b7d"
            ],
            [
             0.2,
             "#de77ae"
            ],
            [
             0.3,
             "#f1b6da"
            ],
            [
             0.4,
             "#fde0ef"
            ],
            [
             0.5,
             "#f7f7f7"
            ],
            [
             0.6,
             "#e6f5d0"
            ],
            [
             0.7,
             "#b8e186"
            ],
            [
             0.8,
             "#7fbc41"
            ],
            [
             0.9,
             "#4d9221"
            ],
            [
             1,
             "#276419"
            ]
           ],
           "sequential": [
            [
             0,
             "#0d0887"
            ],
            [
             0.1111111111111111,
             "#46039f"
            ],
            [
             0.2222222222222222,
             "#7201a8"
            ],
            [
             0.3333333333333333,
             "#9c179e"
            ],
            [
             0.4444444444444444,
             "#bd3786"
            ],
            [
             0.5555555555555556,
             "#d8576b"
            ],
            [
             0.6666666666666666,
             "#ed7953"
            ],
            [
             0.7777777777777778,
             "#fb9f3a"
            ],
            [
             0.8888888888888888,
             "#fdca26"
            ],
            [
             1,
             "#f0f921"
            ]
           ],
           "sequentialminus": [
            [
             0,
             "#0d0887"
            ],
            [
             0.1111111111111111,
             "#46039f"
            ],
            [
             0.2222222222222222,
             "#7201a8"
            ],
            [
             0.3333333333333333,
             "#9c179e"
            ],
            [
             0.4444444444444444,
             "#bd3786"
            ],
            [
             0.5555555555555556,
             "#d8576b"
            ],
            [
             0.6666666666666666,
             "#ed7953"
            ],
            [
             0.7777777777777778,
             "#fb9f3a"
            ],
            [
             0.8888888888888888,
             "#fdca26"
            ],
            [
             1,
             "#f0f921"
            ]
           ]
          },
          "colorway": [
           "#636efa",
           "#EF553B",
           "#00cc96",
           "#ab63fa",
           "#FFA15A",
           "#19d3f3",
           "#FF6692",
           "#B6E880",
           "#FF97FF",
           "#FECB52"
          ],
          "font": {
           "color": "#2a3f5f"
          },
          "geo": {
           "bgcolor": "white",
           "lakecolor": "white",
           "landcolor": "#E5ECF6",
           "showlakes": true,
           "showland": true,
           "subunitcolor": "white"
          },
          "hoverlabel": {
           "align": "left"
          },
          "hovermode": "closest",
          "mapbox": {
           "style": "light"
          },
          "paper_bgcolor": "white",
          "plot_bgcolor": "#E5ECF6",
          "polar": {
           "angularaxis": {
            "gridcolor": "white",
            "linecolor": "white",
            "ticks": ""
           },
           "bgcolor": "#E5ECF6",
           "radialaxis": {
            "gridcolor": "white",
            "linecolor": "white",
            "ticks": ""
           }
          },
          "scene": {
           "xaxis": {
            "backgroundcolor": "#E5ECF6",
            "gridcolor": "white",
            "gridwidth": 2,
            "linecolor": "white",
            "showbackground": true,
            "ticks": "",
            "zerolinecolor": "white"
           },
           "yaxis": {
            "backgroundcolor": "#E5ECF6",
            "gridcolor": "white",
            "gridwidth": 2,
            "linecolor": "white",
            "showbackground": true,
            "ticks": "",
            "zerolinecolor": "white"
           },
           "zaxis": {
            "backgroundcolor": "#E5ECF6",
            "gridcolor": "white",
            "gridwidth": 2,
            "linecolor": "white",
            "showbackground": true,
            "ticks": "",
            "zerolinecolor": "white"
           }
          },
          "shapedefaults": {
           "line": {
            "color": "#2a3f5f"
           }
          },
          "ternary": {
           "aaxis": {
            "gridcolor": "white",
            "linecolor": "white",
            "ticks": ""
           },
           "baxis": {
            "gridcolor": "white",
            "linecolor": "white",
            "ticks": ""
           },
           "bgcolor": "#E5ECF6",
           "caxis": {
            "gridcolor": "white",
            "linecolor": "white",
            "ticks": ""
           }
          },
          "title": {
           "x": 0.05
          },
          "xaxis": {
           "automargin": true,
           "gridcolor": "white",
           "linecolor": "white",
           "ticks": "",
           "title": {
            "standoff": 15
           },
           "zerolinecolor": "white",
           "zerolinewidth": 2
          },
          "yaxis": {
           "automargin": true,
           "gridcolor": "white",
           "linecolor": "white",
           "ticks": "",
           "title": {
            "standoff": 15
           },
           "zerolinecolor": "white",
           "zerolinewidth": 2
          }
         }
        },
        "title": {
         "text": "No of times a country won Fifa World Cup"
        }
       }
      },
      "text/html": [
       "<div>                            <div id=\"86f64fc0-6854-4cde-b5fb-f1e1a8328855\" class=\"plotly-graph-div\" style=\"height:525px; width:100%;\"></div>            <script type=\"text/javascript\">                require([\"plotly\"], function(Plotly) {                    window.PLOTLYENV=window.PLOTLYENV || {};                                    if (document.getElementById(\"86f64fc0-6854-4cde-b5fb-f1e1a8328855\")) {                    Plotly.newPlot(                        \"86f64fc0-6854-4cde-b5fb-f1e1a8328855\",                        [{\"domain\":{\"x\":[0.0,1.0],\"y\":[0.0,1.0]},\"hovertemplate\":\"Champion=%{label}<br>count=%{value}<extra></extra>\",\"labels\":[\"Brazil\",\"Italy\",\"Argentina\",\"France\",\"Germany\",\"West Germany\",\"Uruguay\",\"Spain\",\"England\"],\"legendgroup\":\"\",\"name\":\"\",\"showlegend\":true,\"values\":[5,4,3,2,2,2,2,1,1],\"type\":\"pie\",\"textinfo\":\"label+value\"}],                        {\"template\":{\"data\":{\"histogram2dcontour\":[{\"type\":\"histogram2dcontour\",\"colorbar\":{\"outlinewidth\":0,\"ticks\":\"\"},\"colorscale\":[[0.0,\"#0d0887\"],[0.1111111111111111,\"#46039f\"],[0.2222222222222222,\"#7201a8\"],[0.3333333333333333,\"#9c179e\"],[0.4444444444444444,\"#bd3786\"],[0.5555555555555556,\"#d8576b\"],[0.6666666666666666,\"#ed7953\"],[0.7777777777777778,\"#fb9f3a\"],[0.8888888888888888,\"#fdca26\"],[1.0,\"#f0f921\"]]}],\"choropleth\":[{\"type\":\"choropleth\",\"colorbar\":{\"outlinewidth\":0,\"ticks\":\"\"}}],\"histogram2d\":[{\"type\":\"histogram2d\",\"colorbar\":{\"outlinewidth\":0,\"ticks\":\"\"},\"colorscale\":[[0.0,\"#0d0887\"],[0.1111111111111111,\"#46039f\"],[0.2222222222222222,\"#7201a8\"],[0.3333333333333333,\"#9c179e\"],[0.4444444444444444,\"#bd3786\"],[0.5555555555555556,\"#d8576b\"],[0.6666666666666666,\"#ed7953\"],[0.7777777777777778,\"#fb9f3a\"],[0.8888888888888888,\"#fdca26\"],[1.0,\"#f0f921\"]]}],\"heatmap\":[{\"type\":\"heatmap\",\"colorbar\":{\"outlinewidth\":0,\"ticks\":\"\"},\"colorscale\":[[0.0,\"#0d0887\"],[0.1111111111111111,\"#46039f\"],[0.2222222222222222,\"#7201a8\"],[0.3333333333333333,\"#9c179e\"],[0.4444444444444444,\"#bd3786\"],[0.5555555555555556,\"#d8576b\"],[0.6666666666666666,\"#ed7953\"],[0.7777777777777778,\"#fb9f3a\"],[0.8888888888888888,\"#fdca26\"],[1.0,\"#f0f921\"]]}],\"heatmapgl\":[{\"type\":\"heatmapgl\",\"colorbar\":{\"outlinewidth\":0,\"ticks\":\"\"},\"colorscale\":[[0.0,\"#0d0887\"],[0.1111111111111111,\"#46039f\"],[0.2222222222222222,\"#7201a8\"],[0.3333333333333333,\"#9c179e\"],[0.4444444444444444,\"#bd3786\"],[0.5555555555555556,\"#d8576b\"],[0.6666666666666666,\"#ed7953\"],[0.7777777777777778,\"#fb9f3a\"],[0.8888888888888888,\"#fdca26\"],[1.0,\"#f0f921\"]]}],\"contourcarpet\":[{\"type\":\"contourcarpet\",\"colorbar\":{\"outlinewidth\":0,\"ticks\":\"\"}}],\"contour\":[{\"type\":\"contour\",\"colorbar\":{\"outlinewidth\":0,\"ticks\":\"\"},\"colorscale\":[[0.0,\"#0d0887\"],[0.1111111111111111,\"#46039f\"],[0.2222222222222222,\"#7201a8\"],[0.3333333333333333,\"#9c179e\"],[0.4444444444444444,\"#bd3786\"],[0.5555555555555556,\"#d8576b\"],[0.6666666666666666,\"#ed7953\"],[0.7777777777777778,\"#fb9f3a\"],[0.8888888888888888,\"#fdca26\"],[1.0,\"#f0f921\"]]}],\"surface\":[{\"type\":\"surface\",\"colorbar\":{\"outlinewidth\":0,\"ticks\":\"\"},\"colorscale\":[[0.0,\"#0d0887\"],[0.1111111111111111,\"#46039f\"],[0.2222222222222222,\"#7201a8\"],[0.3333333333333333,\"#9c179e\"],[0.4444444444444444,\"#bd3786\"],[0.5555555555555556,\"#d8576b\"],[0.6666666666666666,\"#ed7953\"],[0.7777777777777778,\"#fb9f3a\"],[0.8888888888888888,\"#fdca26\"],[1.0,\"#f0f921\"]]}],\"mesh3d\":[{\"type\":\"mesh3d\",\"colorbar\":{\"outlinewidth\":0,\"ticks\":\"\"}}],\"scatter\":[{\"fillpattern\":{\"fillmode\":\"overlay\",\"size\":10,\"solidity\":0.2},\"type\":\"scatter\"}],\"parcoords\":[{\"type\":\"parcoords\",\"line\":{\"colorbar\":{\"outlinewidth\":0,\"ticks\":\"\"}}}],\"scatterpolargl\":[{\"type\":\"scatterpolargl\",\"marker\":{\"colorbar\":{\"outlinewidth\":0,\"ticks\":\"\"}}}],\"bar\":[{\"error_x\":{\"color\":\"#2a3f5f\"},\"error_y\":{\"color\":\"#2a3f5f\"},\"marker\":{\"line\":{\"color\":\"#E5ECF6\",\"width\":0.5},\"pattern\":{\"fillmode\":\"overlay\",\"size\":10,\"solidity\":0.2}},\"type\":\"bar\"}],\"scattergeo\":[{\"type\":\"scattergeo\",\"marker\":{\"colorbar\":{\"outlinewidth\":0,\"ticks\":\"\"}}}],\"scatterpolar\":[{\"type\":\"scatterpolar\",\"marker\":{\"colorbar\":{\"outlinewidth\":0,\"ticks\":\"\"}}}],\"histogram\":[{\"marker\":{\"pattern\":{\"fillmode\":\"overlay\",\"size\":10,\"solidity\":0.2}},\"type\":\"histogram\"}],\"scattergl\":[{\"type\":\"scattergl\",\"marker\":{\"colorbar\":{\"outlinewidth\":0,\"ticks\":\"\"}}}],\"scatter3d\":[{\"type\":\"scatter3d\",\"line\":{\"colorbar\":{\"outlinewidth\":0,\"ticks\":\"\"}},\"marker\":{\"colorbar\":{\"outlinewidth\":0,\"ticks\":\"\"}}}],\"scattermapbox\":[{\"type\":\"scattermapbox\",\"marker\":{\"colorbar\":{\"outlinewidth\":0,\"ticks\":\"\"}}}],\"scatterternary\":[{\"type\":\"scatterternary\",\"marker\":{\"colorbar\":{\"outlinewidth\":0,\"ticks\":\"\"}}}],\"scattercarpet\":[{\"type\":\"scattercarpet\",\"marker\":{\"colorbar\":{\"outlinewidth\":0,\"ticks\":\"\"}}}],\"carpet\":[{\"aaxis\":{\"endlinecolor\":\"#2a3f5f\",\"gridcolor\":\"white\",\"linecolor\":\"white\",\"minorgridcolor\":\"white\",\"startlinecolor\":\"#2a3f5f\"},\"baxis\":{\"endlinecolor\":\"#2a3f5f\",\"gridcolor\":\"white\",\"linecolor\":\"white\",\"minorgridcolor\":\"white\",\"startlinecolor\":\"#2a3f5f\"},\"type\":\"carpet\"}],\"table\":[{\"cells\":{\"fill\":{\"color\":\"#EBF0F8\"},\"line\":{\"color\":\"white\"}},\"header\":{\"fill\":{\"color\":\"#C8D4E3\"},\"line\":{\"color\":\"white\"}},\"type\":\"table\"}],\"barpolar\":[{\"marker\":{\"line\":{\"color\":\"#E5ECF6\",\"width\":0.5},\"pattern\":{\"fillmode\":\"overlay\",\"size\":10,\"solidity\":0.2}},\"type\":\"barpolar\"}],\"pie\":[{\"automargin\":true,\"type\":\"pie\"}]},\"layout\":{\"autotypenumbers\":\"strict\",\"colorway\":[\"#636efa\",\"#EF553B\",\"#00cc96\",\"#ab63fa\",\"#FFA15A\",\"#19d3f3\",\"#FF6692\",\"#B6E880\",\"#FF97FF\",\"#FECB52\"],\"font\":{\"color\":\"#2a3f5f\"},\"hovermode\":\"closest\",\"hoverlabel\":{\"align\":\"left\"},\"paper_bgcolor\":\"white\",\"plot_bgcolor\":\"#E5ECF6\",\"polar\":{\"bgcolor\":\"#E5ECF6\",\"angularaxis\":{\"gridcolor\":\"white\",\"linecolor\":\"white\",\"ticks\":\"\"},\"radialaxis\":{\"gridcolor\":\"white\",\"linecolor\":\"white\",\"ticks\":\"\"}},\"ternary\":{\"bgcolor\":\"#E5ECF6\",\"aaxis\":{\"gridcolor\":\"white\",\"linecolor\":\"white\",\"ticks\":\"\"},\"baxis\":{\"gridcolor\":\"white\",\"linecolor\":\"white\",\"ticks\":\"\"},\"caxis\":{\"gridcolor\":\"white\",\"linecolor\":\"white\",\"ticks\":\"\"}},\"coloraxis\":{\"colorbar\":{\"outlinewidth\":0,\"ticks\":\"\"}},\"colorscale\":{\"sequential\":[[0.0,\"#0d0887\"],[0.1111111111111111,\"#46039f\"],[0.2222222222222222,\"#7201a8\"],[0.3333333333333333,\"#9c179e\"],[0.4444444444444444,\"#bd3786\"],[0.5555555555555556,\"#d8576b\"],[0.6666666666666666,\"#ed7953\"],[0.7777777777777778,\"#fb9f3a\"],[0.8888888888888888,\"#fdca26\"],[1.0,\"#f0f921\"]],\"sequentialminus\":[[0.0,\"#0d0887\"],[0.1111111111111111,\"#46039f\"],[0.2222222222222222,\"#7201a8\"],[0.3333333333333333,\"#9c179e\"],[0.4444444444444444,\"#bd3786\"],[0.5555555555555556,\"#d8576b\"],[0.6666666666666666,\"#ed7953\"],[0.7777777777777778,\"#fb9f3a\"],[0.8888888888888888,\"#fdca26\"],[1.0,\"#f0f921\"]],\"diverging\":[[0,\"#8e0152\"],[0.1,\"#c51b7d\"],[0.2,\"#de77ae\"],[0.3,\"#f1b6da\"],[0.4,\"#fde0ef\"],[0.5,\"#f7f7f7\"],[0.6,\"#e6f5d0\"],[0.7,\"#b8e186\"],[0.8,\"#7fbc41\"],[0.9,\"#4d9221\"],[1,\"#276419\"]]},\"xaxis\":{\"gridcolor\":\"white\",\"linecolor\":\"white\",\"ticks\":\"\",\"title\":{\"standoff\":15},\"zerolinecolor\":\"white\",\"automargin\":true,\"zerolinewidth\":2},\"yaxis\":{\"gridcolor\":\"white\",\"linecolor\":\"white\",\"ticks\":\"\",\"title\":{\"standoff\":15},\"zerolinecolor\":\"white\",\"automargin\":true,\"zerolinewidth\":2},\"scene\":{\"xaxis\":{\"backgroundcolor\":\"#E5ECF6\",\"gridcolor\":\"white\",\"linecolor\":\"white\",\"showbackground\":true,\"ticks\":\"\",\"zerolinecolor\":\"white\",\"gridwidth\":2},\"yaxis\":{\"backgroundcolor\":\"#E5ECF6\",\"gridcolor\":\"white\",\"linecolor\":\"white\",\"showbackground\":true,\"ticks\":\"\",\"zerolinecolor\":\"white\",\"gridwidth\":2},\"zaxis\":{\"backgroundcolor\":\"#E5ECF6\",\"gridcolor\":\"white\",\"linecolor\":\"white\",\"showbackground\":true,\"ticks\":\"\",\"zerolinecolor\":\"white\",\"gridwidth\":2}},\"shapedefaults\":{\"line\":{\"color\":\"#2a3f5f\"}},\"annotationdefaults\":{\"arrowcolor\":\"#2a3f5f\",\"arrowhead\":0,\"arrowwidth\":1},\"geo\":{\"bgcolor\":\"white\",\"landcolor\":\"#E5ECF6\",\"subunitcolor\":\"white\",\"showland\":true,\"showlakes\":true,\"lakecolor\":\"white\"},\"title\":{\"x\":0.05},\"mapbox\":{\"style\":\"light\"}}},\"legend\":{\"tracegroupgap\":0},\"title\":{\"text\":\"No of times a country won Fifa World Cup\"}},                        {\"responsive\": true}                    ).then(function(){\n",
       "                            \n",
       "var gd = document.getElementById('86f64fc0-6854-4cde-b5fb-f1e1a8328855');\n",
       "var x = new MutationObserver(function (mutations, observer) {{\n",
       "        var display = window.getComputedStyle(gd).display;\n",
       "        if (!display || display === 'none') {{\n",
       "            console.log([gd, 'removed!']);\n",
       "            Plotly.purge(gd);\n",
       "            observer.disconnect();\n",
       "        }}\n",
       "}});\n",
       "\n",
       "// Listen for the removal of the full notebook cells\n",
       "var notebookContainer = gd.closest('#notebook-container');\n",
       "if (notebookContainer) {{\n",
       "    x.observe(notebookContainer, {childList: true});\n",
       "}}\n",
       "\n",
       "// Listen for the clearing of the current output cell\n",
       "var outputEl = gd.closest('.output');\n",
       "if (outputEl) {{\n",
       "    x.observe(outputEl, {childList: true});\n",
       "}}\n",
       "\n",
       "                        })                };                });            </script>        </div>"
      ]
     },
     "metadata": {},
     "output_type": "display_data"
    }
   ],
   "source": [
    "fig=px.pie(winner,values='count',names='Champion',title='No of times a country won Fifa World Cup')\n",
    "fig.update_traces(textinfo='label+value')\n",
    "fig.show()"
   ]
  },
  {
   "cell_type": "code",
   "execution_count": 41,
   "id": "7ce4d4cd",
   "metadata": {},
   "outputs": [
    {
     "data": {
      "text/plain": [
       "array(['Final', 'Third-place match', 'Semi-finals', 'Quarter-finals',\n",
       "       'Round of 16', 'Group stage', 'Second group stage',\n",
       "       'First group stage', 'Second round', 'First round',\n",
       "       'Group stage play-off', 'Final stage'], dtype=object)"
      ]
     },
     "execution_count": 41,
     "metadata": {},
     "output_type": "execute_result"
    }
   ],
   "source": [
    "matches['Round'].unique()"
   ]
  },
  {
   "cell_type": "code",
   "execution_count": 42,
   "id": "9ff71b9e",
   "metadata": {},
   "outputs": [
    {
     "name": "stderr",
     "output_type": "stream",
     "text": [
      "C:\\Users\\HP\\AppData\\Local\\Temp\\ipykernel_23452\\1052824360.py:1: FutureWarning:\n",
      "\n",
      "A value is trying to be set on a copy of a DataFrame or Series through chained assignment using an inplace method.\n",
      "The behavior will change in pandas 3.0. This inplace method will never work because the intermediate object on which we are setting values always behaves as a copy.\n",
      "\n",
      "For example, when doing 'df[col].method(value, inplace=True)', try using 'df.method({col: value}, inplace=True)' or df[col] = df[col].method(value) instead, to perform the operation inplace on the original object.\n",
      "\n",
      "\n",
      "\n",
      "C:\\Users\\HP\\AppData\\Local\\Temp\\ipykernel_23452\\1052824360.py:2: FutureWarning:\n",
      "\n",
      "A value is trying to be set on a copy of a DataFrame or Series through chained assignment using an inplace method.\n",
      "The behavior will change in pandas 3.0. This inplace method will never work because the intermediate object on which we are setting values always behaves as a copy.\n",
      "\n",
      "For example, when doing 'df[col].method(value, inplace=True)', try using 'df.method({col: value}, inplace=True)' or df[col] = df[col].method(value) instead, to perform the operation inplace on the original object.\n",
      "\n",
      "\n",
      "\n"
     ]
    }
   ],
   "source": [
    "matches['home_penalty'].fillna(0, inplace=True)\n",
    "matches['away_penalty'].fillna(0, inplace=True)"
   ]
  },
  {
   "cell_type": "code",
   "execution_count": 43,
   "id": "d8e309ed",
   "metadata": {},
   "outputs": [],
   "source": [
    "matches['h_total']= matches['home_score'] + matches['home_penalty']\n",
    "matches['a_total']= matches['away_score'] + matches['away_penalty']"
   ]
  },
  {
   "cell_type": "code",
   "execution_count": 44,
   "id": "5b5afa80",
   "metadata": {},
   "outputs": [],
   "source": [
    "Runner = matches[matches['Round']=='Final']\n",
    "Third = matches[matches['Round']=='Third-place match']"
   ]
  },
  {
   "cell_type": "code",
   "execution_count": 45,
   "id": "d8cb6bea",
   "metadata": {},
   "outputs": [],
   "source": [
    "def get_runner_up(row):\n",
    "    if row['h_total']>row['a_total']:\n",
    "        return row['away_team']\n",
    "    else:\n",
    "        return row['home_team']\n",
    "    \n",
    "def get_third_up(row):\n",
    "    if row['h_total']>row['a_total']:\n",
    "        return row['home_team']\n",
    "    else:\n",
    "        return row['away_team']\n",
    "    "
   ]
  },
  {
   "cell_type": "code",
   "execution_count": 46,
   "id": "294c35a5",
   "metadata": {},
   "outputs": [
    {
     "name": "stderr",
     "output_type": "stream",
     "text": [
      "C:\\Users\\HP\\AppData\\Local\\Temp\\ipykernel_23452\\3479981824.py:1: SettingWithCopyWarning:\n",
      "\n",
      "\n",
      "A value is trying to be set on a copy of a slice from a DataFrame.\n",
      "Try using .loc[row_indexer,col_indexer] = value instead\n",
      "\n",
      "See the caveats in the documentation: https://pandas.pydata.org/pandas-docs/stable/user_guide/indexing.html#returning-a-view-versus-a-copy\n",
      "\n",
      "C:\\Users\\HP\\AppData\\Local\\Temp\\ipykernel_23452\\3479981824.py:2: SettingWithCopyWarning:\n",
      "\n",
      "\n",
      "A value is trying to be set on a copy of a slice from a DataFrame.\n",
      "Try using .loc[row_indexer,col_indexer] = value instead\n",
      "\n",
      "See the caveats in the documentation: https://pandas.pydata.org/pandas-docs/stable/user_guide/indexing.html#returning-a-view-versus-a-copy\n",
      "\n"
     ]
    }
   ],
   "source": [
    "Runner['Runner_up'] = Runner.apply(get_runner_up, axis=1)\n",
    "Third['Third_place'] = Third.apply(get_third_up, axis=1)"
   ]
  },
  {
   "cell_type": "code",
   "execution_count": 49,
   "id": "f17f431b",
   "metadata": {},
   "outputs": [
    {
     "data": {
      "text/plain": [
       "Runner_up\n",
       "Argentina         3\n",
       "Netherlands       3\n",
       "West Germany      3\n",
       "France            2\n",
       "Italy             2\n",
       "Czechoslovakia    2\n",
       "Hungary           2\n",
       "Croatia           1\n",
       "Germany           1\n",
       "Brazil            1\n",
       "Sweden            1\n",
       "Name: count, dtype: int64"
      ]
     },
     "execution_count": 49,
     "metadata": {},
     "output_type": "execute_result"
    }
   ],
   "source": [
    "Runner['Runner_up'].value_counts()"
   ]
  },
  {
   "cell_type": "code",
   "execution_count": 53,
   "id": "139f617a",
   "metadata": {},
   "outputs": [],
   "source": [
    "trace1=go.Bar(x=Runner['Runner_up'].value_counts().index,y=Runner['Runner_up'].value_counts(),name= 'First Runner Up')\n",
    "trace2= go.Bar(x=Third['Third_place'].value_counts().index, y=Third['Third_place'].value_counts(), name= 'Second Runner Up')"
   ]
  },
  {
   "cell_type": "code",
   "execution_count": 54,
   "id": "27ef4f70",
   "metadata": {},
   "outputs": [
    {
     "data": {
      "application/vnd.plotly.v1+json": {
       "config": {
        "plotlyServerURL": "https://plot.ly"
       },
       "data": [
        {
         "name": "First Runner Up",
         "type": "bar",
         "x": [
          "Argentina",
          "Netherlands",
          "West Germany",
          "France",
          "Italy",
          "Czechoslovakia",
          "Hungary",
          "Croatia",
          "Germany",
          "Brazil",
          "Sweden"
         ],
         "xaxis": "x",
         "y": [
          3,
          3,
          3,
          2,
          2,
          2,
          2,
          1,
          1,
          1,
          1
         ],
         "yaxis": "y"
        },
        {
         "name": "Second Runner Up",
         "type": "bar",
         "x": [
          "Germany",
          "Croatia",
          "France",
          "Poland",
          "Brazil",
          "Belgium",
          "Netherlands",
          "Türkiye",
          "Sweden",
          "Italy",
          "West Germany",
          "Portugal",
          "Chile",
          "Austria"
         ],
         "xaxis": "x2",
         "y": [
          3,
          2,
          2,
          2,
          2,
          1,
          1,
          1,
          1,
          1,
          1,
          1,
          1,
          1
         ],
         "yaxis": "y2"
        }
       ],
       "layout": {
        "annotations": [
         {
          "font": {
           "size": 16
          },
          "showarrow": false,
          "text": "First Runner Up",
          "x": 0.225,
          "xanchor": "center",
          "xref": "paper",
          "y": 1,
          "yanchor": "bottom",
          "yref": "paper"
         },
         {
          "font": {
           "size": 16
          },
          "showarrow": false,
          "text": "Second Runner Up",
          "x": 0.775,
          "xanchor": "center",
          "xref": "paper",
          "y": 1,
          "yanchor": "bottom",
          "yref": "paper"
         }
        ],
        "template": {
         "data": {
          "bar": [
           {
            "error_x": {
             "color": "#2a3f5f"
            },
            "error_y": {
             "color": "#2a3f5f"
            },
            "marker": {
             "line": {
              "color": "#E5ECF6",
              "width": 0.5
             },
             "pattern": {
              "fillmode": "overlay",
              "size": 10,
              "solidity": 0.2
             }
            },
            "type": "bar"
           }
          ],
          "barpolar": [
           {
            "marker": {
             "line": {
              "color": "#E5ECF6",
              "width": 0.5
             },
             "pattern": {
              "fillmode": "overlay",
              "size": 10,
              "solidity": 0.2
             }
            },
            "type": "barpolar"
           }
          ],
          "carpet": [
           {
            "aaxis": {
             "endlinecolor": "#2a3f5f",
             "gridcolor": "white",
             "linecolor": "white",
             "minorgridcolor": "white",
             "startlinecolor": "#2a3f5f"
            },
            "baxis": {
             "endlinecolor": "#2a3f5f",
             "gridcolor": "white",
             "linecolor": "white",
             "minorgridcolor": "white",
             "startlinecolor": "#2a3f5f"
            },
            "type": "carpet"
           }
          ],
          "choropleth": [
           {
            "colorbar": {
             "outlinewidth": 0,
             "ticks": ""
            },
            "type": "choropleth"
           }
          ],
          "contour": [
           {
            "colorbar": {
             "outlinewidth": 0,
             "ticks": ""
            },
            "colorscale": [
             [
              0,
              "#0d0887"
             ],
             [
              0.1111111111111111,
              "#46039f"
             ],
             [
              0.2222222222222222,
              "#7201a8"
             ],
             [
              0.3333333333333333,
              "#9c179e"
             ],
             [
              0.4444444444444444,
              "#bd3786"
             ],
             [
              0.5555555555555556,
              "#d8576b"
             ],
             [
              0.6666666666666666,
              "#ed7953"
             ],
             [
              0.7777777777777778,
              "#fb9f3a"
             ],
             [
              0.8888888888888888,
              "#fdca26"
             ],
             [
              1,
              "#f0f921"
             ]
            ],
            "type": "contour"
           }
          ],
          "contourcarpet": [
           {
            "colorbar": {
             "outlinewidth": 0,
             "ticks": ""
            },
            "type": "contourcarpet"
           }
          ],
          "heatmap": [
           {
            "colorbar": {
             "outlinewidth": 0,
             "ticks": ""
            },
            "colorscale": [
             [
              0,
              "#0d0887"
             ],
             [
              0.1111111111111111,
              "#46039f"
             ],
             [
              0.2222222222222222,
              "#7201a8"
             ],
             [
              0.3333333333333333,
              "#9c179e"
             ],
             [
              0.4444444444444444,
              "#bd3786"
             ],
             [
              0.5555555555555556,
              "#d8576b"
             ],
             [
              0.6666666666666666,
              "#ed7953"
             ],
             [
              0.7777777777777778,
              "#fb9f3a"
             ],
             [
              0.8888888888888888,
              "#fdca26"
             ],
             [
              1,
              "#f0f921"
             ]
            ],
            "type": "heatmap"
           }
          ],
          "heatmapgl": [
           {
            "colorbar": {
             "outlinewidth": 0,
             "ticks": ""
            },
            "colorscale": [
             [
              0,
              "#0d0887"
             ],
             [
              0.1111111111111111,
              "#46039f"
             ],
             [
              0.2222222222222222,
              "#7201a8"
             ],
             [
              0.3333333333333333,
              "#9c179e"
             ],
             [
              0.4444444444444444,
              "#bd3786"
             ],
             [
              0.5555555555555556,
              "#d8576b"
             ],
             [
              0.6666666666666666,
              "#ed7953"
             ],
             [
              0.7777777777777778,
              "#fb9f3a"
             ],
             [
              0.8888888888888888,
              "#fdca26"
             ],
             [
              1,
              "#f0f921"
             ]
            ],
            "type": "heatmapgl"
           }
          ],
          "histogram": [
           {
            "marker": {
             "pattern": {
              "fillmode": "overlay",
              "size": 10,
              "solidity": 0.2
             }
            },
            "type": "histogram"
           }
          ],
          "histogram2d": [
           {
            "colorbar": {
             "outlinewidth": 0,
             "ticks": ""
            },
            "colorscale": [
             [
              0,
              "#0d0887"
             ],
             [
              0.1111111111111111,
              "#46039f"
             ],
             [
              0.2222222222222222,
              "#7201a8"
             ],
             [
              0.3333333333333333,
              "#9c179e"
             ],
             [
              0.4444444444444444,
              "#bd3786"
             ],
             [
              0.5555555555555556,
              "#d8576b"
             ],
             [
              0.6666666666666666,
              "#ed7953"
             ],
             [
              0.7777777777777778,
              "#fb9f3a"
             ],
             [
              0.8888888888888888,
              "#fdca26"
             ],
             [
              1,
              "#f0f921"
             ]
            ],
            "type": "histogram2d"
           }
          ],
          "histogram2dcontour": [
           {
            "colorbar": {
             "outlinewidth": 0,
             "ticks": ""
            },
            "colorscale": [
             [
              0,
              "#0d0887"
             ],
             [
              0.1111111111111111,
              "#46039f"
             ],
             [
              0.2222222222222222,
              "#7201a8"
             ],
             [
              0.3333333333333333,
              "#9c179e"
             ],
             [
              0.4444444444444444,
              "#bd3786"
             ],
             [
              0.5555555555555556,
              "#d8576b"
             ],
             [
              0.6666666666666666,
              "#ed7953"
             ],
             [
              0.7777777777777778,
              "#fb9f3a"
             ],
             [
              0.8888888888888888,
              "#fdca26"
             ],
             [
              1,
              "#f0f921"
             ]
            ],
            "type": "histogram2dcontour"
           }
          ],
          "mesh3d": [
           {
            "colorbar": {
             "outlinewidth": 0,
             "ticks": ""
            },
            "type": "mesh3d"
           }
          ],
          "parcoords": [
           {
            "line": {
             "colorbar": {
              "outlinewidth": 0,
              "ticks": ""
             }
            },
            "type": "parcoords"
           }
          ],
          "pie": [
           {
            "automargin": true,
            "type": "pie"
           }
          ],
          "scatter": [
           {
            "fillpattern": {
             "fillmode": "overlay",
             "size": 10,
             "solidity": 0.2
            },
            "type": "scatter"
           }
          ],
          "scatter3d": [
           {
            "line": {
             "colorbar": {
              "outlinewidth": 0,
              "ticks": ""
             }
            },
            "marker": {
             "colorbar": {
              "outlinewidth": 0,
              "ticks": ""
             }
            },
            "type": "scatter3d"
           }
          ],
          "scattercarpet": [
           {
            "marker": {
             "colorbar": {
              "outlinewidth": 0,
              "ticks": ""
             }
            },
            "type": "scattercarpet"
           }
          ],
          "scattergeo": [
           {
            "marker": {
             "colorbar": {
              "outlinewidth": 0,
              "ticks": ""
             }
            },
            "type": "scattergeo"
           }
          ],
          "scattergl": [
           {
            "marker": {
             "colorbar": {
              "outlinewidth": 0,
              "ticks": ""
             }
            },
            "type": "scattergl"
           }
          ],
          "scattermapbox": [
           {
            "marker": {
             "colorbar": {
              "outlinewidth": 0,
              "ticks": ""
             }
            },
            "type": "scattermapbox"
           }
          ],
          "scatterpolar": [
           {
            "marker": {
             "colorbar": {
              "outlinewidth": 0,
              "ticks": ""
             }
            },
            "type": "scatterpolar"
           }
          ],
          "scatterpolargl": [
           {
            "marker": {
             "colorbar": {
              "outlinewidth": 0,
              "ticks": ""
             }
            },
            "type": "scatterpolargl"
           }
          ],
          "scatterternary": [
           {
            "marker": {
             "colorbar": {
              "outlinewidth": 0,
              "ticks": ""
             }
            },
            "type": "scatterternary"
           }
          ],
          "surface": [
           {
            "colorbar": {
             "outlinewidth": 0,
             "ticks": ""
            },
            "colorscale": [
             [
              0,
              "#0d0887"
             ],
             [
              0.1111111111111111,
              "#46039f"
             ],
             [
              0.2222222222222222,
              "#7201a8"
             ],
             [
              0.3333333333333333,
              "#9c179e"
             ],
             [
              0.4444444444444444,
              "#bd3786"
             ],
             [
              0.5555555555555556,
              "#d8576b"
             ],
             [
              0.6666666666666666,
              "#ed7953"
             ],
             [
              0.7777777777777778,
              "#fb9f3a"
             ],
             [
              0.8888888888888888,
              "#fdca26"
             ],
             [
              1,
              "#f0f921"
             ]
            ],
            "type": "surface"
           }
          ],
          "table": [
           {
            "cells": {
             "fill": {
              "color": "#EBF0F8"
             },
             "line": {
              "color": "white"
             }
            },
            "header": {
             "fill": {
              "color": "#C8D4E3"
             },
             "line": {
              "color": "white"
             }
            },
            "type": "table"
           }
          ]
         },
         "layout": {
          "annotationdefaults": {
           "arrowcolor": "#2a3f5f",
           "arrowhead": 0,
           "arrowwidth": 1
          },
          "autotypenumbers": "strict",
          "coloraxis": {
           "colorbar": {
            "outlinewidth": 0,
            "ticks": ""
           }
          },
          "colorscale": {
           "diverging": [
            [
             0,
             "#8e0152"
            ],
            [
             0.1,
             "#c51b7d"
            ],
            [
             0.2,
             "#de77ae"
            ],
            [
             0.3,
             "#f1b6da"
            ],
            [
             0.4,
             "#fde0ef"
            ],
            [
             0.5,
             "#f7f7f7"
            ],
            [
             0.6,
             "#e6f5d0"
            ],
            [
             0.7,
             "#b8e186"
            ],
            [
             0.8,
             "#7fbc41"
            ],
            [
             0.9,
             "#4d9221"
            ],
            [
             1,
             "#276419"
            ]
           ],
           "sequential": [
            [
             0,
             "#0d0887"
            ],
            [
             0.1111111111111111,
             "#46039f"
            ],
            [
             0.2222222222222222,
             "#7201a8"
            ],
            [
             0.3333333333333333,
             "#9c179e"
            ],
            [
             0.4444444444444444,
             "#bd3786"
            ],
            [
             0.5555555555555556,
             "#d8576b"
            ],
            [
             0.6666666666666666,
             "#ed7953"
            ],
            [
             0.7777777777777778,
             "#fb9f3a"
            ],
            [
             0.8888888888888888,
             "#fdca26"
            ],
            [
             1,
             "#f0f921"
            ]
           ],
           "sequentialminus": [
            [
             0,
             "#0d0887"
            ],
            [
             0.1111111111111111,
             "#46039f"
            ],
            [
             0.2222222222222222,
             "#7201a8"
            ],
            [
             0.3333333333333333,
             "#9c179e"
            ],
            [
             0.4444444444444444,
             "#bd3786"
            ],
            [
             0.5555555555555556,
             "#d8576b"
            ],
            [
             0.6666666666666666,
             "#ed7953"
            ],
            [
             0.7777777777777778,
             "#fb9f3a"
            ],
            [
             0.8888888888888888,
             "#fdca26"
            ],
            [
             1,
             "#f0f921"
            ]
           ]
          },
          "colorway": [
           "#636efa",
           "#EF553B",
           "#00cc96",
           "#ab63fa",
           "#FFA15A",
           "#19d3f3",
           "#FF6692",
           "#B6E880",
           "#FF97FF",
           "#FECB52"
          ],
          "font": {
           "color": "#2a3f5f"
          },
          "geo": {
           "bgcolor": "white",
           "lakecolor": "white",
           "landcolor": "#E5ECF6",
           "showlakes": true,
           "showland": true,
           "subunitcolor": "white"
          },
          "hoverlabel": {
           "align": "left"
          },
          "hovermode": "closest",
          "mapbox": {
           "style": "light"
          },
          "paper_bgcolor": "white",
          "plot_bgcolor": "#E5ECF6",
          "polar": {
           "angularaxis": {
            "gridcolor": "white",
            "linecolor": "white",
            "ticks": ""
           },
           "bgcolor": "#E5ECF6",
           "radialaxis": {
            "gridcolor": "white",
            "linecolor": "white",
            "ticks": ""
           }
          },
          "scene": {
           "xaxis": {
            "backgroundcolor": "#E5ECF6",
            "gridcolor": "white",
            "gridwidth": 2,
            "linecolor": "white",
            "showbackground": true,
            "ticks": "",
            "zerolinecolor": "white"
           },
           "yaxis": {
            "backgroundcolor": "#E5ECF6",
            "gridcolor": "white",
            "gridwidth": 2,
            "linecolor": "white",
            "showbackground": true,
            "ticks": "",
            "zerolinecolor": "white"
           },
           "zaxis": {
            "backgroundcolor": "#E5ECF6",
            "gridcolor": "white",
            "gridwidth": 2,
            "linecolor": "white",
            "showbackground": true,
            "ticks": "",
            "zerolinecolor": "white"
           }
          },
          "shapedefaults": {
           "line": {
            "color": "#2a3f5f"
           }
          },
          "ternary": {
           "aaxis": {
            "gridcolor": "white",
            "linecolor": "white",
            "ticks": ""
           },
           "baxis": {
            "gridcolor": "white",
            "linecolor": "white",
            "ticks": ""
           },
           "bgcolor": "#E5ECF6",
           "caxis": {
            "gridcolor": "white",
            "linecolor": "white",
            "ticks": ""
           }
          },
          "title": {
           "x": 0.05
          },
          "xaxis": {
           "automargin": true,
           "gridcolor": "white",
           "linecolor": "white",
           "ticks": "",
           "title": {
            "standoff": 15
           },
           "zerolinecolor": "white",
           "zerolinewidth": 2
          },
          "yaxis": {
           "automargin": true,
           "gridcolor": "white",
           "linecolor": "white",
           "ticks": "",
           "title": {
            "standoff": 15
           },
           "zerolinecolor": "white",
           "zerolinewidth": 2
          }
         }
        },
        "xaxis": {
         "anchor": "y",
         "domain": [
          0,
          0.45
         ]
        },
        "xaxis2": {
         "anchor": "y2",
         "domain": [
          0.55,
          1
         ]
        },
        "yaxis": {
         "anchor": "x",
         "domain": [
          0,
          1
         ]
        },
        "yaxis2": {
         "anchor": "x2",
         "domain": [
          0,
          1
         ]
        }
       }
      },
      "text/html": [
       "<div>                            <div id=\"6e990de5-6136-49a4-b5b8-6485f39a1371\" class=\"plotly-graph-div\" style=\"height:525px; width:100%;\"></div>            <script type=\"text/javascript\">                require([\"plotly\"], function(Plotly) {                    window.PLOTLYENV=window.PLOTLYENV || {};                                    if (document.getElementById(\"6e990de5-6136-49a4-b5b8-6485f39a1371\")) {                    Plotly.newPlot(                        \"6e990de5-6136-49a4-b5b8-6485f39a1371\",                        [{\"name\":\"First Runner Up\",\"x\":[\"Argentina\",\"Netherlands\",\"West Germany\",\"France\",\"Italy\",\"Czechoslovakia\",\"Hungary\",\"Croatia\",\"Germany\",\"Brazil\",\"Sweden\"],\"y\":[3,3,3,2,2,2,2,1,1,1,1],\"type\":\"bar\",\"xaxis\":\"x\",\"yaxis\":\"y\"},{\"name\":\"Second Runner Up\",\"x\":[\"Germany\",\"Croatia\",\"France\",\"Poland\",\"Brazil\",\"Belgium\",\"Netherlands\",\"T\\u00fcrkiye\",\"Sweden\",\"Italy\",\"West Germany\",\"Portugal\",\"Chile\",\"Austria\"],\"y\":[3,2,2,2,2,1,1,1,1,1,1,1,1,1],\"type\":\"bar\",\"xaxis\":\"x2\",\"yaxis\":\"y2\"}],                        {\"template\":{\"data\":{\"histogram2dcontour\":[{\"type\":\"histogram2dcontour\",\"colorbar\":{\"outlinewidth\":0,\"ticks\":\"\"},\"colorscale\":[[0.0,\"#0d0887\"],[0.1111111111111111,\"#46039f\"],[0.2222222222222222,\"#7201a8\"],[0.3333333333333333,\"#9c179e\"],[0.4444444444444444,\"#bd3786\"],[0.5555555555555556,\"#d8576b\"],[0.6666666666666666,\"#ed7953\"],[0.7777777777777778,\"#fb9f3a\"],[0.8888888888888888,\"#fdca26\"],[1.0,\"#f0f921\"]]}],\"choropleth\":[{\"type\":\"choropleth\",\"colorbar\":{\"outlinewidth\":0,\"ticks\":\"\"}}],\"histogram2d\":[{\"type\":\"histogram2d\",\"colorbar\":{\"outlinewidth\":0,\"ticks\":\"\"},\"colorscale\":[[0.0,\"#0d0887\"],[0.1111111111111111,\"#46039f\"],[0.2222222222222222,\"#7201a8\"],[0.3333333333333333,\"#9c179e\"],[0.4444444444444444,\"#bd3786\"],[0.5555555555555556,\"#d8576b\"],[0.6666666666666666,\"#ed7953\"],[0.7777777777777778,\"#fb9f3a\"],[0.8888888888888888,\"#fdca26\"],[1.0,\"#f0f921\"]]}],\"heatmap\":[{\"type\":\"heatmap\",\"colorbar\":{\"outlinewidth\":0,\"ticks\":\"\"},\"colorscale\":[[0.0,\"#0d0887\"],[0.1111111111111111,\"#46039f\"],[0.2222222222222222,\"#7201a8\"],[0.3333333333333333,\"#9c179e\"],[0.4444444444444444,\"#bd3786\"],[0.5555555555555556,\"#d8576b\"],[0.6666666666666666,\"#ed7953\"],[0.7777777777777778,\"#fb9f3a\"],[0.8888888888888888,\"#fdca26\"],[1.0,\"#f0f921\"]]}],\"heatmapgl\":[{\"type\":\"heatmapgl\",\"colorbar\":{\"outlinewidth\":0,\"ticks\":\"\"},\"colorscale\":[[0.0,\"#0d0887\"],[0.1111111111111111,\"#46039f\"],[0.2222222222222222,\"#7201a8\"],[0.3333333333333333,\"#9c179e\"],[0.4444444444444444,\"#bd3786\"],[0.5555555555555556,\"#d8576b\"],[0.6666666666666666,\"#ed7953\"],[0.7777777777777778,\"#fb9f3a\"],[0.8888888888888888,\"#fdca26\"],[1.0,\"#f0f921\"]]}],\"contourcarpet\":[{\"type\":\"contourcarpet\",\"colorbar\":{\"outlinewidth\":0,\"ticks\":\"\"}}],\"contour\":[{\"type\":\"contour\",\"colorbar\":{\"outlinewidth\":0,\"ticks\":\"\"},\"colorscale\":[[0.0,\"#0d0887\"],[0.1111111111111111,\"#46039f\"],[0.2222222222222222,\"#7201a8\"],[0.3333333333333333,\"#9c179e\"],[0.4444444444444444,\"#bd3786\"],[0.5555555555555556,\"#d8576b\"],[0.6666666666666666,\"#ed7953\"],[0.7777777777777778,\"#fb9f3a\"],[0.8888888888888888,\"#fdca26\"],[1.0,\"#f0f921\"]]}],\"surface\":[{\"type\":\"surface\",\"colorbar\":{\"outlinewidth\":0,\"ticks\":\"\"},\"colorscale\":[[0.0,\"#0d0887\"],[0.1111111111111111,\"#46039f\"],[0.2222222222222222,\"#7201a8\"],[0.3333333333333333,\"#9c179e\"],[0.4444444444444444,\"#bd3786\"],[0.5555555555555556,\"#d8576b\"],[0.6666666666666666,\"#ed7953\"],[0.7777777777777778,\"#fb9f3a\"],[0.8888888888888888,\"#fdca26\"],[1.0,\"#f0f921\"]]}],\"mesh3d\":[{\"type\":\"mesh3d\",\"colorbar\":{\"outlinewidth\":0,\"ticks\":\"\"}}],\"scatter\":[{\"fillpattern\":{\"fillmode\":\"overlay\",\"size\":10,\"solidity\":0.2},\"type\":\"scatter\"}],\"parcoords\":[{\"type\":\"parcoords\",\"line\":{\"colorbar\":{\"outlinewidth\":0,\"ticks\":\"\"}}}],\"scatterpolargl\":[{\"type\":\"scatterpolargl\",\"marker\":{\"colorbar\":{\"outlinewidth\":0,\"ticks\":\"\"}}}],\"bar\":[{\"error_x\":{\"color\":\"#2a3f5f\"},\"error_y\":{\"color\":\"#2a3f5f\"},\"marker\":{\"line\":{\"color\":\"#E5ECF6\",\"width\":0.5},\"pattern\":{\"fillmode\":\"overlay\",\"size\":10,\"solidity\":0.2}},\"type\":\"bar\"}],\"scattergeo\":[{\"type\":\"scattergeo\",\"marker\":{\"colorbar\":{\"outlinewidth\":0,\"ticks\":\"\"}}}],\"scatterpolar\":[{\"type\":\"scatterpolar\",\"marker\":{\"colorbar\":{\"outlinewidth\":0,\"ticks\":\"\"}}}],\"histogram\":[{\"marker\":{\"pattern\":{\"fillmode\":\"overlay\",\"size\":10,\"solidity\":0.2}},\"type\":\"histogram\"}],\"scattergl\":[{\"type\":\"scattergl\",\"marker\":{\"colorbar\":{\"outlinewidth\":0,\"ticks\":\"\"}}}],\"scatter3d\":[{\"type\":\"scatter3d\",\"line\":{\"colorbar\":{\"outlinewidth\":0,\"ticks\":\"\"}},\"marker\":{\"colorbar\":{\"outlinewidth\":0,\"ticks\":\"\"}}}],\"scattermapbox\":[{\"type\":\"scattermapbox\",\"marker\":{\"colorbar\":{\"outlinewidth\":0,\"ticks\":\"\"}}}],\"scatterternary\":[{\"type\":\"scatterternary\",\"marker\":{\"colorbar\":{\"outlinewidth\":0,\"ticks\":\"\"}}}],\"scattercarpet\":[{\"type\":\"scattercarpet\",\"marker\":{\"colorbar\":{\"outlinewidth\":0,\"ticks\":\"\"}}}],\"carpet\":[{\"aaxis\":{\"endlinecolor\":\"#2a3f5f\",\"gridcolor\":\"white\",\"linecolor\":\"white\",\"minorgridcolor\":\"white\",\"startlinecolor\":\"#2a3f5f\"},\"baxis\":{\"endlinecolor\":\"#2a3f5f\",\"gridcolor\":\"white\",\"linecolor\":\"white\",\"minorgridcolor\":\"white\",\"startlinecolor\":\"#2a3f5f\"},\"type\":\"carpet\"}],\"table\":[{\"cells\":{\"fill\":{\"color\":\"#EBF0F8\"},\"line\":{\"color\":\"white\"}},\"header\":{\"fill\":{\"color\":\"#C8D4E3\"},\"line\":{\"color\":\"white\"}},\"type\":\"table\"}],\"barpolar\":[{\"marker\":{\"line\":{\"color\":\"#E5ECF6\",\"width\":0.5},\"pattern\":{\"fillmode\":\"overlay\",\"size\":10,\"solidity\":0.2}},\"type\":\"barpolar\"}],\"pie\":[{\"automargin\":true,\"type\":\"pie\"}]},\"layout\":{\"autotypenumbers\":\"strict\",\"colorway\":[\"#636efa\",\"#EF553B\",\"#00cc96\",\"#ab63fa\",\"#FFA15A\",\"#19d3f3\",\"#FF6692\",\"#B6E880\",\"#FF97FF\",\"#FECB52\"],\"font\":{\"color\":\"#2a3f5f\"},\"hovermode\":\"closest\",\"hoverlabel\":{\"align\":\"left\"},\"paper_bgcolor\":\"white\",\"plot_bgcolor\":\"#E5ECF6\",\"polar\":{\"bgcolor\":\"#E5ECF6\",\"angularaxis\":{\"gridcolor\":\"white\",\"linecolor\":\"white\",\"ticks\":\"\"},\"radialaxis\":{\"gridcolor\":\"white\",\"linecolor\":\"white\",\"ticks\":\"\"}},\"ternary\":{\"bgcolor\":\"#E5ECF6\",\"aaxis\":{\"gridcolor\":\"white\",\"linecolor\":\"white\",\"ticks\":\"\"},\"baxis\":{\"gridcolor\":\"white\",\"linecolor\":\"white\",\"ticks\":\"\"},\"caxis\":{\"gridcolor\":\"white\",\"linecolor\":\"white\",\"ticks\":\"\"}},\"coloraxis\":{\"colorbar\":{\"outlinewidth\":0,\"ticks\":\"\"}},\"colorscale\":{\"sequential\":[[0.0,\"#0d0887\"],[0.1111111111111111,\"#46039f\"],[0.2222222222222222,\"#7201a8\"],[0.3333333333333333,\"#9c179e\"],[0.4444444444444444,\"#bd3786\"],[0.5555555555555556,\"#d8576b\"],[0.6666666666666666,\"#ed7953\"],[0.7777777777777778,\"#fb9f3a\"],[0.8888888888888888,\"#fdca26\"],[1.0,\"#f0f921\"]],\"sequentialminus\":[[0.0,\"#0d0887\"],[0.1111111111111111,\"#46039f\"],[0.2222222222222222,\"#7201a8\"],[0.3333333333333333,\"#9c179e\"],[0.4444444444444444,\"#bd3786\"],[0.5555555555555556,\"#d8576b\"],[0.6666666666666666,\"#ed7953\"],[0.7777777777777778,\"#fb9f3a\"],[0.8888888888888888,\"#fdca26\"],[1.0,\"#f0f921\"]],\"diverging\":[[0,\"#8e0152\"],[0.1,\"#c51b7d\"],[0.2,\"#de77ae\"],[0.3,\"#f1b6da\"],[0.4,\"#fde0ef\"],[0.5,\"#f7f7f7\"],[0.6,\"#e6f5d0\"],[0.7,\"#b8e186\"],[0.8,\"#7fbc41\"],[0.9,\"#4d9221\"],[1,\"#276419\"]]},\"xaxis\":{\"gridcolor\":\"white\",\"linecolor\":\"white\",\"ticks\":\"\",\"title\":{\"standoff\":15},\"zerolinecolor\":\"white\",\"automargin\":true,\"zerolinewidth\":2},\"yaxis\":{\"gridcolor\":\"white\",\"linecolor\":\"white\",\"ticks\":\"\",\"title\":{\"standoff\":15},\"zerolinecolor\":\"white\",\"automargin\":true,\"zerolinewidth\":2},\"scene\":{\"xaxis\":{\"backgroundcolor\":\"#E5ECF6\",\"gridcolor\":\"white\",\"linecolor\":\"white\",\"showbackground\":true,\"ticks\":\"\",\"zerolinecolor\":\"white\",\"gridwidth\":2},\"yaxis\":{\"backgroundcolor\":\"#E5ECF6\",\"gridcolor\":\"white\",\"linecolor\":\"white\",\"showbackground\":true,\"ticks\":\"\",\"zerolinecolor\":\"white\",\"gridwidth\":2},\"zaxis\":{\"backgroundcolor\":\"#E5ECF6\",\"gridcolor\":\"white\",\"linecolor\":\"white\",\"showbackground\":true,\"ticks\":\"\",\"zerolinecolor\":\"white\",\"gridwidth\":2}},\"shapedefaults\":{\"line\":{\"color\":\"#2a3f5f\"}},\"annotationdefaults\":{\"arrowcolor\":\"#2a3f5f\",\"arrowhead\":0,\"arrowwidth\":1},\"geo\":{\"bgcolor\":\"white\",\"landcolor\":\"#E5ECF6\",\"subunitcolor\":\"white\",\"showland\":true,\"showlakes\":true,\"lakecolor\":\"white\"},\"title\":{\"x\":0.05},\"mapbox\":{\"style\":\"light\"}}},\"xaxis\":{\"anchor\":\"y\",\"domain\":[0.0,0.45]},\"yaxis\":{\"anchor\":\"x\",\"domain\":[0.0,1.0]},\"xaxis2\":{\"anchor\":\"y2\",\"domain\":[0.55,1.0]},\"yaxis2\":{\"anchor\":\"x2\",\"domain\":[0.0,1.0]},\"annotations\":[{\"font\":{\"size\":16},\"showarrow\":false,\"text\":\"First Runner Up\",\"x\":0.225,\"xanchor\":\"center\",\"xref\":\"paper\",\"y\":1.0,\"yanchor\":\"bottom\",\"yref\":\"paper\"},{\"font\":{\"size\":16},\"showarrow\":false,\"text\":\"Second Runner Up\",\"x\":0.775,\"xanchor\":\"center\",\"xref\":\"paper\",\"y\":1.0,\"yanchor\":\"bottom\",\"yref\":\"paper\"}]},                        {\"responsive\": true}                    ).then(function(){\n",
       "                            \n",
       "var gd = document.getElementById('6e990de5-6136-49a4-b5b8-6485f39a1371');\n",
       "var x = new MutationObserver(function (mutations, observer) {{\n",
       "        var display = window.getComputedStyle(gd).display;\n",
       "        if (!display || display === 'none') {{\n",
       "            console.log([gd, 'removed!']);\n",
       "            Plotly.purge(gd);\n",
       "            observer.disconnect();\n",
       "        }}\n",
       "}});\n",
       "\n",
       "// Listen for the removal of the full notebook cells\n",
       "var notebookContainer = gd.closest('#notebook-container');\n",
       "if (notebookContainer) {{\n",
       "    x.observe(notebookContainer, {childList: true});\n",
       "}}\n",
       "\n",
       "// Listen for the clearing of the current output cell\n",
       "var outputEl = gd.closest('.output');\n",
       "if (outputEl) {{\n",
       "    x.observe(outputEl, {childList: true});\n",
       "}}\n",
       "\n",
       "                        })                };                });            </script>        </div>"
      ]
     },
     "metadata": {},
     "output_type": "display_data"
    }
   ],
   "source": [
    "fig= make_subplots(rows=1, cols=2, subplot_titles=('First Runner Up', 'Second Runner Up'))\n",
    "\n",
    "#Adding Traces\n",
    "fig.add_trace(trace1, row=1, col=1)\n",
    "fig.add_trace(trace2, row=1, col=2)\n",
    "\n",
    "fig.show()"
   ]
  },
  {
   "cell_type": "markdown",
   "id": "4713ea3c",
   "metadata": {},
   "source": [
    "CONCLUSION:\n",
    "\n",
    "Brazil won the most number of titles followed by Italy and Argentina.\n",
    "\n",
    "Argentina , Netherland and West Germany won Most number of Runner up title.\n",
    "\n",
    "Germany was Second runnner up for most of the times."
   ]
  },
  {
   "cell_type": "code",
   "execution_count": 56,
   "id": "4ac726b5",
   "metadata": {},
   "outputs": [],
   "source": [
    "data=matches.groupby('Year').agg(home=('home_team' ,list),away=('away_team' ,list))"
   ]
  },
  {
   "cell_type": "code",
   "execution_count": 58,
   "id": "0f06318e",
   "metadata": {},
   "outputs": [],
   "source": [
    "data['teams']=data.apply(lambda x:list(set(x['home']+x['away'])),axis=1)"
   ]
  },
  {
   "cell_type": "code",
   "execution_count": 59,
   "id": "2acdbf3f",
   "metadata": {},
   "outputs": [],
   "source": [
    "data[\"#\"]=data['teams'].apply(len)"
   ]
  },
  {
   "cell_type": "code",
   "execution_count": 60,
   "id": "3393af3f",
   "metadata": {},
   "outputs": [
    {
     "data": {
      "text/html": [
       "<div>\n",
       "<style scoped>\n",
       "    .dataframe tbody tr th:only-of-type {\n",
       "        vertical-align: middle;\n",
       "    }\n",
       "\n",
       "    .dataframe tbody tr th {\n",
       "        vertical-align: top;\n",
       "    }\n",
       "\n",
       "    .dataframe thead th {\n",
       "        text-align: right;\n",
       "    }\n",
       "</style>\n",
       "<table border=\"1\" class=\"dataframe\">\n",
       "  <thead>\n",
       "    <tr style=\"text-align: right;\">\n",
       "      <th></th>\n",
       "      <th>home</th>\n",
       "      <th>away</th>\n",
       "      <th>teams</th>\n",
       "      <th>#</th>\n",
       "    </tr>\n",
       "    <tr>\n",
       "      <th>Year</th>\n",
       "      <th></th>\n",
       "      <th></th>\n",
       "      <th></th>\n",
       "      <th></th>\n",
       "    </tr>\n",
       "  </thead>\n",
       "  <tbody>\n",
       "    <tr>\n",
       "      <th>1930</th>\n",
       "      <td>[Uruguay, Uruguay, Argentina, Argentina, Urugu...</td>\n",
       "      <td>[Argentina, Yugoslavia, United States, Chile, ...</td>\n",
       "      <td>[France, Paraguay, Argentina, Mexico, United S...</td>\n",
       "      <td>13</td>\n",
       "    </tr>\n",
       "    <tr>\n",
       "      <th>1934</th>\n",
       "      <td>[Italy, Germany, Czechoslovakia, Italy, Italy,...</td>\n",
       "      <td>[Czechoslovakia, Austria, Germany, Austria, Sp...</td>\n",
       "      <td>[France, Argentina, Egypt, Netherlands, United...</td>\n",
       "      <td>16</td>\n",
       "    </tr>\n",
       "    <tr>\n",
       "      <th>1938</th>\n",
       "      <td>[Brazil, Italy, Hungary, Italy, Brazil, Sweden...</td>\n",
       "      <td>[Sweden, Hungary, Sweden, Brazil, Czechoslovak...</td>\n",
       "      <td>[France, Norway, Netherlands, Poland, Germany,...</td>\n",
       "      <td>15</td>\n",
       "    </tr>\n",
       "    <tr>\n",
       "      <th>1950</th>\n",
       "      <td>[Sweden, Uruguay, Brazil, Uruguay, Brazil, Uru...</td>\n",
       "      <td>[Spain, Brazil, Spain, Sweden, Sweden, Spain, ...</td>\n",
       "      <td>[Paraguay, Mexico, United States, Bolivia, Swi...</td>\n",
       "      <td>13</td>\n",
       "    </tr>\n",
       "    <tr>\n",
       "      <th>1954</th>\n",
       "      <td>[Germany, Austria, Hungary, Germany, Germany, ...</td>\n",
       "      <td>[Hungary, Uruguay, Uruguay, Austria, Yugoslavi...</td>\n",
       "      <td>[France, Korea Republic, Mexico, Brazil, Germa...</td>\n",
       "      <td>16</td>\n",
       "    </tr>\n",
       "    <tr>\n",
       "      <th>1958</th>\n",
       "      <td>[Brazil, France, Sweden, Brazil, France, West ...</td>\n",
       "      <td>[Sweden, West Germany, West Germany, France, N...</td>\n",
       "      <td>[France, Paraguay, Argentina, Mexico, Northern...</td>\n",
       "      <td>16</td>\n",
       "    </tr>\n",
       "    <tr>\n",
       "      <th>1962</th>\n",
       "      <td>[Brazil, Chile, Brazil, Czechoslovakia, Chile,...</td>\n",
       "      <td>[Czechoslovakia, Yugoslavia, Chile, Yugoslavia...</td>\n",
       "      <td>[Uruguay, Argentina, Mexico, Switzerland, Yugo...</td>\n",
       "      <td>16</td>\n",
       "    </tr>\n",
       "    <tr>\n",
       "      <th>1966</th>\n",
       "      <td>[England, Portugal, England, West Germany, Por...</td>\n",
       "      <td>[West Germany, Soviet Union, Portugal, Soviet ...</td>\n",
       "      <td>[France, Uruguay, Argentina, Mexico, Korea DPR...</td>\n",
       "      <td>16</td>\n",
       "    </tr>\n",
       "    <tr>\n",
       "      <th>1970</th>\n",
       "      <td>[Brazil, West Germany, Italy, Brazil, Brazil, ...</td>\n",
       "      <td>[Italy, Uruguay, West Germany, Uruguay, Peru, ...</td>\n",
       "      <td>[Uruguay, El Salvador, Mexico, Israel, Peru, B...</td>\n",
       "      <td>16</td>\n",
       "    </tr>\n",
       "    <tr>\n",
       "      <th>1974</th>\n",
       "      <td>[Netherlands, Brazil, Poland, Netherlands, Arg...</td>\n",
       "      <td>[West Germany, Poland, West Germany, Brazil, G...</td>\n",
       "      <td>[Argentina, Uruguay, Netherlands, Poland, Germ...</td>\n",
       "      <td>16</td>\n",
       "    </tr>\n",
       "    <tr>\n",
       "      <th>1978</th>\n",
       "      <td>[Argentina, Brazil, Netherlands, Austria, Braz...</td>\n",
       "      <td>[Netherlands, Italy, Italy, West Germany, Pola...</td>\n",
       "      <td>[France, Argentina, Mexico, Netherlands, Peru,...</td>\n",
       "      <td>16</td>\n",
       "    </tr>\n",
       "    <tr>\n",
       "      <th>1982</th>\n",
       "      <td>[Italy, Poland, Poland, West Germany, Italy, S...</td>\n",
       "      <td>[West Germany, France, Italy, France, Brazil, ...</td>\n",
       "      <td>[New Zealand, Poland, Yugoslavia, Hungary, Spa...</td>\n",
       "      <td>24</td>\n",
       "    </tr>\n",
       "    <tr>\n",
       "      <th>1986</th>\n",
       "      <td>[Argentina, France, France, Argentina, Argenti...</td>\n",
       "      <td>[West Germany, Belgium, West Germany, Belgium,...</td>\n",
       "      <td>[Mexico, Iraq, Poland, Hungary, Spain, Canada,...</td>\n",
       "      <td>24</td>\n",
       "    </tr>\n",
       "    <tr>\n",
       "      <th>1990</th>\n",
       "      <td>[West Germany, Italy, West Germany, Italy, Wes...</td>\n",
       "      <td>[Argentina, England, England, Argentina, Czech...</td>\n",
       "      <td>[Yugoslavia, Romania, Spain, Brazil, Korea Rep...</td>\n",
       "      <td>24</td>\n",
       "    </tr>\n",
       "    <tr>\n",
       "      <th>1994</th>\n",
       "      <td>[Brazil, Sweden, Bulgaria, Sweden, Bulgaria, R...</td>\n",
       "      <td>[Italy, Bulgaria, Italy, Brazil, Germany, Swed...</td>\n",
       "      <td>[Mexico, Saudi Arabia, Romania, Spain, Brazil,...</td>\n",
       "      <td>24</td>\n",
       "    </tr>\n",
       "    <tr>\n",
       "      <th>1998</th>\n",
       "      <td>[Brazil, Netherlands, France, Brazil, Netherla...</td>\n",
       "      <td>[France, Croatia, Croatia, Netherlands, Argent...</td>\n",
       "      <td>[Mexico, South Africa, Saudi Arabia, Romania, ...</td>\n",
       "      <td>32</td>\n",
       "    </tr>\n",
       "    <tr>\n",
       "      <th>2002</th>\n",
       "      <td>[Germany, Korea Republic, Brazil, Germany, Spa...</td>\n",
       "      <td>[Brazil, Türkiye, Türkiye, Korea Republic, Kor...</td>\n",
       "      <td>[Mexico, South Africa, Poland, Slovenia, Saudi...</td>\n",
       "      <td>32</td>\n",
       "    </tr>\n",
       "    <tr>\n",
       "      <th>2006</th>\n",
       "      <td>[Italy, Germany, Portugal, Germany, England, B...</td>\n",
       "      <td>[France, Portugal, France, Italy, Portugal, Fr...</td>\n",
       "      <td>[Ukraine, Mexico, Poland, Saudi Arabia, Serbia...</td>\n",
       "      <td>32</td>\n",
       "    </tr>\n",
       "    <tr>\n",
       "      <th>2010</th>\n",
       "      <td>[Netherlands, Uruguay, Germany, Uruguay, Argen...</td>\n",
       "      <td>[Spain, Germany, Spain, Netherlands, Germany, ...</td>\n",
       "      <td>[New Zealand, Mexico, South Africa, Slovenia, ...</td>\n",
       "      <td>32</td>\n",
       "    </tr>\n",
       "    <tr>\n",
       "      <th>2014</th>\n",
       "      <td>[Germany, Brazil, Netherlands, Brazil, Argenti...</td>\n",
       "      <td>[Argentina, Netherlands, Argentina, Germany, B...</td>\n",
       "      <td>[Mexico, Bosnia and Herzegovina, Spain, Brazil...</td>\n",
       "      <td>32</td>\n",
       "    </tr>\n",
       "    <tr>\n",
       "      <th>2018</th>\n",
       "      <td>[France, Belgium, Croatia, France, Sweden, Rus...</td>\n",
       "      <td>[Croatia, England, England, Belgium, England, ...</td>\n",
       "      <td>[Mexico, Poland, Saudi Arabia, Spain, Brazil, ...</td>\n",
       "      <td>32</td>\n",
       "    </tr>\n",
       "    <tr>\n",
       "      <th>2022</th>\n",
       "      <td>[Argentina, Croatia, France, Argentina, Morocc...</td>\n",
       "      <td>[France, Morocco, Morocco, Croatia, Portugal, ...</td>\n",
       "      <td>[Mexico, Poland, Qatar, Saudi Arabia, Spain, C...</td>\n",
       "      <td>32</td>\n",
       "    </tr>\n",
       "  </tbody>\n",
       "</table>\n",
       "</div>"
      ],
      "text/plain": [
       "                                                   home  \\\n",
       "Year                                                      \n",
       "1930  [Uruguay, Uruguay, Argentina, Argentina, Urugu...   \n",
       "1934  [Italy, Germany, Czechoslovakia, Italy, Italy,...   \n",
       "1938  [Brazil, Italy, Hungary, Italy, Brazil, Sweden...   \n",
       "1950  [Sweden, Uruguay, Brazil, Uruguay, Brazil, Uru...   \n",
       "1954  [Germany, Austria, Hungary, Germany, Germany, ...   \n",
       "1958  [Brazil, France, Sweden, Brazil, France, West ...   \n",
       "1962  [Brazil, Chile, Brazil, Czechoslovakia, Chile,...   \n",
       "1966  [England, Portugal, England, West Germany, Por...   \n",
       "1970  [Brazil, West Germany, Italy, Brazil, Brazil, ...   \n",
       "1974  [Netherlands, Brazil, Poland, Netherlands, Arg...   \n",
       "1978  [Argentina, Brazil, Netherlands, Austria, Braz...   \n",
       "1982  [Italy, Poland, Poland, West Germany, Italy, S...   \n",
       "1986  [Argentina, France, France, Argentina, Argenti...   \n",
       "1990  [West Germany, Italy, West Germany, Italy, Wes...   \n",
       "1994  [Brazil, Sweden, Bulgaria, Sweden, Bulgaria, R...   \n",
       "1998  [Brazil, Netherlands, France, Brazil, Netherla...   \n",
       "2002  [Germany, Korea Republic, Brazil, Germany, Spa...   \n",
       "2006  [Italy, Germany, Portugal, Germany, England, B...   \n",
       "2010  [Netherlands, Uruguay, Germany, Uruguay, Argen...   \n",
       "2014  [Germany, Brazil, Netherlands, Brazil, Argenti...   \n",
       "2018  [France, Belgium, Croatia, France, Sweden, Rus...   \n",
       "2022  [Argentina, Croatia, France, Argentina, Morocc...   \n",
       "\n",
       "                                                   away  \\\n",
       "Year                                                      \n",
       "1930  [Argentina, Yugoslavia, United States, Chile, ...   \n",
       "1934  [Czechoslovakia, Austria, Germany, Austria, Sp...   \n",
       "1938  [Sweden, Hungary, Sweden, Brazil, Czechoslovak...   \n",
       "1950  [Spain, Brazil, Spain, Sweden, Sweden, Spain, ...   \n",
       "1954  [Hungary, Uruguay, Uruguay, Austria, Yugoslavi...   \n",
       "1958  [Sweden, West Germany, West Germany, France, N...   \n",
       "1962  [Czechoslovakia, Yugoslavia, Chile, Yugoslavia...   \n",
       "1966  [West Germany, Soviet Union, Portugal, Soviet ...   \n",
       "1970  [Italy, Uruguay, West Germany, Uruguay, Peru, ...   \n",
       "1974  [West Germany, Poland, West Germany, Brazil, G...   \n",
       "1978  [Netherlands, Italy, Italy, West Germany, Pola...   \n",
       "1982  [West Germany, France, Italy, France, Brazil, ...   \n",
       "1986  [West Germany, Belgium, West Germany, Belgium,...   \n",
       "1990  [Argentina, England, England, Argentina, Czech...   \n",
       "1994  [Italy, Bulgaria, Italy, Brazil, Germany, Swed...   \n",
       "1998  [France, Croatia, Croatia, Netherlands, Argent...   \n",
       "2002  [Brazil, Türkiye, Türkiye, Korea Republic, Kor...   \n",
       "2006  [France, Portugal, France, Italy, Portugal, Fr...   \n",
       "2010  [Spain, Germany, Spain, Netherlands, Germany, ...   \n",
       "2014  [Argentina, Netherlands, Argentina, Germany, B...   \n",
       "2018  [Croatia, England, England, Belgium, England, ...   \n",
       "2022  [France, Morocco, Morocco, Croatia, Portugal, ...   \n",
       "\n",
       "                                                  teams   #  \n",
       "Year                                                         \n",
       "1930  [France, Paraguay, Argentina, Mexico, United S...  13  \n",
       "1934  [France, Argentina, Egypt, Netherlands, United...  16  \n",
       "1938  [France, Norway, Netherlands, Poland, Germany,...  15  \n",
       "1950  [Paraguay, Mexico, United States, Bolivia, Swi...  13  \n",
       "1954  [France, Korea Republic, Mexico, Brazil, Germa...  16  \n",
       "1958  [France, Paraguay, Argentina, Mexico, Northern...  16  \n",
       "1962  [Uruguay, Argentina, Mexico, Switzerland, Yugo...  16  \n",
       "1966  [France, Uruguay, Argentina, Mexico, Korea DPR...  16  \n",
       "1970  [Uruguay, El Salvador, Mexico, Israel, Peru, B...  16  \n",
       "1974  [Argentina, Uruguay, Netherlands, Poland, Germ...  16  \n",
       "1978  [France, Argentina, Mexico, Netherlands, Peru,...  16  \n",
       "1982  [New Zealand, Poland, Yugoslavia, Hungary, Spa...  24  \n",
       "1986  [Mexico, Iraq, Poland, Hungary, Spain, Canada,...  24  \n",
       "1990  [Yugoslavia, Romania, Spain, Brazil, Korea Rep...  24  \n",
       "1994  [Mexico, Saudi Arabia, Romania, Spain, Brazil,...  24  \n",
       "1998  [Mexico, South Africa, Saudi Arabia, Romania, ...  32  \n",
       "2002  [Mexico, South Africa, Poland, Slovenia, Saudi...  32  \n",
       "2006  [Ukraine, Mexico, Poland, Saudi Arabia, Serbia...  32  \n",
       "2010  [New Zealand, Mexico, South Africa, Slovenia, ...  32  \n",
       "2014  [Mexico, Bosnia and Herzegovina, Spain, Brazil...  32  \n",
       "2018  [Mexico, Poland, Saudi Arabia, Spain, Brazil, ...  32  \n",
       "2022  [Mexico, Poland, Qatar, Saudi Arabia, Spain, C...  32  "
      ]
     },
     "execution_count": 60,
     "metadata": {},
     "output_type": "execute_result"
    }
   ],
   "source": [
    "data"
   ]
  },
  {
   "cell_type": "code",
   "execution_count": 70,
   "id": "83a53675",
   "metadata": {},
   "outputs": [],
   "source": [
    "data_pivot=data['teams'].explode().reset_index().pivot(index='Year',columns='teams',values='Year').T"
   ]
  },
  {
   "cell_type": "code",
   "execution_count": 71,
   "id": "18e5f8f4",
   "metadata": {},
   "outputs": [],
   "source": [
    "data_pivot.fillna(0,inplace=True)"
   ]
  },
  {
   "cell_type": "code",
   "execution_count": 73,
   "id": "d86d8bed",
   "metadata": {},
   "outputs": [
    {
     "data": {
      "text/html": [
       "<div>\n",
       "<style scoped>\n",
       "    .dataframe tbody tr th:only-of-type {\n",
       "        vertical-align: middle;\n",
       "    }\n",
       "\n",
       "    .dataframe tbody tr th {\n",
       "        vertical-align: top;\n",
       "    }\n",
       "\n",
       "    .dataframe thead th {\n",
       "        text-align: right;\n",
       "    }\n",
       "</style>\n",
       "<table border=\"1\" class=\"dataframe\">\n",
       "  <thead>\n",
       "    <tr style=\"text-align: right;\">\n",
       "      <th>Year</th>\n",
       "      <th>1930</th>\n",
       "      <th>1934</th>\n",
       "      <th>1938</th>\n",
       "      <th>1950</th>\n",
       "      <th>1954</th>\n",
       "      <th>1958</th>\n",
       "      <th>1962</th>\n",
       "      <th>1966</th>\n",
       "      <th>1970</th>\n",
       "      <th>1974</th>\n",
       "      <th>...</th>\n",
       "      <th>1986</th>\n",
       "      <th>1990</th>\n",
       "      <th>1994</th>\n",
       "      <th>1998</th>\n",
       "      <th>2002</th>\n",
       "      <th>2006</th>\n",
       "      <th>2010</th>\n",
       "      <th>2014</th>\n",
       "      <th>2018</th>\n",
       "      <th>2022</th>\n",
       "    </tr>\n",
       "    <tr>\n",
       "      <th>teams</th>\n",
       "      <th></th>\n",
       "      <th></th>\n",
       "      <th></th>\n",
       "      <th></th>\n",
       "      <th></th>\n",
       "      <th></th>\n",
       "      <th></th>\n",
       "      <th></th>\n",
       "      <th></th>\n",
       "      <th></th>\n",
       "      <th></th>\n",
       "      <th></th>\n",
       "      <th></th>\n",
       "      <th></th>\n",
       "      <th></th>\n",
       "      <th></th>\n",
       "      <th></th>\n",
       "      <th></th>\n",
       "      <th></th>\n",
       "      <th></th>\n",
       "      <th></th>\n",
       "    </tr>\n",
       "  </thead>\n",
       "  <tbody>\n",
       "    <tr>\n",
       "      <th>Algeria</th>\n",
       "      <td>0</td>\n",
       "      <td>0</td>\n",
       "      <td>0</td>\n",
       "      <td>0</td>\n",
       "      <td>0</td>\n",
       "      <td>0</td>\n",
       "      <td>0</td>\n",
       "      <td>0</td>\n",
       "      <td>0</td>\n",
       "      <td>0</td>\n",
       "      <td>...</td>\n",
       "      <td>1</td>\n",
       "      <td>0</td>\n",
       "      <td>0</td>\n",
       "      <td>0</td>\n",
       "      <td>0</td>\n",
       "      <td>0</td>\n",
       "      <td>1</td>\n",
       "      <td>1</td>\n",
       "      <td>0</td>\n",
       "      <td>0</td>\n",
       "    </tr>\n",
       "    <tr>\n",
       "      <th>Angola</th>\n",
       "      <td>0</td>\n",
       "      <td>0</td>\n",
       "      <td>0</td>\n",
       "      <td>0</td>\n",
       "      <td>0</td>\n",
       "      <td>0</td>\n",
       "      <td>0</td>\n",
       "      <td>0</td>\n",
       "      <td>0</td>\n",
       "      <td>0</td>\n",
       "      <td>...</td>\n",
       "      <td>0</td>\n",
       "      <td>0</td>\n",
       "      <td>0</td>\n",
       "      <td>0</td>\n",
       "      <td>0</td>\n",
       "      <td>1</td>\n",
       "      <td>0</td>\n",
       "      <td>0</td>\n",
       "      <td>0</td>\n",
       "      <td>0</td>\n",
       "    </tr>\n",
       "    <tr>\n",
       "      <th>Argentina</th>\n",
       "      <td>1</td>\n",
       "      <td>1</td>\n",
       "      <td>0</td>\n",
       "      <td>0</td>\n",
       "      <td>0</td>\n",
       "      <td>1</td>\n",
       "      <td>1</td>\n",
       "      <td>1</td>\n",
       "      <td>0</td>\n",
       "      <td>1</td>\n",
       "      <td>...</td>\n",
       "      <td>1</td>\n",
       "      <td>1</td>\n",
       "      <td>1</td>\n",
       "      <td>1</td>\n",
       "      <td>1</td>\n",
       "      <td>1</td>\n",
       "      <td>1</td>\n",
       "      <td>1</td>\n",
       "      <td>1</td>\n",
       "      <td>1</td>\n",
       "    </tr>\n",
       "    <tr>\n",
       "      <th>Australia</th>\n",
       "      <td>0</td>\n",
       "      <td>0</td>\n",
       "      <td>0</td>\n",
       "      <td>0</td>\n",
       "      <td>0</td>\n",
       "      <td>0</td>\n",
       "      <td>0</td>\n",
       "      <td>0</td>\n",
       "      <td>0</td>\n",
       "      <td>1</td>\n",
       "      <td>...</td>\n",
       "      <td>0</td>\n",
       "      <td>0</td>\n",
       "      <td>0</td>\n",
       "      <td>0</td>\n",
       "      <td>0</td>\n",
       "      <td>1</td>\n",
       "      <td>1</td>\n",
       "      <td>1</td>\n",
       "      <td>1</td>\n",
       "      <td>1</td>\n",
       "    </tr>\n",
       "    <tr>\n",
       "      <th>Austria</th>\n",
       "      <td>0</td>\n",
       "      <td>1</td>\n",
       "      <td>0</td>\n",
       "      <td>0</td>\n",
       "      <td>1</td>\n",
       "      <td>1</td>\n",
       "      <td>0</td>\n",
       "      <td>0</td>\n",
       "      <td>0</td>\n",
       "      <td>0</td>\n",
       "      <td>...</td>\n",
       "      <td>0</td>\n",
       "      <td>1</td>\n",
       "      <td>0</td>\n",
       "      <td>1</td>\n",
       "      <td>0</td>\n",
       "      <td>0</td>\n",
       "      <td>0</td>\n",
       "      <td>0</td>\n",
       "      <td>0</td>\n",
       "      <td>0</td>\n",
       "    </tr>\n",
       "    <tr>\n",
       "      <th>...</th>\n",
       "      <td>...</td>\n",
       "      <td>...</td>\n",
       "      <td>...</td>\n",
       "      <td>...</td>\n",
       "      <td>...</td>\n",
       "      <td>...</td>\n",
       "      <td>...</td>\n",
       "      <td>...</td>\n",
       "      <td>...</td>\n",
       "      <td>...</td>\n",
       "      <td>...</td>\n",
       "      <td>...</td>\n",
       "      <td>...</td>\n",
       "      <td>...</td>\n",
       "      <td>...</td>\n",
       "      <td>...</td>\n",
       "      <td>...</td>\n",
       "      <td>...</td>\n",
       "      <td>...</td>\n",
       "      <td>...</td>\n",
       "      <td>...</td>\n",
       "    </tr>\n",
       "    <tr>\n",
       "      <th>Uruguay</th>\n",
       "      <td>1</td>\n",
       "      <td>0</td>\n",
       "      <td>0</td>\n",
       "      <td>1</td>\n",
       "      <td>1</td>\n",
       "      <td>0</td>\n",
       "      <td>1</td>\n",
       "      <td>1</td>\n",
       "      <td>1</td>\n",
       "      <td>1</td>\n",
       "      <td>...</td>\n",
       "      <td>1</td>\n",
       "      <td>1</td>\n",
       "      <td>0</td>\n",
       "      <td>0</td>\n",
       "      <td>1</td>\n",
       "      <td>0</td>\n",
       "      <td>1</td>\n",
       "      <td>1</td>\n",
       "      <td>1</td>\n",
       "      <td>1</td>\n",
       "    </tr>\n",
       "    <tr>\n",
       "      <th>Wales</th>\n",
       "      <td>0</td>\n",
       "      <td>0</td>\n",
       "      <td>0</td>\n",
       "      <td>0</td>\n",
       "      <td>0</td>\n",
       "      <td>1</td>\n",
       "      <td>0</td>\n",
       "      <td>0</td>\n",
       "      <td>0</td>\n",
       "      <td>0</td>\n",
       "      <td>...</td>\n",
       "      <td>0</td>\n",
       "      <td>0</td>\n",
       "      <td>0</td>\n",
       "      <td>0</td>\n",
       "      <td>0</td>\n",
       "      <td>0</td>\n",
       "      <td>0</td>\n",
       "      <td>0</td>\n",
       "      <td>0</td>\n",
       "      <td>1</td>\n",
       "    </tr>\n",
       "    <tr>\n",
       "      <th>West Germany</th>\n",
       "      <td>0</td>\n",
       "      <td>0</td>\n",
       "      <td>0</td>\n",
       "      <td>0</td>\n",
       "      <td>0</td>\n",
       "      <td>1</td>\n",
       "      <td>1</td>\n",
       "      <td>1</td>\n",
       "      <td>1</td>\n",
       "      <td>1</td>\n",
       "      <td>...</td>\n",
       "      <td>1</td>\n",
       "      <td>1</td>\n",
       "      <td>0</td>\n",
       "      <td>0</td>\n",
       "      <td>0</td>\n",
       "      <td>0</td>\n",
       "      <td>0</td>\n",
       "      <td>0</td>\n",
       "      <td>0</td>\n",
       "      <td>0</td>\n",
       "    </tr>\n",
       "    <tr>\n",
       "      <th>Yugoslavia</th>\n",
       "      <td>1</td>\n",
       "      <td>0</td>\n",
       "      <td>0</td>\n",
       "      <td>1</td>\n",
       "      <td>1</td>\n",
       "      <td>1</td>\n",
       "      <td>1</td>\n",
       "      <td>0</td>\n",
       "      <td>0</td>\n",
       "      <td>1</td>\n",
       "      <td>...</td>\n",
       "      <td>0</td>\n",
       "      <td>1</td>\n",
       "      <td>0</td>\n",
       "      <td>0</td>\n",
       "      <td>0</td>\n",
       "      <td>0</td>\n",
       "      <td>0</td>\n",
       "      <td>0</td>\n",
       "      <td>0</td>\n",
       "      <td>0</td>\n",
       "    </tr>\n",
       "    <tr>\n",
       "      <th>Zaire</th>\n",
       "      <td>0</td>\n",
       "      <td>0</td>\n",
       "      <td>0</td>\n",
       "      <td>0</td>\n",
       "      <td>0</td>\n",
       "      <td>0</td>\n",
       "      <td>0</td>\n",
       "      <td>0</td>\n",
       "      <td>0</td>\n",
       "      <td>1</td>\n",
       "      <td>...</td>\n",
       "      <td>0</td>\n",
       "      <td>0</td>\n",
       "      <td>0</td>\n",
       "      <td>0</td>\n",
       "      <td>0</td>\n",
       "      <td>0</td>\n",
       "      <td>0</td>\n",
       "      <td>0</td>\n",
       "      <td>0</td>\n",
       "      <td>0</td>\n",
       "    </tr>\n",
       "  </tbody>\n",
       "</table>\n",
       "<p>86 rows × 22 columns</p>\n",
       "</div>"
      ],
      "text/plain": [
       "Year          1930  1934  1938  1950  1954  1958  1962  1966  1970  1974  ...  \\\n",
       "teams                                                                     ...   \n",
       "Algeria          0     0     0     0     0     0     0     0     0     0  ...   \n",
       "Angola           0     0     0     0     0     0     0     0     0     0  ...   \n",
       "Argentina        1     1     0     0     0     1     1     1     0     1  ...   \n",
       "Australia        0     0     0     0     0     0     0     0     0     1  ...   \n",
       "Austria          0     1     0     0     1     1     0     0     0     0  ...   \n",
       "...            ...   ...   ...   ...   ...   ...   ...   ...   ...   ...  ...   \n",
       "Uruguay          1     0     0     1     1     0     1     1     1     1  ...   \n",
       "Wales            0     0     0     0     0     1     0     0     0     0  ...   \n",
       "West Germany     0     0     0     0     0     1     1     1     1     1  ...   \n",
       "Yugoslavia       1     0     0     1     1     1     1     0     0     1  ...   \n",
       "Zaire            0     0     0     0     0     0     0     0     0     1  ...   \n",
       "\n",
       "Year          1986  1990  1994  1998  2002  2006  2010  2014  2018  2022  \n",
       "teams                                                                     \n",
       "Algeria          1     0     0     0     0     0     1     1     0     0  \n",
       "Angola           0     0     0     0     0     1     0     0     0     0  \n",
       "Argentina        1     1     1     1     1     1     1     1     1     1  \n",
       "Australia        0     0     0     0     0     1     1     1     1     1  \n",
       "Austria          0     1     0     1     0     0     0     0     0     0  \n",
       "...            ...   ...   ...   ...   ...   ...   ...   ...   ...   ...  \n",
       "Uruguay          1     1     0     0     1     0     1     1     1     1  \n",
       "Wales            0     0     0     0     0     0     0     0     0     1  \n",
       "West Germany     1     1     0     0     0     0     0     0     0     0  \n",
       "Yugoslavia       0     1     0     0     0     0     0     0     0     0  \n",
       "Zaire            0     0     0     0     0     0     0     0     0     0  \n",
       "\n",
       "[86 rows x 22 columns]"
      ]
     },
     "execution_count": 73,
     "metadata": {},
     "output_type": "execute_result"
    }
   ],
   "source": [
    "data_pivot.map(lambda x: 1 if x>0 else 0)"
   ]
  },
  {
   "cell_type": "code",
   "execution_count": 78,
   "id": "06a5bd4d",
   "metadata": {},
   "outputs": [
    {
     "data": {
      "image/png": "[encoded data removed]",
      "text/plain": [
       "<Figure size 1000x2000 with 2 Axes>"
      ]
     },
     "metadata": {},
     "output_type": "display_data"
    }
   ],
   "source": [
    "plt.figure(figsize=(10,20))\n",
    "sns.heatmap(data_pivot,linewidths=0.5,linecolor='white')\n",
    "plt.title(\"Team Participation Over Years\")\n",
    "plt.xlabel(\"Years\")\n",
    "plt.ylabel(\"Teams\")\n",
    "plt.show()"
   ]
  },
  {
   "cell_type": "markdown",
   "id": "ec3bd496",
   "metadata": {},
   "source": [
    "CONCLUSION:\n",
    "\n",
    "Brazil is the only country to play all editions of the FIFA cup.\n",
    "\n",
    "Countries are Qatar , Canada , Wales are new to the tournament.\n",
    "\n",
    "Countires like Cuba, Israel , Kuwait , jamaica, Ukrain , Tongo etc. participated in only 1 edition of FIFA."
   ]
  },
  {
   "cell_type": "code",
   "execution_count": 79,
   "id": "f60f54bd",
   "metadata": {},
   "outputs": [],
   "source": [
    "Same_rank= world_ranking[world_ranking['rank']==world_ranking['previous_rank']]['team'].tolist()"
   ]
  },
  {
   "cell_type": "code",
   "execution_count": 81,
   "id": "7fd88ca4",
   "metadata": {},
   "outputs": [],
   "source": [
    "Rank_decreased= world_ranking[world_ranking['rank']>world_ranking['previous_rank']]['team'].tolist()\n",
    "Rank_increased= world_ranking[world_ranking['rank']<world_ranking['previous_rank']]['team'].tolist()"
   ]
  },
  {
   "cell_type": "code",
   "execution_count": 82,
   "id": "d97b8385",
   "metadata": {},
   "outputs": [
    {
     "data": {
      "text/plain": [
       "66"
      ]
     },
     "execution_count": 82,
     "metadata": {},
     "output_type": "execute_result"
    }
   ],
   "source": [
    "len(Same_rank)"
   ]
  },
  {
   "cell_type": "code",
   "execution_count": 83,
   "id": "ae4399ed",
   "metadata": {},
   "outputs": [
    {
     "data": {
      "text/plain": [
       "68"
      ]
     },
     "execution_count": 83,
     "metadata": {},
     "output_type": "execute_result"
    }
   ],
   "source": [
    "len(Rank_decreased)"
   ]
  },
  {
   "cell_type": "code",
   "execution_count": 84,
   "id": "f13161b1",
   "metadata": {},
   "outputs": [
    {
     "data": {
      "text/plain": [
       "77"
      ]
     },
     "execution_count": 84,
     "metadata": {},
     "output_type": "execute_result"
    }
   ],
   "source": [
    "len(Rank_increased)"
   ]
  },
  {
   "cell_type": "code",
   "execution_count": 86,
   "id": "95e4609e",
   "metadata": {},
   "outputs": [],
   "source": [
    "max_length=max(len(Same_rank),len(Rank_decreased),len(Rank_increased))"
   ]
  },
  {
   "cell_type": "code",
   "execution_count": 87,
   "id": "2cbc3306",
   "metadata": {},
   "outputs": [],
   "source": [
    "Same_rank+=[None]*(max_length-len(Same_rank))\n",
    "Rank_decreased+=[None]*(max_length-len(Rank_decreased))\n",
    "Rank_increased+=[None]*(max_length-len(Rank_increased))"
   ]
  },
  {
   "cell_type": "code",
   "execution_count": 89,
   "id": "dfaa6e5d",
   "metadata": {},
   "outputs": [],
   "source": [
    "df=pd.DataFrame({\n",
    "    'Same Rank':Same_rank,\n",
    "    'Decresed rank':Rank_decreased,\n",
    "    'Increased rank':Rank_increased\n",
    "})"
   ]
  },
  {
   "cell_type": "code",
   "execution_count": 104,
   "id": "d6da6b08",
   "metadata": {},
   "outputs": [
    {
     "data": {
      "text/html": [
       "<div>\n",
       "<style scoped>\n",
       "    .dataframe tbody tr th:only-of-type {\n",
       "        vertical-align: middle;\n",
       "    }\n",
       "\n",
       "    .dataframe tbody tr th {\n",
       "        vertical-align: top;\n",
       "    }\n",
       "\n",
       "    .dataframe thead th {\n",
       "        text-align: right;\n",
       "    }\n",
       "</style>\n",
       "<table border=\"1\" class=\"dataframe\">\n",
       "  <thead>\n",
       "    <tr style=\"text-align: right;\">\n",
       "      <th></th>\n",
       "      <th>Same Rank</th>\n",
       "      <th>Decresed rank</th>\n",
       "      <th>Increased rank</th>\n",
       "    </tr>\n",
       "  </thead>\n",
       "  <tbody>\n",
       "    <tr>\n",
       "      <th>0</th>\n",
       "      <td>Brazil</td>\n",
       "      <td>Spain</td>\n",
       "      <td>Italy</td>\n",
       "    </tr>\n",
       "    <tr>\n",
       "      <th>1</th>\n",
       "      <td>Belgium</td>\n",
       "      <td>Mexico</td>\n",
       "      <td>Croatia</td>\n",
       "    </tr>\n",
       "    <tr>\n",
       "      <th>2</th>\n",
       "      <td>Argentina</td>\n",
       "      <td>Uruguay</td>\n",
       "      <td>Switzerland</td>\n",
       "    </tr>\n",
       "    <tr>\n",
       "      <th>3</th>\n",
       "      <td>France</td>\n",
       "      <td>USA</td>\n",
       "      <td>IR Iran</td>\n",
       "    </tr>\n",
       "    <tr>\n",
       "      <th>4</th>\n",
       "      <td>England</td>\n",
       "      <td>Peru</td>\n",
       "      <td>Serbia</td>\n",
       "    </tr>\n",
       "    <tr>\n",
       "      <th>...</th>\n",
       "      <td>...</td>\n",
       "      <td>...</td>\n",
       "      <td>...</td>\n",
       "    </tr>\n",
       "    <tr>\n",
       "      <th>72</th>\n",
       "      <td></td>\n",
       "      <td></td>\n",
       "      <td>Timor-Leste</td>\n",
       "    </tr>\n",
       "    <tr>\n",
       "      <th>73</th>\n",
       "      <td></td>\n",
       "      <td></td>\n",
       "      <td>Eritrea</td>\n",
       "    </tr>\n",
       "    <tr>\n",
       "      <th>74</th>\n",
       "      <td></td>\n",
       "      <td></td>\n",
       "      <td>Aruba</td>\n",
       "    </tr>\n",
       "    <tr>\n",
       "      <th>75</th>\n",
       "      <td></td>\n",
       "      <td></td>\n",
       "      <td>Bahamas</td>\n",
       "    </tr>\n",
       "    <tr>\n",
       "      <th>76</th>\n",
       "      <td></td>\n",
       "      <td></td>\n",
       "      <td>Somalia</td>\n",
       "    </tr>\n",
       "  </tbody>\n",
       "</table>\n",
       "<p>77 rows × 3 columns</p>\n",
       "</div>"
      ],
      "text/plain": [
       "    Same Rank Decresed rank Increased rank\n",
       "0      Brazil         Spain          Italy\n",
       "1     Belgium        Mexico        Croatia\n",
       "2   Argentina       Uruguay    Switzerland\n",
       "3      France           USA        IR Iran\n",
       "4     England          Peru         Serbia\n",
       "..        ...           ...            ...\n",
       "72                             Timor-Leste\n",
       "73                                 Eritrea\n",
       "74                                   Aruba\n",
       "75                                 Bahamas\n",
       "76                                 Somalia\n",
       "\n",
       "[77 rows x 3 columns]"
      ]
     },
     "execution_count": 104,
     "metadata": {},
     "output_type": "execute_result"
    }
   ],
   "source": [
    "df"
   ]
  },
  {
   "cell_type": "code",
   "execution_count": 99,
   "id": "3af2369d",
   "metadata": {},
   "outputs": [],
   "source": [
    "df.fillna(\" \",inplace=True)"
   ]
  },
  {
   "cell_type": "code",
   "execution_count": 106,
   "id": "3fd572ae",
   "metadata": {},
   "outputs": [],
   "source": [
    "def find_rank(country):\n",
    "    result=[]\n",
    "    for column in df.columns:\n",
    "        matches=df[column]==country\n",
    "        if matches.any():\n",
    "            result.append(column)\n",
    "    return result\n",
    "    "
   ]
  },
  {
   "cell_type": "code",
   "execution_count": 108,
   "id": "e26dbf0e",
   "metadata": {},
   "outputs": [
    {
     "data": {
      "text/plain": [
       "['Increased rank']"
      ]
     },
     "execution_count": 108,
     "metadata": {},
     "output_type": "execute_result"
    }
   ],
   "source": [
    "find_rank(\"Italy\")"
   ]
  },
  {
   "cell_type": "code",
   "execution_count": 110,
   "id": "ca515fb8",
   "metadata": {},
   "outputs": [],
   "source": [
    "country='Argentina'"
   ]
  },
  {
   "cell_type": "code",
   "execution_count": 113,
   "id": "ff11a3c8",
   "metadata": {},
   "outputs": [],
   "source": [
    "data=matches[((matches['home_team']==country)|(matches['away_team']==country))\n",
    "       &((matches['Round']=='Final') | (matches['Round']=='Semi-finals') | (matches['Round']=='Quarter-finals'))]"
   ]
  },
  {
   "cell_type": "code",
   "execution_count": 118,
   "id": "5dcc8b00",
   "metadata": {},
   "outputs": [],
   "source": [
    "df1=data['Round'].value_counts().reset_index()\n",
    "df1.columns=['Round','Total matches']"
   ]
  },
  {
   "cell_type": "code",
   "execution_count": 119,
   "id": "5e5aa85d",
   "metadata": {},
   "outputs": [
    {
     "data": {
      "text/html": [
       "<div>\n",
       "<style scoped>\n",
       "    .dataframe tbody tr th:only-of-type {\n",
       "        vertical-align: middle;\n",
       "    }\n",
       "\n",
       "    .dataframe tbody tr th {\n",
       "        vertical-align: top;\n",
       "    }\n",
       "\n",
       "    .dataframe thead th {\n",
       "        text-align: right;\n",
       "    }\n",
       "</style>\n",
       "<table border=\"1\" class=\"dataframe\">\n",
       "  <thead>\n",
       "    <tr style=\"text-align: right;\">\n",
       "      <th></th>\n",
       "      <th>Round</th>\n",
       "      <th>Total matches</th>\n",
       "    </tr>\n",
       "  </thead>\n",
       "  <tbody>\n",
       "    <tr>\n",
       "      <th>0</th>\n",
       "      <td>Quarter-finals</td>\n",
       "      <td>8</td>\n",
       "    </tr>\n",
       "    <tr>\n",
       "      <th>1</th>\n",
       "      <td>Final</td>\n",
       "      <td>6</td>\n",
       "    </tr>\n",
       "    <tr>\n",
       "      <th>2</th>\n",
       "      <td>Semi-finals</td>\n",
       "      <td>5</td>\n",
       "    </tr>\n",
       "  </tbody>\n",
       "</table>\n",
       "</div>"
      ],
      "text/plain": [
       "            Round  Total matches\n",
       "0  Quarter-finals              8\n",
       "1           Final              6\n",
       "2     Semi-finals              5"
      ]
     },
     "execution_count": 119,
     "metadata": {},
     "output_type": "execute_result"
    }
   ],
   "source": [
    "df1"
   ]
  },
  {
   "cell_type": "code",
   "execution_count": 120,
   "id": "24641208",
   "metadata": {},
   "outputs": [],
   "source": [
    "def get_winner(row):\n",
    "    if(row['h_total']>row['a_total']):\n",
    "        return row[\"home_team\"]\n",
    "    else:\n",
    "        return row[\"away_team\"]"
   ]
  },
  {
   "cell_type": "code",
   "execution_count": 121,
   "id": "d806df8a",
   "metadata": {},
   "outputs": [
    {
     "name": "stderr",
     "output_type": "stream",
     "text": [
      "C:\\Users\\HP\\AppData\\Local\\Temp\\ipykernel_23452\\1768638068.py:1: SettingWithCopyWarning:\n",
      "\n",
      "\n",
      "A value is trying to be set on a copy of a slice from a DataFrame.\n",
      "Try using .loc[row_indexer,col_indexer] = value instead\n",
      "\n",
      "See the caveats in the documentation: https://pandas.pydata.org/pandas-docs/stable/user_guide/indexing.html#returning-a-view-versus-a-copy\n",
      "\n"
     ]
    }
   ],
   "source": [
    "data['Winner']=data.apply(get_winner,axis=1)"
   ]
  },
  {
   "cell_type": "code",
   "execution_count": 128,
   "id": "84a7485d",
   "metadata": {},
   "outputs": [],
   "source": [
    "df2=data[data['Winner']==country]['Round'].value_counts().reset_index()\n",
    "df2.columns=['Round','Total matches']"
   ]
  },
  {
   "cell_type": "code",
   "execution_count": 129,
   "id": "e13d06ef",
   "metadata": {},
   "outputs": [
    {
     "data": {
      "text/html": [
       "<div>\n",
       "<style scoped>\n",
       "    .dataframe tbody tr th:only-of-type {\n",
       "        vertical-align: middle;\n",
       "    }\n",
       "\n",
       "    .dataframe tbody tr th {\n",
       "        vertical-align: top;\n",
       "    }\n",
       "\n",
       "    .dataframe thead th {\n",
       "        text-align: right;\n",
       "    }\n",
       "</style>\n",
       "<table border=\"1\" class=\"dataframe\">\n",
       "  <thead>\n",
       "    <tr style=\"text-align: right;\">\n",
       "      <th></th>\n",
       "      <th>Round</th>\n",
       "      <th>Total matches</th>\n",
       "    </tr>\n",
       "  </thead>\n",
       "  <tbody>\n",
       "    <tr>\n",
       "      <th>0</th>\n",
       "      <td>Semi-finals</td>\n",
       "      <td>5</td>\n",
       "    </tr>\n",
       "    <tr>\n",
       "      <th>1</th>\n",
       "      <td>Quarter-finals</td>\n",
       "      <td>4</td>\n",
       "    </tr>\n",
       "    <tr>\n",
       "      <th>2</th>\n",
       "      <td>Final</td>\n",
       "      <td>3</td>\n",
       "    </tr>\n",
       "  </tbody>\n",
       "</table>\n",
       "</div>"
      ],
      "text/plain": [
       "            Round  Total matches\n",
       "0     Semi-finals              5\n",
       "1  Quarter-finals              4\n",
       "2           Final              3"
      ]
     },
     "execution_count": 129,
     "metadata": {},
     "output_type": "execute_result"
    }
   ],
   "source": [
    "df2"
   ]
  },
  {
   "cell_type": "code",
   "execution_count": 130,
   "id": "77d3d3b9",
   "metadata": {},
   "outputs": [],
   "source": [
    "def calculate_performance(country):\n",
    "    # Filter matches based on the specified country and rounds\n",
    "    data=matches[((matches['home_team']==country)|(matches['away_team']==country))&((matches['Round']=='Final') | (matches['Round']=='Semi-finals') | (matches['Round']=='Quarter-finals'))]\n",
    "   \n",
    "    # Create a DataFrame with the count of matches per round\n",
    "    df1=data['Round'].value_counts().reset_index()\n",
    "    df1.columns=['Round','Total Matches']\n",
    "    \n",
    "    # Function to determine the winner of each match\n",
    "    def get_winner(row):\n",
    "        if(row['h_total']>row['a_total']):\n",
    "            return row[\"home_team\"]\n",
    "        else:\n",
    "            return row[\"away_team\"]\n",
    "    \n",
    "     # Apply the function to determine the winner for each match\n",
    "    data['Winner']=data.apply(get_winner,axis=1)\n",
    "    \n",
    "     # Create a DataFrame with the count of matches won by the specified country per round\n",
    "    df2=data[data['Winner']==country]['Round'].value_counts().reset_index()\n",
    "    df2.columns=['Round','Matches Won']\n",
    "    \n",
    "    # Merge the two DataFrames on the 'Round' column\n",
    "    result = pd.merge(df1, df2, on='Round', how='inner')\n",
    "    \n",
    "    # Calculate the percentage of matches won\n",
    "    result['Percentage'] = (result['Matches Won'] / result['Total Matches']) * 100\n",
    "    \n",
    "    return result"
   ]
  },
  {
   "cell_type": "code",
   "execution_count": 134,
   "id": "7172cf02",
   "metadata": {},
   "outputs": [
    {
     "name": "stderr",
     "output_type": "stream",
     "text": [
      "C:\\Users\\HP\\AppData\\Local\\Temp\\ipykernel_23452\\4085950509.py:17: SettingWithCopyWarning:\n",
      "\n",
      "\n",
      "A value is trying to be set on a copy of a slice from a DataFrame.\n",
      "Try using .loc[row_indexer,col_indexer] = value instead\n",
      "\n",
      "See the caveats in the documentation: https://pandas.pydata.org/pandas-docs/stable/user_guide/indexing.html#returning-a-view-versus-a-copy\n",
      "\n"
     ]
    },
    {
     "data": {
      "text/html": [
       "<div>\n",
       "<style scoped>\n",
       "    .dataframe tbody tr th:only-of-type {\n",
       "        vertical-align: middle;\n",
       "    }\n",
       "\n",
       "    .dataframe tbody tr th {\n",
       "        vertical-align: top;\n",
       "    }\n",
       "\n",
       "    .dataframe thead th {\n",
       "        text-align: right;\n",
       "    }\n",
       "</style>\n",
       "<table border=\"1\" class=\"dataframe\">\n",
       "  <thead>\n",
       "    <tr style=\"text-align: right;\">\n",
       "      <th></th>\n",
       "      <th>Round</th>\n",
       "      <th>Total Matches</th>\n",
       "      <th>Matches Won</th>\n",
       "      <th>Percentage</th>\n",
       "    </tr>\n",
       "  </thead>\n",
       "  <tbody>\n",
       "    <tr>\n",
       "      <th>0</th>\n",
       "      <td>Quarter-finals</td>\n",
       "      <td>8</td>\n",
       "      <td>6</td>\n",
       "      <td>75.000000</td>\n",
       "    </tr>\n",
       "    <tr>\n",
       "      <th>1</th>\n",
       "      <td>Semi-finals</td>\n",
       "      <td>7</td>\n",
       "      <td>6</td>\n",
       "      <td>85.714286</td>\n",
       "    </tr>\n",
       "    <tr>\n",
       "      <th>2</th>\n",
       "      <td>Final</td>\n",
       "      <td>6</td>\n",
       "      <td>4</td>\n",
       "      <td>66.666667</td>\n",
       "    </tr>\n",
       "  </tbody>\n",
       "</table>\n",
       "</div>"
      ],
      "text/plain": [
       "            Round  Total Matches  Matches Won  Percentage\n",
       "0  Quarter-finals              8            6   75.000000\n",
       "1     Semi-finals              7            6   85.714286\n",
       "2           Final              6            4   66.666667"
      ]
     },
     "execution_count": 134,
     "metadata": {},
     "output_type": "execute_result"
    }
   ],
   "source": [
    "calculate_performance('Italy')"
   ]
  },
  {
   "cell_type": "markdown",
   "id": "69ca0785",
   "metadata": {},
   "source": [
    "CONCLUSIONS\n",
    "\n",
    "Italy: Teams facing Italy in knockout rounds can expect a challenging match. Italy has a 75% probability of winning in the quarter-finals, an 86% probability of advancing from the semi-finals, and a 67% probability of securing victory in the finals.\n",
    "\n",
    "Spain - if it clears QF its wins title.\n",
    "\n",
    "France - they have good record in QF comparatively not that good record in Semi and Finals.\n",
    "\n",
    "Sweden never reaches a final.\n",
    "\n",
    "if Argentina reaches semi final , it will surely win it."
   ]
  },
  {
   "cell_type": "code",
   "execution_count": 135,
   "id": "863b29a6",
   "metadata": {},
   "outputs": [],
   "source": [
    "# CHECKING PLAYING STRATEGY OF  TEAMS IN KNOCKOUT V/S NON-KNOCKOUT MATCHES"
   ]
  },
  {
   "cell_type": "code",
   "execution_count": 137,
   "id": "b7329179",
   "metadata": {},
   "outputs": [
    {
     "data": {
      "text/plain": [
       "'Ángel Di María · 36|Lionel Messi · 108'"
      ]
     },
     "execution_count": 137,
     "metadata": {},
     "output_type": "execute_result"
    }
   ],
   "source": [
    "matches['home_goal'][0]"
   ]
  },
  {
   "cell_type": "code",
   "execution_count": 138,
   "id": "4c355531",
   "metadata": {},
   "outputs": [],
   "source": [
    "import re"
   ]
  },
  {
   "cell_type": "code",
   "execution_count": 139,
   "id": "98cbb5e7",
   "metadata": {},
   "outputs": [],
   "source": [
    "pattern = r'\\b(\\d+)\\b'"
   ]
  },
  {
   "cell_type": "code",
   "execution_count": 141,
   "id": "712a309a",
   "metadata": {},
   "outputs": [],
   "source": [
    "#Function to extract time from each row  for home_team\n",
    "\n",
    "def extract_time(row):\n",
    "    if pd.notna(row['home_goal']):\n",
    "        goal_str=str(row['home_goal'])\n",
    "        times=[]\n",
    "        matches=re.findall(pattern,goal_str)\n",
    "        times.extend(matches)\n",
    "        return ','.join(times)\n",
    "    else:\n",
    "        return ''"
   ]
  },
  {
   "cell_type": "code",
   "execution_count": 142,
   "id": "53cbd886",
   "metadata": {},
   "outputs": [],
   "source": [
    "matches['Home_Goals']= matches.apply(extract_time, axis=1)"
   ]
  },
  {
   "cell_type": "code",
   "execution_count": 143,
   "id": "7c66dd01",
   "metadata": {},
   "outputs": [],
   "source": [
    "#Function to extract time from each row  for away_team\n",
    "\n",
    "def extract_time(row):\n",
    "    if pd.notna(row['away_goal']):\n",
    "        goal_str=str(row['away_goal'])\n",
    "        times=[]\n",
    "        matches=re.findall(pattern,goal_str)\n",
    "        times.extend(matches)\n",
    "        return ','.join(times)\n",
    "    else:\n",
    "        return ''"
   ]
  },
  {
   "cell_type": "code",
   "execution_count": 144,
   "id": "7de0ba1f",
   "metadata": {},
   "outputs": [],
   "source": [
    "matches['Away_Goals']= matches.apply(extract_time, axis=1)"
   ]
  },
  {
   "cell_type": "code",
   "execution_count": 145,
   "id": "5e06a5e7",
   "metadata": {},
   "outputs": [
    {
     "data": {
      "text/html": [
       "<div>\n",
       "<style scoped>\n",
       "    .dataframe tbody tr th:only-of-type {\n",
       "        vertical-align: middle;\n",
       "    }\n",
       "\n",
       "    .dataframe tbody tr th {\n",
       "        vertical-align: top;\n",
       "    }\n",
       "\n",
       "    .dataframe thead th {\n",
       "        text-align: right;\n",
       "    }\n",
       "</style>\n",
       "<table border=\"1\" class=\"dataframe\">\n",
       "  <thead>\n",
       "    <tr style=\"text-align: right;\">\n",
       "      <th></th>\n",
       "      <th>home_team</th>\n",
       "      <th>away_team</th>\n",
       "      <th>home_score</th>\n",
       "      <th>home_xg</th>\n",
       "      <th>home_penalty</th>\n",
       "      <th>away_score</th>\n",
       "      <th>away_xg</th>\n",
       "      <th>away_penalty</th>\n",
       "      <th>home_manager</th>\n",
       "      <th>home_captain</th>\n",
       "      <th>...</th>\n",
       "      <th>home_yellow_red_card</th>\n",
       "      <th>away_yellow_red_card</th>\n",
       "      <th>home_yellow_card_long</th>\n",
       "      <th>away_yellow_card_long</th>\n",
       "      <th>home_substitute_in_long</th>\n",
       "      <th>away_substitute_in_long</th>\n",
       "      <th>h_total</th>\n",
       "      <th>a_total</th>\n",
       "      <th>Home_Goals</th>\n",
       "      <th>Away_Goals</th>\n",
       "    </tr>\n",
       "  </thead>\n",
       "  <tbody>\n",
       "    <tr>\n",
       "      <th>0</th>\n",
       "      <td>Argentina</td>\n",
       "      <td>France</td>\n",
       "      <td>3</td>\n",
       "      <td>3.3</td>\n",
       "      <td>4.0</td>\n",
       "      <td>3</td>\n",
       "      <td>2.2</td>\n",
       "      <td>2.0</td>\n",
       "      <td>Lionel Scaloni</td>\n",
       "      <td>Lionel Messi</td>\n",
       "      <td>...</td>\n",
       "      <td>NaN</td>\n",
       "      <td>NaN</td>\n",
       "      <td>['45+7&amp;rsquor;|2:0|Enzo Fernández', '90+8&amp;rsqu...</td>\n",
       "      <td>['55&amp;rsquor;|2:0|Adrien Rabiot', '87&amp;rsquor;|2...</td>\n",
       "      <td>['64&amp;rsquor;|2:0|Marcos Acuña|for Ángel Di Mar...</td>\n",
       "      <td>['41&amp;rsquor;|2:0|Randal Kolo Muani|for Ousmane...</td>\n",
       "      <td>7.0</td>\n",
       "      <td>5.0</td>\n",
       "      <td>36,108</td>\n",
       "      <td>81</td>\n",
       "    </tr>\n",
       "    <tr>\n",
       "      <th>1</th>\n",
       "      <td>Croatia</td>\n",
       "      <td>Morocco</td>\n",
       "      <td>2</td>\n",
       "      <td>0.7</td>\n",
       "      <td>0.0</td>\n",
       "      <td>1</td>\n",
       "      <td>1.2</td>\n",
       "      <td>0.0</td>\n",
       "      <td>Zlatko Dalić</td>\n",
       "      <td>Luka Modrić</td>\n",
       "      <td>...</td>\n",
       "      <td>NaN</td>\n",
       "      <td>NaN</td>\n",
       "      <td>NaN</td>\n",
       "      <td>['69&amp;rsquor;|2:1|Azzedine Ounahi', '84&amp;rsquor;...</td>\n",
       "      <td>['61&amp;rsquor;|2:1|Nikola Vlašić|for Andrej Kram...</td>\n",
       "      <td>['46&amp;rsquor;|2:1|Ilias Chair|for Abdelhamid Sa...</td>\n",
       "      <td>2.0</td>\n",
       "      <td>1.0</td>\n",
       "      <td>7,42</td>\n",
       "      <td>9</td>\n",
       "    </tr>\n",
       "    <tr>\n",
       "      <th>2</th>\n",
       "      <td>France</td>\n",
       "      <td>Morocco</td>\n",
       "      <td>2</td>\n",
       "      <td>2.0</td>\n",
       "      <td>0.0</td>\n",
       "      <td>0</td>\n",
       "      <td>0.9</td>\n",
       "      <td>0.0</td>\n",
       "      <td>Didier Deschamps</td>\n",
       "      <td>Hugo Lloris</td>\n",
       "      <td>...</td>\n",
       "      <td>NaN</td>\n",
       "      <td>NaN</td>\n",
       "      <td>NaN</td>\n",
       "      <td>['27&amp;rsquor;|1:0|Sofiane Boufal']</td>\n",
       "      <td>['65&amp;rsquor;|1:0|Marcus Thuram|for Olivier Gir...</td>\n",
       "      <td>['21&amp;rsquor;|1:0|Selim Amallah|for Romain Saïs...</td>\n",
       "      <td>2.0</td>\n",
       "      <td>0.0</td>\n",
       "      <td>5,79</td>\n",
       "      <td></td>\n",
       "    </tr>\n",
       "    <tr>\n",
       "      <th>3</th>\n",
       "      <td>Argentina</td>\n",
       "      <td>Croatia</td>\n",
       "      <td>3</td>\n",
       "      <td>2.3</td>\n",
       "      <td>0.0</td>\n",
       "      <td>0</td>\n",
       "      <td>0.5</td>\n",
       "      <td>0.0</td>\n",
       "      <td>Lionel Scaloni</td>\n",
       "      <td>Lionel Messi</td>\n",
       "      <td>...</td>\n",
       "      <td>NaN</td>\n",
       "      <td>NaN</td>\n",
       "      <td>['68&amp;rsquor;|2:0|Cristian Romero', '71&amp;rsquor;...</td>\n",
       "      <td>['32&amp;rsquor;|0:0|Mateo Kovačić', '32&amp;rsquor;|0...</td>\n",
       "      <td>['62&amp;rsquor;|2:0|Lisandro Martínez|for Leandro...</td>\n",
       "      <td>['46&amp;rsquor;|2:0|Mislav Oršić|for Borna Sosa',...</td>\n",
       "      <td>3.0</td>\n",
       "      <td>0.0</td>\n",
       "      <td>39,69</td>\n",
       "      <td></td>\n",
       "    </tr>\n",
       "    <tr>\n",
       "      <th>4</th>\n",
       "      <td>Morocco</td>\n",
       "      <td>Portugal</td>\n",
       "      <td>1</td>\n",
       "      <td>1.4</td>\n",
       "      <td>0.0</td>\n",
       "      <td>0</td>\n",
       "      <td>0.9</td>\n",
       "      <td>0.0</td>\n",
       "      <td>Hoalid Regragui</td>\n",
       "      <td>Romain Saïss</td>\n",
       "      <td>...</td>\n",
       "      <td>Walid Cheddira · 90+3</td>\n",
       "      <td>NaN</td>\n",
       "      <td>['70&amp;rsquor;|1:0|Achraf Dari', '90+1&amp;rsquor;|1...</td>\n",
       "      <td>['87&amp;rsquor;|1:0|Vitinha']</td>\n",
       "      <td>['57&amp;rsquor;|1:0|Achraf Dari|for Romain Saïss'...</td>\n",
       "      <td>['51&amp;rsquor;|1:0|João Cancelo|for Raphaël Guer...</td>\n",
       "      <td>1.0</td>\n",
       "      <td>0.0</td>\n",
       "      <td>42</td>\n",
       "      <td></td>\n",
       "    </tr>\n",
       "    <tr>\n",
       "      <th>...</th>\n",
       "      <td>...</td>\n",
       "      <td>...</td>\n",
       "      <td>...</td>\n",
       "      <td>...</td>\n",
       "      <td>...</td>\n",
       "      <td>...</td>\n",
       "      <td>...</td>\n",
       "      <td>...</td>\n",
       "      <td>...</td>\n",
       "      <td>...</td>\n",
       "      <td>...</td>\n",
       "      <td>...</td>\n",
       "      <td>...</td>\n",
       "      <td>...</td>\n",
       "      <td>...</td>\n",
       "      <td>...</td>\n",
       "      <td>...</td>\n",
       "      <td>...</td>\n",
       "      <td>...</td>\n",
       "      <td>...</td>\n",
       "      <td>...</td>\n",
       "    </tr>\n",
       "    <tr>\n",
       "      <th>959</th>\n",
       "      <td>Argentina</td>\n",
       "      <td>France</td>\n",
       "      <td>1</td>\n",
       "      <td>NaN</td>\n",
       "      <td>0.0</td>\n",
       "      <td>0</td>\n",
       "      <td>NaN</td>\n",
       "      <td>0.0</td>\n",
       "      <td>Francisco Olazar</td>\n",
       "      <td>Manuel Ferreira</td>\n",
       "      <td>...</td>\n",
       "      <td>NaN</td>\n",
       "      <td>NaN</td>\n",
       "      <td>NaN</td>\n",
       "      <td>NaN</td>\n",
       "      <td>NaN</td>\n",
       "      <td>NaN</td>\n",
       "      <td>1.0</td>\n",
       "      <td>0.0</td>\n",
       "      <td>81</td>\n",
       "      <td></td>\n",
       "    </tr>\n",
       "    <tr>\n",
       "      <th>960</th>\n",
       "      <td>Yugoslavia</td>\n",
       "      <td>Brazil</td>\n",
       "      <td>2</td>\n",
       "      <td>NaN</td>\n",
       "      <td>0.0</td>\n",
       "      <td>1</td>\n",
       "      <td>NaN</td>\n",
       "      <td>0.0</td>\n",
       "      <td>Bosko Simonovic</td>\n",
       "      <td>Milutin Ivković</td>\n",
       "      <td>...</td>\n",
       "      <td>NaN</td>\n",
       "      <td>NaN</td>\n",
       "      <td>NaN</td>\n",
       "      <td>NaN</td>\n",
       "      <td>NaN</td>\n",
       "      <td>NaN</td>\n",
       "      <td>2.0</td>\n",
       "      <td>1.0</td>\n",
       "      <td>21,30</td>\n",
       "      <td>62</td>\n",
       "    </tr>\n",
       "    <tr>\n",
       "      <th>961</th>\n",
       "      <td>Romania</td>\n",
       "      <td>Peru</td>\n",
       "      <td>3</td>\n",
       "      <td>NaN</td>\n",
       "      <td>0.0</td>\n",
       "      <td>1</td>\n",
       "      <td>NaN</td>\n",
       "      <td>0.0</td>\n",
       "      <td>Octav Luchide</td>\n",
       "      <td>Emerich Vogl</td>\n",
       "      <td>...</td>\n",
       "      <td>NaN</td>\n",
       "      <td>NaN</td>\n",
       "      <td>NaN</td>\n",
       "      <td>NaN</td>\n",
       "      <td>NaN</td>\n",
       "      <td>NaN</td>\n",
       "      <td>3.0</td>\n",
       "      <td>1.0</td>\n",
       "      <td>1,79,89</td>\n",
       "      <td>75</td>\n",
       "    </tr>\n",
       "    <tr>\n",
       "      <th>962</th>\n",
       "      <td>United States</td>\n",
       "      <td>Belgium</td>\n",
       "      <td>3</td>\n",
       "      <td>NaN</td>\n",
       "      <td>0.0</td>\n",
       "      <td>0</td>\n",
       "      <td>NaN</td>\n",
       "      <td>0.0</td>\n",
       "      <td>Bob Millar</td>\n",
       "      <td>Tom Florie</td>\n",
       "      <td>...</td>\n",
       "      <td>NaN</td>\n",
       "      <td>NaN</td>\n",
       "      <td>NaN</td>\n",
       "      <td>NaN</td>\n",
       "      <td>NaN</td>\n",
       "      <td>NaN</td>\n",
       "      <td>3.0</td>\n",
       "      <td>0.0</td>\n",
       "      <td>23,45,69</td>\n",
       "      <td></td>\n",
       "    </tr>\n",
       "    <tr>\n",
       "      <th>963</th>\n",
       "      <td>France</td>\n",
       "      <td>Mexico</td>\n",
       "      <td>4</td>\n",
       "      <td>NaN</td>\n",
       "      <td>0.0</td>\n",
       "      <td>1</td>\n",
       "      <td>NaN</td>\n",
       "      <td>0.0</td>\n",
       "      <td>Raoul Caudron</td>\n",
       "      <td>Alexandre Villaplane</td>\n",
       "      <td>...</td>\n",
       "      <td>NaN</td>\n",
       "      <td>NaN</td>\n",
       "      <td>NaN</td>\n",
       "      <td>NaN</td>\n",
       "      <td>NaN</td>\n",
       "      <td>NaN</td>\n",
       "      <td>4.0</td>\n",
       "      <td>1.0</td>\n",
       "      <td>19,40,43,87</td>\n",
       "      <td>70</td>\n",
       "    </tr>\n",
       "  </tbody>\n",
       "</table>\n",
       "<p>964 rows × 48 columns</p>\n",
       "</div>"
      ],
      "text/plain": [
       "         home_team away_team  home_score  home_xg  home_penalty  away_score  \\\n",
       "0        Argentina    France           3      3.3           4.0           3   \n",
       "1          Croatia   Morocco           2      0.7           0.0           1   \n",
       "2           France   Morocco           2      2.0           0.0           0   \n",
       "3        Argentina   Croatia           3      2.3           0.0           0   \n",
       "4          Morocco  Portugal           1      1.4           0.0           0   \n",
       "..             ...       ...         ...      ...           ...         ...   \n",
       "959      Argentina    France           1      NaN           0.0           0   \n",
       "960     Yugoslavia    Brazil           2      NaN           0.0           1   \n",
       "961        Romania      Peru           3      NaN           0.0           1   \n",
       "962  United States   Belgium           3      NaN           0.0           0   \n",
       "963         France    Mexico           4      NaN           0.0           1   \n",
       "\n",
       "     away_xg  away_penalty      home_manager          home_captain  ...  \\\n",
       "0        2.2           2.0    Lionel Scaloni          Lionel Messi  ...   \n",
       "1        1.2           0.0      Zlatko Dalić           Luka Modrić  ...   \n",
       "2        0.9           0.0  Didier Deschamps           Hugo Lloris  ...   \n",
       "3        0.5           0.0    Lionel Scaloni          Lionel Messi  ...   \n",
       "4        0.9           0.0   Hoalid Regragui          Romain Saïss  ...   \n",
       "..       ...           ...               ...                   ...  ...   \n",
       "959      NaN           0.0  Francisco Olazar       Manuel Ferreira  ...   \n",
       "960      NaN           0.0   Bosko Simonovic       Milutin Ivković  ...   \n",
       "961      NaN           0.0     Octav Luchide          Emerich Vogl  ...   \n",
       "962      NaN           0.0        Bob Millar            Tom Florie  ...   \n",
       "963      NaN           0.0     Raoul Caudron  Alexandre Villaplane  ...   \n",
       "\n",
       "      home_yellow_red_card away_yellow_red_card  \\\n",
       "0                      NaN                  NaN   \n",
       "1                      NaN                  NaN   \n",
       "2                      NaN                  NaN   \n",
       "3                      NaN                  NaN   \n",
       "4    Walid Cheddira · 90+3                  NaN   \n",
       "..                     ...                  ...   \n",
       "959                    NaN                  NaN   \n",
       "960                    NaN                  NaN   \n",
       "961                    NaN                  NaN   \n",
       "962                    NaN                  NaN   \n",
       "963                    NaN                  NaN   \n",
       "\n",
       "                                 home_yellow_card_long  \\\n",
       "0    ['45+7&rsquor;|2:0|Enzo Fernández', '90+8&rsqu...   \n",
       "1                                                  NaN   \n",
       "2                                                  NaN   \n",
       "3    ['68&rsquor;|2:0|Cristian Romero', '71&rsquor;...   \n",
       "4    ['70&rsquor;|1:0|Achraf Dari', '90+1&rsquor;|1...   \n",
       "..                                                 ...   \n",
       "959                                                NaN   \n",
       "960                                                NaN   \n",
       "961                                                NaN   \n",
       "962                                                NaN   \n",
       "963                                                NaN   \n",
       "\n",
       "                                 away_yellow_card_long  \\\n",
       "0    ['55&rsquor;|2:0|Adrien Rabiot', '87&rsquor;|2...   \n",
       "1    ['69&rsquor;|2:1|Azzedine Ounahi', '84&rsquor;...   \n",
       "2                    ['27&rsquor;|1:0|Sofiane Boufal']   \n",
       "3    ['32&rsquor;|0:0|Mateo Kovačić', '32&rsquor;|0...   \n",
       "4                           ['87&rsquor;|1:0|Vitinha']   \n",
       "..                                                 ...   \n",
       "959                                                NaN   \n",
       "960                                                NaN   \n",
       "961                                                NaN   \n",
       "962                                                NaN   \n",
       "963                                                NaN   \n",
       "\n",
       "                               home_substitute_in_long  \\\n",
       "0    ['64&rsquor;|2:0|Marcos Acuña|for Ángel Di Mar...   \n",
       "1    ['61&rsquor;|2:1|Nikola Vlašić|for Andrej Kram...   \n",
       "2    ['65&rsquor;|1:0|Marcus Thuram|for Olivier Gir...   \n",
       "3    ['62&rsquor;|2:0|Lisandro Martínez|for Leandro...   \n",
       "4    ['57&rsquor;|1:0|Achraf Dari|for Romain Saïss'...   \n",
       "..                                                 ...   \n",
       "959                                                NaN   \n",
       "960                                                NaN   \n",
       "961                                                NaN   \n",
       "962                                                NaN   \n",
       "963                                                NaN   \n",
       "\n",
       "                               away_substitute_in_long h_total a_total  \\\n",
       "0    ['41&rsquor;|2:0|Randal Kolo Muani|for Ousmane...     7.0     5.0   \n",
       "1    ['46&rsquor;|2:1|Ilias Chair|for Abdelhamid Sa...     2.0     1.0   \n",
       "2    ['21&rsquor;|1:0|Selim Amallah|for Romain Saïs...     2.0     0.0   \n",
       "3    ['46&rsquor;|2:0|Mislav Oršić|for Borna Sosa',...     3.0     0.0   \n",
       "4    ['51&rsquor;|1:0|João Cancelo|for Raphaël Guer...     1.0     0.0   \n",
       "..                                                 ...     ...     ...   \n",
       "959                                                NaN     1.0     0.0   \n",
       "960                                                NaN     2.0     1.0   \n",
       "961                                                NaN     3.0     1.0   \n",
       "962                                                NaN     3.0     0.0   \n",
       "963                                                NaN     4.0     1.0   \n",
       "\n",
       "      Home_Goals Away_Goals  \n",
       "0         36,108         81  \n",
       "1           7,42          9  \n",
       "2           5,79             \n",
       "3          39,69             \n",
       "4             42             \n",
       "..           ...        ...  \n",
       "959           81             \n",
       "960        21,30         62  \n",
       "961      1,79,89         75  \n",
       "962     23,45,69             \n",
       "963  19,40,43,87         70  \n",
       "\n",
       "[964 rows x 48 columns]"
      ]
     },
     "execution_count": 145,
     "metadata": {},
     "output_type": "execute_result"
    }
   ],
   "source": [
    "matches"
   ]
  },
  {
   "cell_type": "code",
   "execution_count": 146,
   "id": "39cd9dd4",
   "metadata": {},
   "outputs": [],
   "source": [
    "#CHECKING FOR KNOCKOUTS OR NOT\n",
    "knockout_rounds=['Final', 'Semi-finals', 'Quarter-finals']\n",
    "matches['Knockout']= matches['Round'].apply(lambda x : 'Knockout' if x in knockout_rounds else 'Non-Knockout')"
   ]
  },
  {
   "cell_type": "code",
   "execution_count": 147,
   "id": "6c8f72fa",
   "metadata": {},
   "outputs": [
    {
     "data": {
      "text/html": [
       "<div>\n",
       "<style scoped>\n",
       "    .dataframe tbody tr th:only-of-type {\n",
       "        vertical-align: middle;\n",
       "    }\n",
       "\n",
       "    .dataframe tbody tr th {\n",
       "        vertical-align: top;\n",
       "    }\n",
       "\n",
       "    .dataframe thead th {\n",
       "        text-align: right;\n",
       "    }\n",
       "</style>\n",
       "<table border=\"1\" class=\"dataframe\">\n",
       "  <thead>\n",
       "    <tr style=\"text-align: right;\">\n",
       "      <th></th>\n",
       "      <th>home_team</th>\n",
       "      <th>away_team</th>\n",
       "      <th>home_score</th>\n",
       "      <th>home_xg</th>\n",
       "      <th>home_penalty</th>\n",
       "      <th>away_score</th>\n",
       "      <th>away_xg</th>\n",
       "      <th>away_penalty</th>\n",
       "      <th>home_manager</th>\n",
       "      <th>home_captain</th>\n",
       "      <th>...</th>\n",
       "      <th>away_yellow_red_card</th>\n",
       "      <th>home_yellow_card_long</th>\n",
       "      <th>away_yellow_card_long</th>\n",
       "      <th>home_substitute_in_long</th>\n",
       "      <th>away_substitute_in_long</th>\n",
       "      <th>h_total</th>\n",
       "      <th>a_total</th>\n",
       "      <th>Home_Goals</th>\n",
       "      <th>Away_Goals</th>\n",
       "      <th>Knockout</th>\n",
       "    </tr>\n",
       "  </thead>\n",
       "  <tbody>\n",
       "    <tr>\n",
       "      <th>0</th>\n",
       "      <td>Argentina</td>\n",
       "      <td>France</td>\n",
       "      <td>3</td>\n",
       "      <td>3.3</td>\n",
       "      <td>4.0</td>\n",
       "      <td>3</td>\n",
       "      <td>2.2</td>\n",
       "      <td>2.0</td>\n",
       "      <td>Lionel Scaloni</td>\n",
       "      <td>Lionel Messi</td>\n",
       "      <td>...</td>\n",
       "      <td>NaN</td>\n",
       "      <td>['45+7&amp;rsquor;|2:0|Enzo Fernández', '90+8&amp;rsqu...</td>\n",
       "      <td>['55&amp;rsquor;|2:0|Adrien Rabiot', '87&amp;rsquor;|2...</td>\n",
       "      <td>['64&amp;rsquor;|2:0|Marcos Acuña|for Ángel Di Mar...</td>\n",
       "      <td>['41&amp;rsquor;|2:0|Randal Kolo Muani|for Ousmane...</td>\n",
       "      <td>7.0</td>\n",
       "      <td>5.0</td>\n",
       "      <td>36,108</td>\n",
       "      <td>81</td>\n",
       "      <td>Knockout</td>\n",
       "    </tr>\n",
       "    <tr>\n",
       "      <th>1</th>\n",
       "      <td>Croatia</td>\n",
       "      <td>Morocco</td>\n",
       "      <td>2</td>\n",
       "      <td>0.7</td>\n",
       "      <td>0.0</td>\n",
       "      <td>1</td>\n",
       "      <td>1.2</td>\n",
       "      <td>0.0</td>\n",
       "      <td>Zlatko Dalić</td>\n",
       "      <td>Luka Modrić</td>\n",
       "      <td>...</td>\n",
       "      <td>NaN</td>\n",
       "      <td>NaN</td>\n",
       "      <td>['69&amp;rsquor;|2:1|Azzedine Ounahi', '84&amp;rsquor;...</td>\n",
       "      <td>['61&amp;rsquor;|2:1|Nikola Vlašić|for Andrej Kram...</td>\n",
       "      <td>['46&amp;rsquor;|2:1|Ilias Chair|for Abdelhamid Sa...</td>\n",
       "      <td>2.0</td>\n",
       "      <td>1.0</td>\n",
       "      <td>7,42</td>\n",
       "      <td>9</td>\n",
       "      <td>Non-Knockout</td>\n",
       "    </tr>\n",
       "    <tr>\n",
       "      <th>2</th>\n",
       "      <td>France</td>\n",
       "      <td>Morocco</td>\n",
       "      <td>2</td>\n",
       "      <td>2.0</td>\n",
       "      <td>0.0</td>\n",
       "      <td>0</td>\n",
       "      <td>0.9</td>\n",
       "      <td>0.0</td>\n",
       "      <td>Didier Deschamps</td>\n",
       "      <td>Hugo Lloris</td>\n",
       "      <td>...</td>\n",
       "      <td>NaN</td>\n",
       "      <td>NaN</td>\n",
       "      <td>['27&amp;rsquor;|1:0|Sofiane Boufal']</td>\n",
       "      <td>['65&amp;rsquor;|1:0|Marcus Thuram|for Olivier Gir...</td>\n",
       "      <td>['21&amp;rsquor;|1:0|Selim Amallah|for Romain Saïs...</td>\n",
       "      <td>2.0</td>\n",
       "      <td>0.0</td>\n",
       "      <td>5,79</td>\n",
       "      <td></td>\n",
       "      <td>Knockout</td>\n",
       "    </tr>\n",
       "    <tr>\n",
       "      <th>3</th>\n",
       "      <td>Argentina</td>\n",
       "      <td>Croatia</td>\n",
       "      <td>3</td>\n",
       "      <td>2.3</td>\n",
       "      <td>0.0</td>\n",
       "      <td>0</td>\n",
       "      <td>0.5</td>\n",
       "      <td>0.0</td>\n",
       "      <td>Lionel Scaloni</td>\n",
       "      <td>Lionel Messi</td>\n",
       "      <td>...</td>\n",
       "      <td>NaN</td>\n",
       "      <td>['68&amp;rsquor;|2:0|Cristian Romero', '71&amp;rsquor;...</td>\n",
       "      <td>['32&amp;rsquor;|0:0|Mateo Kovačić', '32&amp;rsquor;|0...</td>\n",
       "      <td>['62&amp;rsquor;|2:0|Lisandro Martínez|for Leandro...</td>\n",
       "      <td>['46&amp;rsquor;|2:0|Mislav Oršić|for Borna Sosa',...</td>\n",
       "      <td>3.0</td>\n",
       "      <td>0.0</td>\n",
       "      <td>39,69</td>\n",
       "      <td></td>\n",
       "      <td>Knockout</td>\n",
       "    </tr>\n",
       "    <tr>\n",
       "      <th>4</th>\n",
       "      <td>Morocco</td>\n",
       "      <td>Portugal</td>\n",
       "      <td>1</td>\n",
       "      <td>1.4</td>\n",
       "      <td>0.0</td>\n",
       "      <td>0</td>\n",
       "      <td>0.9</td>\n",
       "      <td>0.0</td>\n",
       "      <td>Hoalid Regragui</td>\n",
       "      <td>Romain Saïss</td>\n",
       "      <td>...</td>\n",
       "      <td>NaN</td>\n",
       "      <td>['70&amp;rsquor;|1:0|Achraf Dari', '90+1&amp;rsquor;|1...</td>\n",
       "      <td>['87&amp;rsquor;|1:0|Vitinha']</td>\n",
       "      <td>['57&amp;rsquor;|1:0|Achraf Dari|for Romain Saïss'...</td>\n",
       "      <td>['51&amp;rsquor;|1:0|João Cancelo|for Raphaël Guer...</td>\n",
       "      <td>1.0</td>\n",
       "      <td>0.0</td>\n",
       "      <td>42</td>\n",
       "      <td></td>\n",
       "      <td>Knockout</td>\n",
       "    </tr>\n",
       "    <tr>\n",
       "      <th>...</th>\n",
       "      <td>...</td>\n",
       "      <td>...</td>\n",
       "      <td>...</td>\n",
       "      <td>...</td>\n",
       "      <td>...</td>\n",
       "      <td>...</td>\n",
       "      <td>...</td>\n",
       "      <td>...</td>\n",
       "      <td>...</td>\n",
       "      <td>...</td>\n",
       "      <td>...</td>\n",
       "      <td>...</td>\n",
       "      <td>...</td>\n",
       "      <td>...</td>\n",
       "      <td>...</td>\n",
       "      <td>...</td>\n",
       "      <td>...</td>\n",
       "      <td>...</td>\n",
       "      <td>...</td>\n",
       "      <td>...</td>\n",
       "      <td>...</td>\n",
       "    </tr>\n",
       "    <tr>\n",
       "      <th>959</th>\n",
       "      <td>Argentina</td>\n",
       "      <td>France</td>\n",
       "      <td>1</td>\n",
       "      <td>NaN</td>\n",
       "      <td>0.0</td>\n",
       "      <td>0</td>\n",
       "      <td>NaN</td>\n",
       "      <td>0.0</td>\n",
       "      <td>Francisco Olazar</td>\n",
       "      <td>Manuel Ferreira</td>\n",
       "      <td>...</td>\n",
       "      <td>NaN</td>\n",
       "      <td>NaN</td>\n",
       "      <td>NaN</td>\n",
       "      <td>NaN</td>\n",
       "      <td>NaN</td>\n",
       "      <td>1.0</td>\n",
       "      <td>0.0</td>\n",
       "      <td>81</td>\n",
       "      <td></td>\n",
       "      <td>Non-Knockout</td>\n",
       "    </tr>\n",
       "    <tr>\n",
       "      <th>960</th>\n",
       "      <td>Yugoslavia</td>\n",
       "      <td>Brazil</td>\n",
       "      <td>2</td>\n",
       "      <td>NaN</td>\n",
       "      <td>0.0</td>\n",
       "      <td>1</td>\n",
       "      <td>NaN</td>\n",
       "      <td>0.0</td>\n",
       "      <td>Bosko Simonovic</td>\n",
       "      <td>Milutin Ivković</td>\n",
       "      <td>...</td>\n",
       "      <td>NaN</td>\n",
       "      <td>NaN</td>\n",
       "      <td>NaN</td>\n",
       "      <td>NaN</td>\n",
       "      <td>NaN</td>\n",
       "      <td>2.0</td>\n",
       "      <td>1.0</td>\n",
       "      <td>21,30</td>\n",
       "      <td>62</td>\n",
       "      <td>Non-Knockout</td>\n",
       "    </tr>\n",
       "    <tr>\n",
       "      <th>961</th>\n",
       "      <td>Romania</td>\n",
       "      <td>Peru</td>\n",
       "      <td>3</td>\n",
       "      <td>NaN</td>\n",
       "      <td>0.0</td>\n",
       "      <td>1</td>\n",
       "      <td>NaN</td>\n",
       "      <td>0.0</td>\n",
       "      <td>Octav Luchide</td>\n",
       "      <td>Emerich Vogl</td>\n",
       "      <td>...</td>\n",
       "      <td>NaN</td>\n",
       "      <td>NaN</td>\n",
       "      <td>NaN</td>\n",
       "      <td>NaN</td>\n",
       "      <td>NaN</td>\n",
       "      <td>3.0</td>\n",
       "      <td>1.0</td>\n",
       "      <td>1,79,89</td>\n",
       "      <td>75</td>\n",
       "      <td>Non-Knockout</td>\n",
       "    </tr>\n",
       "    <tr>\n",
       "      <th>962</th>\n",
       "      <td>United States</td>\n",
       "      <td>Belgium</td>\n",
       "      <td>3</td>\n",
       "      <td>NaN</td>\n",
       "      <td>0.0</td>\n",
       "      <td>0</td>\n",
       "      <td>NaN</td>\n",
       "      <td>0.0</td>\n",
       "      <td>Bob Millar</td>\n",
       "      <td>Tom Florie</td>\n",
       "      <td>...</td>\n",
       "      <td>NaN</td>\n",
       "      <td>NaN</td>\n",
       "      <td>NaN</td>\n",
       "      <td>NaN</td>\n",
       "      <td>NaN</td>\n",
       "      <td>3.0</td>\n",
       "      <td>0.0</td>\n",
       "      <td>23,45,69</td>\n",
       "      <td></td>\n",
       "      <td>Non-Knockout</td>\n",
       "    </tr>\n",
       "    <tr>\n",
       "      <th>963</th>\n",
       "      <td>France</td>\n",
       "      <td>Mexico</td>\n",
       "      <td>4</td>\n",
       "      <td>NaN</td>\n",
       "      <td>0.0</td>\n",
       "      <td>1</td>\n",
       "      <td>NaN</td>\n",
       "      <td>0.0</td>\n",
       "      <td>Raoul Caudron</td>\n",
       "      <td>Alexandre Villaplane</td>\n",
       "      <td>...</td>\n",
       "      <td>NaN</td>\n",
       "      <td>NaN</td>\n",
       "      <td>NaN</td>\n",
       "      <td>NaN</td>\n",
       "      <td>NaN</td>\n",
       "      <td>4.0</td>\n",
       "      <td>1.0</td>\n",
       "      <td>19,40,43,87</td>\n",
       "      <td>70</td>\n",
       "      <td>Non-Knockout</td>\n",
       "    </tr>\n",
       "  </tbody>\n",
       "</table>\n",
       "<p>964 rows × 49 columns</p>\n",
       "</div>"
      ],
      "text/plain": [
       "         home_team away_team  home_score  home_xg  home_penalty  away_score  \\\n",
       "0        Argentina    France           3      3.3           4.0           3   \n",
       "1          Croatia   Morocco           2      0.7           0.0           1   \n",
       "2           France   Morocco           2      2.0           0.0           0   \n",
       "3        Argentina   Croatia           3      2.3           0.0           0   \n",
       "4          Morocco  Portugal           1      1.4           0.0           0   \n",
       "..             ...       ...         ...      ...           ...         ...   \n",
       "959      Argentina    France           1      NaN           0.0           0   \n",
       "960     Yugoslavia    Brazil           2      NaN           0.0           1   \n",
       "961        Romania      Peru           3      NaN           0.0           1   \n",
       "962  United States   Belgium           3      NaN           0.0           0   \n",
       "963         France    Mexico           4      NaN           0.0           1   \n",
       "\n",
       "     away_xg  away_penalty      home_manager          home_captain  ...  \\\n",
       "0        2.2           2.0    Lionel Scaloni          Lionel Messi  ...   \n",
       "1        1.2           0.0      Zlatko Dalić           Luka Modrić  ...   \n",
       "2        0.9           0.0  Didier Deschamps           Hugo Lloris  ...   \n",
       "3        0.5           0.0    Lionel Scaloni          Lionel Messi  ...   \n",
       "4        0.9           0.0   Hoalid Regragui          Romain Saïss  ...   \n",
       "..       ...           ...               ...                   ...  ...   \n",
       "959      NaN           0.0  Francisco Olazar       Manuel Ferreira  ...   \n",
       "960      NaN           0.0   Bosko Simonovic       Milutin Ivković  ...   \n",
       "961      NaN           0.0     Octav Luchide          Emerich Vogl  ...   \n",
       "962      NaN           0.0        Bob Millar            Tom Florie  ...   \n",
       "963      NaN           0.0     Raoul Caudron  Alexandre Villaplane  ...   \n",
       "\n",
       "    away_yellow_red_card                              home_yellow_card_long  \\\n",
       "0                    NaN  ['45+7&rsquor;|2:0|Enzo Fernández', '90+8&rsqu...   \n",
       "1                    NaN                                                NaN   \n",
       "2                    NaN                                                NaN   \n",
       "3                    NaN  ['68&rsquor;|2:0|Cristian Romero', '71&rsquor;...   \n",
       "4                    NaN  ['70&rsquor;|1:0|Achraf Dari', '90+1&rsquor;|1...   \n",
       "..                   ...                                                ...   \n",
       "959                  NaN                                                NaN   \n",
       "960                  NaN                                                NaN   \n",
       "961                  NaN                                                NaN   \n",
       "962                  NaN                                                NaN   \n",
       "963                  NaN                                                NaN   \n",
       "\n",
       "                                 away_yellow_card_long  \\\n",
       "0    ['55&rsquor;|2:0|Adrien Rabiot', '87&rsquor;|2...   \n",
       "1    ['69&rsquor;|2:1|Azzedine Ounahi', '84&rsquor;...   \n",
       "2                    ['27&rsquor;|1:0|Sofiane Boufal']   \n",
       "3    ['32&rsquor;|0:0|Mateo Kovačić', '32&rsquor;|0...   \n",
       "4                           ['87&rsquor;|1:0|Vitinha']   \n",
       "..                                                 ...   \n",
       "959                                                NaN   \n",
       "960                                                NaN   \n",
       "961                                                NaN   \n",
       "962                                                NaN   \n",
       "963                                                NaN   \n",
       "\n",
       "                               home_substitute_in_long  \\\n",
       "0    ['64&rsquor;|2:0|Marcos Acuña|for Ángel Di Mar...   \n",
       "1    ['61&rsquor;|2:1|Nikola Vlašić|for Andrej Kram...   \n",
       "2    ['65&rsquor;|1:0|Marcus Thuram|for Olivier Gir...   \n",
       "3    ['62&rsquor;|2:0|Lisandro Martínez|for Leandro...   \n",
       "4    ['57&rsquor;|1:0|Achraf Dari|for Romain Saïss'...   \n",
       "..                                                 ...   \n",
       "959                                                NaN   \n",
       "960                                                NaN   \n",
       "961                                                NaN   \n",
       "962                                                NaN   \n",
       "963                                                NaN   \n",
       "\n",
       "                               away_substitute_in_long h_total a_total  \\\n",
       "0    ['41&rsquor;|2:0|Randal Kolo Muani|for Ousmane...     7.0     5.0   \n",
       "1    ['46&rsquor;|2:1|Ilias Chair|for Abdelhamid Sa...     2.0     1.0   \n",
       "2    ['21&rsquor;|1:0|Selim Amallah|for Romain Saïs...     2.0     0.0   \n",
       "3    ['46&rsquor;|2:0|Mislav Oršić|for Borna Sosa',...     3.0     0.0   \n",
       "4    ['51&rsquor;|1:0|João Cancelo|for Raphaël Guer...     1.0     0.0   \n",
       "..                                                 ...     ...     ...   \n",
       "959                                                NaN     1.0     0.0   \n",
       "960                                                NaN     2.0     1.0   \n",
       "961                                                NaN     3.0     1.0   \n",
       "962                                                NaN     3.0     0.0   \n",
       "963                                                NaN     4.0     1.0   \n",
       "\n",
       "      Home_Goals Away_Goals      Knockout  \n",
       "0         36,108         81      Knockout  \n",
       "1           7,42          9  Non-Knockout  \n",
       "2           5,79                 Knockout  \n",
       "3          39,69                 Knockout  \n",
       "4             42                 Knockout  \n",
       "..           ...        ...           ...  \n",
       "959           81             Non-Knockout  \n",
       "960        21,30         62  Non-Knockout  \n",
       "961      1,79,89         75  Non-Knockout  \n",
       "962     23,45,69             Non-Knockout  \n",
       "963  19,40,43,87         70  Non-Knockout  \n",
       "\n",
       "[964 rows x 49 columns]"
      ]
     },
     "execution_count": 147,
     "metadata": {},
     "output_type": "execute_result"
    }
   ],
   "source": [
    "matches"
   ]
  },
  {
   "cell_type": "code",
   "execution_count": 176,
   "id": "ba183e87",
   "metadata": {},
   "outputs": [],
   "source": [
    "country='Romania'"
   ]
  },
  {
   "cell_type": "code",
   "execution_count": 177,
   "id": "d21de46d",
   "metadata": {},
   "outputs": [],
   "source": [
    "home_k = matches[(matches['home_team']==country)&(matches['Knockout']== 'Knockout')]\n",
    "away_k = matches[(matches['away_team']==country)&(matches['Knockout']== 'Knockout')]\n",
    "\n",
    "home_nk = matches[(matches['home_team']==country)&(matches['Knockout']== 'Non-Knockout')]\n",
    "away_nk = matches[(matches['away_team']==country)&(matches['Knockout']== 'Non-Knockout')]"
   ]
  },
  {
   "cell_type": "code",
   "execution_count": 178,
   "id": "2fa7851b",
   "metadata": {},
   "outputs": [
    {
     "data": {
      "text/html": [
       "<div>\n",
       "<style scoped>\n",
       "    .dataframe tbody tr th:only-of-type {\n",
       "        vertical-align: middle;\n",
       "    }\n",
       "\n",
       "    .dataframe tbody tr th {\n",
       "        vertical-align: top;\n",
       "    }\n",
       "\n",
       "    .dataframe thead th {\n",
       "        text-align: right;\n",
       "    }\n",
       "</style>\n",
       "<table border=\"1\" class=\"dataframe\">\n",
       "  <thead>\n",
       "    <tr style=\"text-align: right;\">\n",
       "      <th></th>\n",
       "      <th>home_team</th>\n",
       "      <th>away_team</th>\n",
       "      <th>home_score</th>\n",
       "      <th>home_xg</th>\n",
       "      <th>home_penalty</th>\n",
       "      <th>away_score</th>\n",
       "      <th>away_xg</th>\n",
       "      <th>away_penalty</th>\n",
       "      <th>home_manager</th>\n",
       "      <th>home_captain</th>\n",
       "      <th>...</th>\n",
       "      <th>away_yellow_red_card</th>\n",
       "      <th>home_yellow_card_long</th>\n",
       "      <th>away_yellow_card_long</th>\n",
       "      <th>home_substitute_in_long</th>\n",
       "      <th>away_substitute_in_long</th>\n",
       "      <th>h_total</th>\n",
       "      <th>a_total</th>\n",
       "      <th>Home_Goals</th>\n",
       "      <th>Away_Goals</th>\n",
       "      <th>Knockout</th>\n",
       "    </tr>\n",
       "  </thead>\n",
       "  <tbody>\n",
       "    <tr>\n",
       "      <th>453</th>\n",
       "      <td>Romania</td>\n",
       "      <td>Sweden</td>\n",
       "      <td>2</td>\n",
       "      <td>NaN</td>\n",
       "      <td>4.0</td>\n",
       "      <td>2</td>\n",
       "      <td>NaN</td>\n",
       "      <td>5.0</td>\n",
       "      <td>Anghel Iordanescu</td>\n",
       "      <td>Gheorghe Hagi</td>\n",
       "      <td>...</td>\n",
       "      <td>Stefan Schwarz · 101</td>\n",
       "      <td>['21&amp;rsquor;|0:0|Gheorghe Popescu', '34&amp;rsquor...</td>\n",
       "      <td>['7&amp;rsquor;|0:0|Klas Ingesson', '43&amp;rsquor;|0:...</td>\n",
       "      <td>['84&amp;rsquor;|0:1|Basarab Panduru|for Dorinel M...</td>\n",
       "      <td>['84&amp;rsquor;|0:1|Pontus Kåmark|for Joachim Bjö...</td>\n",
       "      <td>6.0</td>\n",
       "      <td>7.0</td>\n",
       "      <td>88,101</td>\n",
       "      <td>78,115</td>\n",
       "      <td>Knockout</td>\n",
       "    </tr>\n",
       "  </tbody>\n",
       "</table>\n",
       "<p>1 rows × 49 columns</p>\n",
       "</div>"
      ],
      "text/plain": [
       "    home_team away_team  home_score  home_xg  home_penalty  away_score  \\\n",
       "453   Romania    Sweden           2      NaN           4.0           2   \n",
       "\n",
       "     away_xg  away_penalty       home_manager   home_captain  ...  \\\n",
       "453      NaN           5.0  Anghel Iordanescu  Gheorghe Hagi  ...   \n",
       "\n",
       "     away_yellow_red_card                              home_yellow_card_long  \\\n",
       "453  Stefan Schwarz · 101  ['21&rsquor;|0:0|Gheorghe Popescu', '34&rsquor...   \n",
       "\n",
       "                                 away_yellow_card_long  \\\n",
       "453  ['7&rsquor;|0:0|Klas Ingesson', '43&rsquor;|0:...   \n",
       "\n",
       "                               home_substitute_in_long  \\\n",
       "453  ['84&rsquor;|0:1|Basarab Panduru|for Dorinel M...   \n",
       "\n",
       "                               away_substitute_in_long h_total a_total  \\\n",
       "453  ['84&rsquor;|0:1|Pontus Kåmark|for Joachim Bjö...     6.0     7.0   \n",
       "\n",
       "    Home_Goals Away_Goals  Knockout  \n",
       "453     88,101     78,115  Knockout  \n",
       "\n",
       "[1 rows x 49 columns]"
      ]
     },
     "execution_count": 178,
     "metadata": {},
     "output_type": "execute_result"
    }
   ],
   "source": [
    "home_k"
   ]
  },
  {
   "cell_type": "code",
   "execution_count": 179,
   "id": "998563f7",
   "metadata": {},
   "outputs": [
    {
     "name": "stderr",
     "output_type": "stream",
     "text": [
      "C:\\Users\\HP\\AppData\\Local\\Temp\\ipykernel_23452\\1669137317.py:6: FutureWarning:\n",
      "\n",
      "Downcasting behavior in `replace` is deprecated and will be removed in a future version. To retain the old behavior, explicitly call `result.infer_objects(copy=False)`. To opt-in to the future behavior, set `pd.set_option('future.no_silent_downcasting', True)`\n",
      "\n"
     ]
    }
   ],
   "source": [
    "a=home_k['Home_Goals'].str.split(',').explode().reset_index()\n",
    "b=away_k['Away_Goals'].str.split(',').explode().reset_index()\n",
    "\n",
    "\n",
    "df1=pd.concat([a,b],axis=0,ignore_index=True)\n",
    "df1.replace(r'^\\s*$', 0, regex=True, inplace=True)\n",
    "df1.fillna(0 ,inplace= True)\n",
    "\n",
    "df1['Home_Goals']= df1['Home_Goals'].astype(int)\n",
    "df1['Away_Goals']= df1['Away_Goals'].astype(int)\n",
    "df1['Time']= df1['Home_Goals']+df1['Away_Goals']\n",
    "df1= df1[df1['Time']!=0]\n",
    "\n",
    "def determine(row):\n",
    "    if(row['Time']<=45):\n",
    "        return(\"First Half\")\n",
    "    elif(row['Time']>45 and row['Time']<=90):\n",
    "        \n",
    "        \n",
    "        return(\"Second Half\")\n",
    "    else:\n",
    "        return(\"Extra Time\")\n",
    "\n",
    "df1['time']= df1.apply(determine, axis=1)\n",
    "\n"
   ]
  },
  {
   "cell_type": "code",
   "execution_count": 180,
   "id": "0ff015c0",
   "metadata": {},
   "outputs": [
    {
     "data": {
      "text/plain": [
       "time\n",
       "Second Half    50.0\n",
       "Extra Time     50.0\n",
       "Name: count, dtype: float64"
      ]
     },
     "execution_count": 180,
     "metadata": {},
     "output_type": "execute_result"
    }
   ],
   "source": [
    "df1['time'].value_counts()/len(df1)*100"
   ]
  },
  {
   "cell_type": "code",
   "execution_count": 184,
   "id": "8d62334c",
   "metadata": {},
   "outputs": [],
   "source": [
    "# FOR NON-KNOCKOUT GAMES\n",
    "a=home_nk['Home_Goals'].str.split(',').explode().reset_index()\n",
    "b=away_nk['Away_Goals'].str.split(',').explode().reset_index()\n",
    "\n",
    "df2= pd.concat([a,b], axis=0, ignore_index=True)\n",
    "df2.replace(r'^\\s*$', 0, regex=True, inplace=True)\n",
    "df2.fillna(0 ,inplace= True)\n",
    "\n",
    "\n",
    "df2['Home_Goals']= df2['Home_Goals'].astype(int)\n",
    "df2['Away_Goals']= df2['Away_Goals'].astype(int)\n",
    "\n",
    "df2['Time']= df2['Home_Goals']+df2['Away_Goals']\n",
    "df2= df2[df2['Time']!=0]\n",
    "\n",
    "def determine(row):\n",
    "    if(row['Time']<=45):\n",
    "        return(\"First Half\")\n",
    "    elif(row['Time']>45 and row['Time']<=90):\n",
    "        return(\"Second Half\")\n",
    "    else:\n",
    "        return(\"Extra Time\")\n",
    "\n",
    "df2['time']= df2.apply(determine, axis=1)"
   ]
  },
  {
   "cell_type": "code",
   "execution_count": 185,
   "id": "fec85f61",
   "metadata": {},
   "outputs": [
    {
     "data": {
      "text/plain": [
       "time\n",
       "First Half     50.000000\n",
       "Second Half    46.153846\n",
       "Extra Time      3.846154\n",
       "Name: count, dtype: float64"
      ]
     },
     "execution_count": 185,
     "metadata": {},
     "output_type": "execute_result"
    }
   ],
   "source": [
    "df2['time'].value_counts()/len(df2)*100"
   ]
  },
  {
   "cell_type": "markdown",
   "id": "5bfebe38",
   "metadata": {},
   "source": [
    "CONCLUSION\n",
    "\n",
    "Generally teams play more agressive in 2nd half as compared to first half be it knockout or non- knockout tournaments.\n",
    "\n",
    "In knockout Tournaments , Mexico only scored in First half, either they are defending in second half and maintaining the lead.\n",
    "\n",
    "In knockout Tournaments countries Romaniya , Pero play with same agression in both the halves of the game.\n",
    "\n",
    "Spain have very different strategy they place with almost equal agression in non knockout matches , however in knowckout matches they follow different plan , on first half they are into passive state (not scoring much) , however in second half they retaliate very voilently. Infact goals scored by them in first half and extra time are equal in number.\n",
    "\n",
    "Canada never reached a knowckout stage , and even in non knockout stages they never scored a goal in second half. This can be their scope of improvement area , as they not scoring in the second half may be the reason they never made it to knockouts."
   ]
  },
  {
   "cell_type": "code",
   "execution_count": 186,
   "id": "a8ab63e4",
   "metadata": {},
   "outputs": [],
   "source": [
    "matches_df=pd.read_csv(\"matches.csv\")"
   ]
  },
  {
   "cell_type": "code",
   "execution_count": 187,
   "id": "3c2f1312",
   "metadata": {},
   "outputs": [
    {
     "data": {
      "text/html": [
       "<div>\n",
       "<style scoped>\n",
       "    .dataframe tbody tr th:only-of-type {\n",
       "        vertical-align: middle;\n",
       "    }\n",
       "\n",
       "    .dataframe tbody tr th {\n",
       "        vertical-align: top;\n",
       "    }\n",
       "\n",
       "    .dataframe thead th {\n",
       "        text-align: right;\n",
       "    }\n",
       "</style>\n",
       "<table border=\"1\" class=\"dataframe\">\n",
       "  <thead>\n",
       "    <tr style=\"text-align: right;\">\n",
       "      <th></th>\n",
       "      <th>home_team</th>\n",
       "      <th>away_team</th>\n",
       "      <th>home_score</th>\n",
       "      <th>home_xg</th>\n",
       "      <th>home_penalty</th>\n",
       "      <th>away_score</th>\n",
       "      <th>away_xg</th>\n",
       "      <th>away_penalty</th>\n",
       "      <th>home_manager</th>\n",
       "      <th>home_captain</th>\n",
       "      <th>...</th>\n",
       "      <th>home_penalty_shootout_miss_long</th>\n",
       "      <th>away_penalty_shootout_miss_long</th>\n",
       "      <th>home_red_card</th>\n",
       "      <th>away_red_card</th>\n",
       "      <th>home_yellow_red_card</th>\n",
       "      <th>away_yellow_red_card</th>\n",
       "      <th>home_yellow_card_long</th>\n",
       "      <th>away_yellow_card_long</th>\n",
       "      <th>home_substitute_in_long</th>\n",
       "      <th>away_substitute_in_long</th>\n",
       "    </tr>\n",
       "  </thead>\n",
       "  <tbody>\n",
       "    <tr>\n",
       "      <th>0</th>\n",
       "      <td>Argentina</td>\n",
       "      <td>France</td>\n",
       "      <td>3</td>\n",
       "      <td>3.3</td>\n",
       "      <td>4.0</td>\n",
       "      <td>3</td>\n",
       "      <td>2.2</td>\n",
       "      <td>2.0</td>\n",
       "      <td>Lionel Scaloni</td>\n",
       "      <td>Lionel Messi</td>\n",
       "      <td>...</td>\n",
       "      <td>NaN</td>\n",
       "      <td>['3|1:1|Kingsley Coman', '5|2:1|Aurélien Tchou...</td>\n",
       "      <td>NaN</td>\n",
       "      <td>NaN</td>\n",
       "      <td>NaN</td>\n",
       "      <td>NaN</td>\n",
       "      <td>['45+7&amp;rsquor;|2:0|Enzo Fernández', '90+8&amp;rsqu...</td>\n",
       "      <td>['55&amp;rsquor;|2:0|Adrien Rabiot', '87&amp;rsquor;|2...</td>\n",
       "      <td>['64&amp;rsquor;|2:0|Marcos Acuña|for Ángel Di Mar...</td>\n",
       "      <td>['41&amp;rsquor;|2:0|Randal Kolo Muani|for Ousmane...</td>\n",
       "    </tr>\n",
       "    <tr>\n",
       "      <th>1</th>\n",
       "      <td>Croatia</td>\n",
       "      <td>Morocco</td>\n",
       "      <td>2</td>\n",
       "      <td>0.7</td>\n",
       "      <td>NaN</td>\n",
       "      <td>1</td>\n",
       "      <td>1.2</td>\n",
       "      <td>NaN</td>\n",
       "      <td>Zlatko Dalić</td>\n",
       "      <td>Luka Modrić</td>\n",
       "      <td>...</td>\n",
       "      <td>NaN</td>\n",
       "      <td>NaN</td>\n",
       "      <td>NaN</td>\n",
       "      <td>NaN</td>\n",
       "      <td>NaN</td>\n",
       "      <td>NaN</td>\n",
       "      <td>NaN</td>\n",
       "      <td>['69&amp;rsquor;|2:1|Azzedine Ounahi', '84&amp;rsquor;...</td>\n",
       "      <td>['61&amp;rsquor;|2:1|Nikola Vlašić|for Andrej Kram...</td>\n",
       "      <td>['46&amp;rsquor;|2:1|Ilias Chair|for Abdelhamid Sa...</td>\n",
       "    </tr>\n",
       "    <tr>\n",
       "      <th>2</th>\n",
       "      <td>France</td>\n",
       "      <td>Morocco</td>\n",
       "      <td>2</td>\n",
       "      <td>2.0</td>\n",
       "      <td>NaN</td>\n",
       "      <td>0</td>\n",
       "      <td>0.9</td>\n",
       "      <td>NaN</td>\n",
       "      <td>Didier Deschamps</td>\n",
       "      <td>Hugo Lloris</td>\n",
       "      <td>...</td>\n",
       "      <td>NaN</td>\n",
       "      <td>NaN</td>\n",
       "      <td>NaN</td>\n",
       "      <td>NaN</td>\n",
       "      <td>NaN</td>\n",
       "      <td>NaN</td>\n",
       "      <td>NaN</td>\n",
       "      <td>['27&amp;rsquor;|1:0|Sofiane Boufal']</td>\n",
       "      <td>['65&amp;rsquor;|1:0|Marcus Thuram|for Olivier Gir...</td>\n",
       "      <td>['21&amp;rsquor;|1:0|Selim Amallah|for Romain Saïs...</td>\n",
       "    </tr>\n",
       "    <tr>\n",
       "      <th>3</th>\n",
       "      <td>Argentina</td>\n",
       "      <td>Croatia</td>\n",
       "      <td>3</td>\n",
       "      <td>2.3</td>\n",
       "      <td>NaN</td>\n",
       "      <td>0</td>\n",
       "      <td>0.5</td>\n",
       "      <td>NaN</td>\n",
       "      <td>Lionel Scaloni</td>\n",
       "      <td>Lionel Messi</td>\n",
       "      <td>...</td>\n",
       "      <td>NaN</td>\n",
       "      <td>NaN</td>\n",
       "      <td>NaN</td>\n",
       "      <td>NaN</td>\n",
       "      <td>NaN</td>\n",
       "      <td>NaN</td>\n",
       "      <td>['68&amp;rsquor;|2:0|Cristian Romero', '71&amp;rsquor;...</td>\n",
       "      <td>['32&amp;rsquor;|0:0|Mateo Kovačić', '32&amp;rsquor;|0...</td>\n",
       "      <td>['62&amp;rsquor;|2:0|Lisandro Martínez|for Leandro...</td>\n",
       "      <td>['46&amp;rsquor;|2:0|Mislav Oršić|for Borna Sosa',...</td>\n",
       "    </tr>\n",
       "    <tr>\n",
       "      <th>4</th>\n",
       "      <td>Morocco</td>\n",
       "      <td>Portugal</td>\n",
       "      <td>1</td>\n",
       "      <td>1.4</td>\n",
       "      <td>NaN</td>\n",
       "      <td>0</td>\n",
       "      <td>0.9</td>\n",
       "      <td>NaN</td>\n",
       "      <td>Hoalid Regragui</td>\n",
       "      <td>Romain Saïss</td>\n",
       "      <td>...</td>\n",
       "      <td>NaN</td>\n",
       "      <td>NaN</td>\n",
       "      <td>NaN</td>\n",
       "      <td>NaN</td>\n",
       "      <td>Walid Cheddira · 90+3</td>\n",
       "      <td>NaN</td>\n",
       "      <td>['70&amp;rsquor;|1:0|Achraf Dari', '90+1&amp;rsquor;|1...</td>\n",
       "      <td>['87&amp;rsquor;|1:0|Vitinha']</td>\n",
       "      <td>['57&amp;rsquor;|1:0|Achraf Dari|for Romain Saïss'...</td>\n",
       "      <td>['51&amp;rsquor;|1:0|João Cancelo|for Raphaël Guer...</td>\n",
       "    </tr>\n",
       "    <tr>\n",
       "      <th>...</th>\n",
       "      <td>...</td>\n",
       "      <td>...</td>\n",
       "      <td>...</td>\n",
       "      <td>...</td>\n",
       "      <td>...</td>\n",
       "      <td>...</td>\n",
       "      <td>...</td>\n",
       "      <td>...</td>\n",
       "      <td>...</td>\n",
       "      <td>...</td>\n",
       "      <td>...</td>\n",
       "      <td>...</td>\n",
       "      <td>...</td>\n",
       "      <td>...</td>\n",
       "      <td>...</td>\n",
       "      <td>...</td>\n",
       "      <td>...</td>\n",
       "      <td>...</td>\n",
       "      <td>...</td>\n",
       "      <td>...</td>\n",
       "      <td>...</td>\n",
       "    </tr>\n",
       "    <tr>\n",
       "      <th>959</th>\n",
       "      <td>Argentina</td>\n",
       "      <td>France</td>\n",
       "      <td>1</td>\n",
       "      <td>NaN</td>\n",
       "      <td>NaN</td>\n",
       "      <td>0</td>\n",
       "      <td>NaN</td>\n",
       "      <td>NaN</td>\n",
       "      <td>Francisco Olazar</td>\n",
       "      <td>Manuel Ferreira</td>\n",
       "      <td>...</td>\n",
       "      <td>NaN</td>\n",
       "      <td>NaN</td>\n",
       "      <td>NaN</td>\n",
       "      <td>NaN</td>\n",
       "      <td>NaN</td>\n",
       "      <td>NaN</td>\n",
       "      <td>NaN</td>\n",
       "      <td>NaN</td>\n",
       "      <td>NaN</td>\n",
       "      <td>NaN</td>\n",
       "    </tr>\n",
       "    <tr>\n",
       "      <th>960</th>\n",
       "      <td>Yugoslavia</td>\n",
       "      <td>Brazil</td>\n",
       "      <td>2</td>\n",
       "      <td>NaN</td>\n",
       "      <td>NaN</td>\n",
       "      <td>1</td>\n",
       "      <td>NaN</td>\n",
       "      <td>NaN</td>\n",
       "      <td>Bosko Simonovic</td>\n",
       "      <td>Milutin Ivković</td>\n",
       "      <td>...</td>\n",
       "      <td>NaN</td>\n",
       "      <td>NaN</td>\n",
       "      <td>NaN</td>\n",
       "      <td>NaN</td>\n",
       "      <td>NaN</td>\n",
       "      <td>NaN</td>\n",
       "      <td>NaN</td>\n",
       "      <td>NaN</td>\n",
       "      <td>NaN</td>\n",
       "      <td>NaN</td>\n",
       "    </tr>\n",
       "    <tr>\n",
       "      <th>961</th>\n",
       "      <td>Romania</td>\n",
       "      <td>Peru</td>\n",
       "      <td>3</td>\n",
       "      <td>NaN</td>\n",
       "      <td>NaN</td>\n",
       "      <td>1</td>\n",
       "      <td>NaN</td>\n",
       "      <td>NaN</td>\n",
       "      <td>Octav Luchide</td>\n",
       "      <td>Emerich Vogl</td>\n",
       "      <td>...</td>\n",
       "      <td>NaN</td>\n",
       "      <td>NaN</td>\n",
       "      <td>NaN</td>\n",
       "      <td>Plácido Galindo · 70</td>\n",
       "      <td>NaN</td>\n",
       "      <td>NaN</td>\n",
       "      <td>NaN</td>\n",
       "      <td>NaN</td>\n",
       "      <td>NaN</td>\n",
       "      <td>NaN</td>\n",
       "    </tr>\n",
       "    <tr>\n",
       "      <th>962</th>\n",
       "      <td>United States</td>\n",
       "      <td>Belgium</td>\n",
       "      <td>3</td>\n",
       "      <td>NaN</td>\n",
       "      <td>NaN</td>\n",
       "      <td>0</td>\n",
       "      <td>NaN</td>\n",
       "      <td>NaN</td>\n",
       "      <td>Bob Millar</td>\n",
       "      <td>Tom Florie</td>\n",
       "      <td>...</td>\n",
       "      <td>NaN</td>\n",
       "      <td>NaN</td>\n",
       "      <td>NaN</td>\n",
       "      <td>NaN</td>\n",
       "      <td>NaN</td>\n",
       "      <td>NaN</td>\n",
       "      <td>NaN</td>\n",
       "      <td>NaN</td>\n",
       "      <td>NaN</td>\n",
       "      <td>NaN</td>\n",
       "    </tr>\n",
       "    <tr>\n",
       "      <th>963</th>\n",
       "      <td>France</td>\n",
       "      <td>Mexico</td>\n",
       "      <td>4</td>\n",
       "      <td>NaN</td>\n",
       "      <td>NaN</td>\n",
       "      <td>1</td>\n",
       "      <td>NaN</td>\n",
       "      <td>NaN</td>\n",
       "      <td>Raoul Caudron</td>\n",
       "      <td>Alexandre Villaplane</td>\n",
       "      <td>...</td>\n",
       "      <td>NaN</td>\n",
       "      <td>NaN</td>\n",
       "      <td>NaN</td>\n",
       "      <td>NaN</td>\n",
       "      <td>NaN</td>\n",
       "      <td>NaN</td>\n",
       "      <td>NaN</td>\n",
       "      <td>NaN</td>\n",
       "      <td>NaN</td>\n",
       "      <td>NaN</td>\n",
       "    </tr>\n",
       "  </tbody>\n",
       "</table>\n",
       "<p>964 rows × 44 columns</p>\n",
       "</div>"
      ],
      "text/plain": [
       "         home_team away_team  home_score  home_xg  home_penalty  away_score  \\\n",
       "0        Argentina    France           3      3.3           4.0           3   \n",
       "1          Croatia   Morocco           2      0.7           NaN           1   \n",
       "2           France   Morocco           2      2.0           NaN           0   \n",
       "3        Argentina   Croatia           3      2.3           NaN           0   \n",
       "4          Morocco  Portugal           1      1.4           NaN           0   \n",
       "..             ...       ...         ...      ...           ...         ...   \n",
       "959      Argentina    France           1      NaN           NaN           0   \n",
       "960     Yugoslavia    Brazil           2      NaN           NaN           1   \n",
       "961        Romania      Peru           3      NaN           NaN           1   \n",
       "962  United States   Belgium           3      NaN           NaN           0   \n",
       "963         France    Mexico           4      NaN           NaN           1   \n",
       "\n",
       "     away_xg  away_penalty      home_manager          home_captain  ...  \\\n",
       "0        2.2           2.0    Lionel Scaloni          Lionel Messi  ...   \n",
       "1        1.2           NaN      Zlatko Dalić           Luka Modrić  ...   \n",
       "2        0.9           NaN  Didier Deschamps           Hugo Lloris  ...   \n",
       "3        0.5           NaN    Lionel Scaloni          Lionel Messi  ...   \n",
       "4        0.9           NaN   Hoalid Regragui          Romain Saïss  ...   \n",
       "..       ...           ...               ...                   ...  ...   \n",
       "959      NaN           NaN  Francisco Olazar       Manuel Ferreira  ...   \n",
       "960      NaN           NaN   Bosko Simonovic       Milutin Ivković  ...   \n",
       "961      NaN           NaN     Octav Luchide          Emerich Vogl  ...   \n",
       "962      NaN           NaN        Bob Millar            Tom Florie  ...   \n",
       "963      NaN           NaN     Raoul Caudron  Alexandre Villaplane  ...   \n",
       "\n",
       "    home_penalty_shootout_miss_long  \\\n",
       "0                               NaN   \n",
       "1                               NaN   \n",
       "2                               NaN   \n",
       "3                               NaN   \n",
       "4                               NaN   \n",
       "..                              ...   \n",
       "959                             NaN   \n",
       "960                             NaN   \n",
       "961                             NaN   \n",
       "962                             NaN   \n",
       "963                             NaN   \n",
       "\n",
       "                       away_penalty_shootout_miss_long  home_red_card  \\\n",
       "0    ['3|1:1|Kingsley Coman', '5|2:1|Aurélien Tchou...            NaN   \n",
       "1                                                  NaN            NaN   \n",
       "2                                                  NaN            NaN   \n",
       "3                                                  NaN            NaN   \n",
       "4                                                  NaN            NaN   \n",
       "..                                                 ...            ...   \n",
       "959                                                NaN            NaN   \n",
       "960                                                NaN            NaN   \n",
       "961                                                NaN            NaN   \n",
       "962                                                NaN            NaN   \n",
       "963                                                NaN            NaN   \n",
       "\n",
       "            away_red_card   home_yellow_red_card away_yellow_red_card  \\\n",
       "0                     NaN                    NaN                  NaN   \n",
       "1                     NaN                    NaN                  NaN   \n",
       "2                     NaN                    NaN                  NaN   \n",
       "3                     NaN                    NaN                  NaN   \n",
       "4                     NaN  Walid Cheddira · 90+3                  NaN   \n",
       "..                    ...                    ...                  ...   \n",
       "959                   NaN                    NaN                  NaN   \n",
       "960                   NaN                    NaN                  NaN   \n",
       "961  Plácido Galindo · 70                    NaN                  NaN   \n",
       "962                   NaN                    NaN                  NaN   \n",
       "963                   NaN                    NaN                  NaN   \n",
       "\n",
       "                                 home_yellow_card_long  \\\n",
       "0    ['45+7&rsquor;|2:0|Enzo Fernández', '90+8&rsqu...   \n",
       "1                                                  NaN   \n",
       "2                                                  NaN   \n",
       "3    ['68&rsquor;|2:0|Cristian Romero', '71&rsquor;...   \n",
       "4    ['70&rsquor;|1:0|Achraf Dari', '90+1&rsquor;|1...   \n",
       "..                                                 ...   \n",
       "959                                                NaN   \n",
       "960                                                NaN   \n",
       "961                                                NaN   \n",
       "962                                                NaN   \n",
       "963                                                NaN   \n",
       "\n",
       "                                 away_yellow_card_long  \\\n",
       "0    ['55&rsquor;|2:0|Adrien Rabiot', '87&rsquor;|2...   \n",
       "1    ['69&rsquor;|2:1|Azzedine Ounahi', '84&rsquor;...   \n",
       "2                    ['27&rsquor;|1:0|Sofiane Boufal']   \n",
       "3    ['32&rsquor;|0:0|Mateo Kovačić', '32&rsquor;|0...   \n",
       "4                           ['87&rsquor;|1:0|Vitinha']   \n",
       "..                                                 ...   \n",
       "959                                                NaN   \n",
       "960                                                NaN   \n",
       "961                                                NaN   \n",
       "962                                                NaN   \n",
       "963                                                NaN   \n",
       "\n",
       "                               home_substitute_in_long  \\\n",
       "0    ['64&rsquor;|2:0|Marcos Acuña|for Ángel Di Mar...   \n",
       "1    ['61&rsquor;|2:1|Nikola Vlašić|for Andrej Kram...   \n",
       "2    ['65&rsquor;|1:0|Marcus Thuram|for Olivier Gir...   \n",
       "3    ['62&rsquor;|2:0|Lisandro Martínez|for Leandro...   \n",
       "4    ['57&rsquor;|1:0|Achraf Dari|for Romain Saïss'...   \n",
       "..                                                 ...   \n",
       "959                                                NaN   \n",
       "960                                                NaN   \n",
       "961                                                NaN   \n",
       "962                                                NaN   \n",
       "963                                                NaN   \n",
       "\n",
       "                               away_substitute_in_long  \n",
       "0    ['41&rsquor;|2:0|Randal Kolo Muani|for Ousmane...  \n",
       "1    ['46&rsquor;|2:1|Ilias Chair|for Abdelhamid Sa...  \n",
       "2    ['21&rsquor;|1:0|Selim Amallah|for Romain Saïs...  \n",
       "3    ['46&rsquor;|2:0|Mislav Oršić|for Borna Sosa',...  \n",
       "4    ['51&rsquor;|1:0|João Cancelo|for Raphaël Guer...  \n",
       "..                                                 ...  \n",
       "959                                                NaN  \n",
       "960                                                NaN  \n",
       "961                                                NaN  \n",
       "962                                                NaN  \n",
       "963                                                NaN  \n",
       "\n",
       "[964 rows x 44 columns]"
      ]
     },
     "execution_count": 187,
     "metadata": {},
     "output_type": "execute_result"
    }
   ],
   "source": [
    "matches_df"
   ]
  },
  {
   "cell_type": "code",
   "execution_count": 188,
   "id": "ae062448",
   "metadata": {},
   "outputs": [],
   "source": [
    "# Parse substituion column function\n",
    "def parse_substitution_data(subs):\n",
    "    if pd.isna(subs):\n",
    "        return []\n",
    "    pattern = r\"(\\d+)&rsquor;\\|(.+?)\\|for (.+?)(?=\\||$)\"\n",
    "    matches = re.findall(pattern, subs)   #return a tuple , of time , player in ,player out.\n",
    "    return [{'minute': int(match[0]), 'player_in': match[1], 'player_out': match[2]} for match in matches]"
   ]
  },
  {
   "cell_type": "code",
   "execution_count": 189,
   "id": "22129393",
   "metadata": {},
   "outputs": [
    {
     "data": {
      "text/plain": [
       "[{'minute': 64,\n",
       "  'player_in': '2:0|Marcos Acuña',\n",
       "  'player_out': \"Ángel Di María', '91&rsquor;\"},\n",
       " {'minute': 102,\n",
       "  'player_in': '2:2|Leandro Paredes',\n",
       "  'player_out': \"Rodrigo De Paul', '103&rsquor;\"},\n",
       " {'minute': 116,\n",
       "  'player_in': '3:2|Germán Pezzella',\n",
       "  'player_out': \"Alexis Mac Allister', '120+1&rsquor;\"}]"
      ]
     },
     "execution_count": 189,
     "metadata": {},
     "output_type": "execute_result"
    }
   ],
   "source": [
    "matches_df['home_substitute_in_long'].apply(parse_substitution_data)[0]"
   ]
  },
  {
   "cell_type": "code",
   "execution_count": 190,
   "id": "694bc4d9",
   "metadata": {},
   "outputs": [],
   "source": [
    "matches_df['home_substitutions'] = matches_df['home_substitute_in_long'].apply(parse_substitution_data)\n",
    "matches_df['away_substitutions'] = matches_df['away_substitute_in_long'].apply(parse_substitution_data)"
   ]
  },
  {
   "cell_type": "code",
   "execution_count": 191,
   "id": "5c33060a",
   "metadata": {},
   "outputs": [],
   "source": [
    "# did this substitute scored a goal or improved performance"
   ]
  },
  {
   "cell_type": "code",
   "execution_count": 197,
   "id": "5f378a85",
   "metadata": {},
   "outputs": [],
   "source": [
    "# Parsing Goal Data\n",
    "def  parse_goal_data(goals):\n",
    "    if pd.isna(goals):\n",
    "        return []\n",
    "\n",
    "\n",
    "    goal_list = goals.split('|')\n",
    "    parsed_goals=[]\n",
    "    for goal in goal_list:\n",
    "        parts= goal.split('·')   #middle dot or interpunct  (alt+0183)[ number pad]\n",
    "        if(len(parts)==2):\n",
    "            try:\n",
    "                minute = int(parts[1].strip())\n",
    "                scorer= parts[0].strip()\n",
    "                parsed_goals.append({'minute': minute, 'scorer': scorer})\n",
    "            except ValueError:\n",
    "                pass\n",
    "            return parsed_goals"
   ]
  },
  {
   "cell_type": "code",
   "execution_count": 198,
   "id": "ce5a5161",
   "metadata": {},
   "outputs": [],
   "source": [
    "matches_df['home_goal_details']=matches['home_goal'].apply(parse_goal_data)\n",
    "matches_df['away_goal_details']=matches['away_goal'].apply(parse_goal_data)"
   ]
  },
  {
   "cell_type": "code",
   "execution_count": 199,
   "id": "ce7598b6",
   "metadata": {},
   "outputs": [],
   "source": [
    "# i know which player was substituted\n",
    "# which player scored and at which time."
   ]
  },
  {
   "cell_type": "code",
   "execution_count": 200,
   "id": "fd408185",
   "metadata": {},
   "outputs": [],
   "source": [
    "def filter_matches_for_team(df, team_name):\n",
    "    team_matches= df[(df['home_team'] == team_name) | (df['away_team'] == team_name)].copy()\n",
    "    return team_matches"
   ]
  },
  {
   "cell_type": "code",
   "execution_count": 201,
   "id": "a03e94ce",
   "metadata": {},
   "outputs": [],
   "source": [
    "team_name= 'Germany'\n",
    "team_matches_df= filter_matches_for_team(matches_df, team_name)"
   ]
  },
  {
   "cell_type": "code",
   "execution_count": 202,
   "id": "469625cc",
   "metadata": {},
   "outputs": [],
   "source": [
    "# if substituted Player scored a goal\n",
    "# we will create two functions.\n",
    "\n",
    "#subs- list {substituions}\n",
    "#goals- list {goals}\n",
    "\n",
    "def check_substitute_goals(subs, goals):\n",
    "    if not subs:\n",
    "        return\n",
    "    for sub in subs:\n",
    "        if any(goal['scorer'] == sub['player_in'] for goal in goals):\n",
    "            return True\n",
    "    return False\n",
    "\n",
    "\n",
    "\n",
    "def check_team_substitute_goals(row, team_name):\n",
    "    if row['home_team'] == team_name:\n",
    "        return check_substitute_goals(row['home_substitutions'], row['home_goal_details'])\n",
    "    elif row['away_team'] == team_name:\n",
    "        return check_substitute_goals(row['away_substitutions'], row['away_goal_details'])\n",
    "    return False"
   ]
  },
  {
   "cell_type": "code",
   "execution_count": 203,
   "id": "b5dd7bad",
   "metadata": {},
   "outputs": [],
   "source": [
    "# Determine if substitution improved the score\n",
    "def check_substitution_impact(row, team_name):\n",
    "    if row['home_team'] == team_name:\n",
    "        subs = row['home_substitutions']\n",
    "        goals_before = [goal for goal in row['home_goal_details'] if subs and goal['minute'] <= subs[0]['minute']] if subs else []\n",
    "        goals_after = [goal for goal in row['home_goal_details'] if subs and goal['minute'] > subs[0]['minute']] if subs else []\n",
    "    elif row['away_team'] == team_name:\n",
    "        subs = row['away_substitutions']\n",
    "        goals_before = [goal for goal in row['away_goal_details'] if subs and goal['minute'] <= subs[0]['minute']] if subs else []\n",
    "        goals_after = [goal for goal in row['away_goal_details'] if subs and goal['minute'] > subs[0]['minute']] if subs else []\n",
    "    else:\n",
    "        return False\n",
    "\n",
    "\n",
    "    return len(goals_after) > len(goals_before)"
   ]
  },
  {
   "cell_type": "code",
   "execution_count": 204,
   "id": "d653c00b",
   "metadata": {},
   "outputs": [],
   "source": [
    "team_matches_df['substitution_impact'] = team_matches_df.apply(lambda row: check_substitution_impact(row, team_name), axis=1)\n",
    "team_matches_df['substitute_goals'] = team_matches_df.apply(lambda row: check_team_substitute_goals(row, team_name), axis=1)"
   ]
  },
  {
   "cell_type": "code",
   "execution_count": 205,
   "id": "bd0fd092",
   "metadata": {},
   "outputs": [],
   "source": [
    "match_summaries = []\n",
    "\n",
    "for index, row in team_matches_df.iterrows():\n",
    "    match_summary = {\n",
    "        'Match': f\"{row['home_team']} vs {row['away_team']}\",\n",
    "        'Date': row['Date'],\n",
    "        'Substitute Scored': row['substitute_goals'],\n",
    "        'Substitution Impact': row['substitution_impact']\n",
    "    }\n",
    "    match_summaries.append(match_summary)"
   ]
  },
  {
   "cell_type": "code",
   "execution_count": 206,
   "id": "5ec3d828",
   "metadata": {},
   "outputs": [],
   "source": [
    "summary_df = pd.DataFrame(match_summaries)"
   ]
  },
  {
   "cell_type": "code",
   "execution_count": 207,
   "id": "60734590",
   "metadata": {},
   "outputs": [
    {
     "name": "stdout",
     "output_type": "stream",
     "text": [
      "Substitute Scored\n",
      "False    44\n",
      "Name: count, dtype: int64\n",
      "***\n",
      "Substitution Impact\n",
      "False    42\n",
      "True     14\n",
      "Name: count, dtype: int64\n"
     ]
    }
   ],
   "source": [
    "print(summary_df['Substitute Scored'].value_counts())\n",
    "print('***')\n",
    "print(summary_df['Substitution Impact'].value_counts())"
   ]
  },
  {
   "cell_type": "markdown",
   "id": "ece70120",
   "metadata": {},
   "source": [
    "CONCLUSIONS\n",
    "\n",
    "No Team substituted player scored goal in FIFA.\n",
    "\n",
    "Teams like France , Argentina , Portugal , Australia , Germany , Spain , Netherland have very high or positive impact of subsutituion on overall score of the team.\n",
    "\n",
    "Positive impact of the substituion signifies that these teams have a strong management that act accourdingly , as these teams are also the top teams of FIFA, these effective substution may be one of the reason why these teams are most favourite teams of the world.\n",
    "\n",
    "A team can rely on substituted player for overall improvement of score but not for the goals to be scored by substituted player."
   ]
  },
  {
   "cell_type": "code",
   "execution_count": 209,
   "id": "15840183",
   "metadata": {},
   "outputs": [
    {
     "data": {
      "text/html": [
       "<div>\n",
       "<style scoped>\n",
       "    .dataframe tbody tr th:only-of-type {\n",
       "        vertical-align: middle;\n",
       "    }\n",
       "\n",
       "    .dataframe tbody tr th {\n",
       "        vertical-align: top;\n",
       "    }\n",
       "\n",
       "    .dataframe thead th {\n",
       "        text-align: right;\n",
       "    }\n",
       "</style>\n",
       "<table border=\"1\" class=\"dataframe\">\n",
       "  <thead>\n",
       "    <tr style=\"text-align: right;\">\n",
       "      <th></th>\n",
       "      <th>home_team</th>\n",
       "      <th>away_team</th>\n",
       "      <th>home_score</th>\n",
       "      <th>home_xg</th>\n",
       "      <th>home_penalty</th>\n",
       "      <th>away_score</th>\n",
       "      <th>away_xg</th>\n",
       "      <th>away_penalty</th>\n",
       "      <th>home_manager</th>\n",
       "      <th>home_captain</th>\n",
       "      <th>...</th>\n",
       "      <th>away_yellow_red_card</th>\n",
       "      <th>home_yellow_card_long</th>\n",
       "      <th>away_yellow_card_long</th>\n",
       "      <th>home_substitute_in_long</th>\n",
       "      <th>away_substitute_in_long</th>\n",
       "      <th>h_total</th>\n",
       "      <th>a_total</th>\n",
       "      <th>Home_Goals</th>\n",
       "      <th>Away_Goals</th>\n",
       "      <th>Knockout</th>\n",
       "    </tr>\n",
       "  </thead>\n",
       "  <tbody>\n",
       "    <tr>\n",
       "      <th>0</th>\n",
       "      <td>Argentina</td>\n",
       "      <td>France</td>\n",
       "      <td>3</td>\n",
       "      <td>3.3</td>\n",
       "      <td>4.0</td>\n",
       "      <td>3</td>\n",
       "      <td>2.2</td>\n",
       "      <td>2.0</td>\n",
       "      <td>Lionel Scaloni</td>\n",
       "      <td>Lionel Messi</td>\n",
       "      <td>...</td>\n",
       "      <td>NaN</td>\n",
       "      <td>['45+7&amp;rsquor;|2:0|Enzo Fernández', '90+8&amp;rsqu...</td>\n",
       "      <td>['55&amp;rsquor;|2:0|Adrien Rabiot', '87&amp;rsquor;|2...</td>\n",
       "      <td>['64&amp;rsquor;|2:0|Marcos Acuña|for Ángel Di Mar...</td>\n",
       "      <td>['41&amp;rsquor;|2:0|Randal Kolo Muani|for Ousmane...</td>\n",
       "      <td>7.0</td>\n",
       "      <td>5.0</td>\n",
       "      <td>36,108</td>\n",
       "      <td>81</td>\n",
       "      <td>Knockout</td>\n",
       "    </tr>\n",
       "    <tr>\n",
       "      <th>1</th>\n",
       "      <td>Croatia</td>\n",
       "      <td>Morocco</td>\n",
       "      <td>2</td>\n",
       "      <td>0.7</td>\n",
       "      <td>0.0</td>\n",
       "      <td>1</td>\n",
       "      <td>1.2</td>\n",
       "      <td>0.0</td>\n",
       "      <td>Zlatko Dalić</td>\n",
       "      <td>Luka Modrić</td>\n",
       "      <td>...</td>\n",
       "      <td>NaN</td>\n",
       "      <td>NaN</td>\n",
       "      <td>['69&amp;rsquor;|2:1|Azzedine Ounahi', '84&amp;rsquor;...</td>\n",
       "      <td>['61&amp;rsquor;|2:1|Nikola Vlašić|for Andrej Kram...</td>\n",
       "      <td>['46&amp;rsquor;|2:1|Ilias Chair|for Abdelhamid Sa...</td>\n",
       "      <td>2.0</td>\n",
       "      <td>1.0</td>\n",
       "      <td>7,42</td>\n",
       "      <td>9</td>\n",
       "      <td>Non-Knockout</td>\n",
       "    </tr>\n",
       "    <tr>\n",
       "      <th>2</th>\n",
       "      <td>France</td>\n",
       "      <td>Morocco</td>\n",
       "      <td>2</td>\n",
       "      <td>2.0</td>\n",
       "      <td>0.0</td>\n",
       "      <td>0</td>\n",
       "      <td>0.9</td>\n",
       "      <td>0.0</td>\n",
       "      <td>Didier Deschamps</td>\n",
       "      <td>Hugo Lloris</td>\n",
       "      <td>...</td>\n",
       "      <td>NaN</td>\n",
       "      <td>NaN</td>\n",
       "      <td>['27&amp;rsquor;|1:0|Sofiane Boufal']</td>\n",
       "      <td>['65&amp;rsquor;|1:0|Marcus Thuram|for Olivier Gir...</td>\n",
       "      <td>['21&amp;rsquor;|1:0|Selim Amallah|for Romain Saïs...</td>\n",
       "      <td>2.0</td>\n",
       "      <td>0.0</td>\n",
       "      <td>5,79</td>\n",
       "      <td></td>\n",
       "      <td>Knockout</td>\n",
       "    </tr>\n",
       "    <tr>\n",
       "      <th>3</th>\n",
       "      <td>Argentina</td>\n",
       "      <td>Croatia</td>\n",
       "      <td>3</td>\n",
       "      <td>2.3</td>\n",
       "      <td>0.0</td>\n",
       "      <td>0</td>\n",
       "      <td>0.5</td>\n",
       "      <td>0.0</td>\n",
       "      <td>Lionel Scaloni</td>\n",
       "      <td>Lionel Messi</td>\n",
       "      <td>...</td>\n",
       "      <td>NaN</td>\n",
       "      <td>['68&amp;rsquor;|2:0|Cristian Romero', '71&amp;rsquor;...</td>\n",
       "      <td>['32&amp;rsquor;|0:0|Mateo Kovačić', '32&amp;rsquor;|0...</td>\n",
       "      <td>['62&amp;rsquor;|2:0|Lisandro Martínez|for Leandro...</td>\n",
       "      <td>['46&amp;rsquor;|2:0|Mislav Oršić|for Borna Sosa',...</td>\n",
       "      <td>3.0</td>\n",
       "      <td>0.0</td>\n",
       "      <td>39,69</td>\n",
       "      <td></td>\n",
       "      <td>Knockout</td>\n",
       "    </tr>\n",
       "    <tr>\n",
       "      <th>4</th>\n",
       "      <td>Morocco</td>\n",
       "      <td>Portugal</td>\n",
       "      <td>1</td>\n",
       "      <td>1.4</td>\n",
       "      <td>0.0</td>\n",
       "      <td>0</td>\n",
       "      <td>0.9</td>\n",
       "      <td>0.0</td>\n",
       "      <td>Hoalid Regragui</td>\n",
       "      <td>Romain Saïss</td>\n",
       "      <td>...</td>\n",
       "      <td>NaN</td>\n",
       "      <td>['70&amp;rsquor;|1:0|Achraf Dari', '90+1&amp;rsquor;|1...</td>\n",
       "      <td>['87&amp;rsquor;|1:0|Vitinha']</td>\n",
       "      <td>['57&amp;rsquor;|1:0|Achraf Dari|for Romain Saïss'...</td>\n",
       "      <td>['51&amp;rsquor;|1:0|João Cancelo|for Raphaël Guer...</td>\n",
       "      <td>1.0</td>\n",
       "      <td>0.0</td>\n",
       "      <td>42</td>\n",
       "      <td></td>\n",
       "      <td>Knockout</td>\n",
       "    </tr>\n",
       "    <tr>\n",
       "      <th>...</th>\n",
       "      <td>...</td>\n",
       "      <td>...</td>\n",
       "      <td>...</td>\n",
       "      <td>...</td>\n",
       "      <td>...</td>\n",
       "      <td>...</td>\n",
       "      <td>...</td>\n",
       "      <td>...</td>\n",
       "      <td>...</td>\n",
       "      <td>...</td>\n",
       "      <td>...</td>\n",
       "      <td>...</td>\n",
       "      <td>...</td>\n",
       "      <td>...</td>\n",
       "      <td>...</td>\n",
       "      <td>...</td>\n",
       "      <td>...</td>\n",
       "      <td>...</td>\n",
       "      <td>...</td>\n",
       "      <td>...</td>\n",
       "      <td>...</td>\n",
       "    </tr>\n",
       "    <tr>\n",
       "      <th>959</th>\n",
       "      <td>Argentina</td>\n",
       "      <td>France</td>\n",
       "      <td>1</td>\n",
       "      <td>NaN</td>\n",
       "      <td>0.0</td>\n",
       "      <td>0</td>\n",
       "      <td>NaN</td>\n",
       "      <td>0.0</td>\n",
       "      <td>Francisco Olazar</td>\n",
       "      <td>Manuel Ferreira</td>\n",
       "      <td>...</td>\n",
       "      <td>NaN</td>\n",
       "      <td>NaN</td>\n",
       "      <td>NaN</td>\n",
       "      <td>NaN</td>\n",
       "      <td>NaN</td>\n",
       "      <td>1.0</td>\n",
       "      <td>0.0</td>\n",
       "      <td>81</td>\n",
       "      <td></td>\n",
       "      <td>Non-Knockout</td>\n",
       "    </tr>\n",
       "    <tr>\n",
       "      <th>960</th>\n",
       "      <td>Yugoslavia</td>\n",
       "      <td>Brazil</td>\n",
       "      <td>2</td>\n",
       "      <td>NaN</td>\n",
       "      <td>0.0</td>\n",
       "      <td>1</td>\n",
       "      <td>NaN</td>\n",
       "      <td>0.0</td>\n",
       "      <td>Bosko Simonovic</td>\n",
       "      <td>Milutin Ivković</td>\n",
       "      <td>...</td>\n",
       "      <td>NaN</td>\n",
       "      <td>NaN</td>\n",
       "      <td>NaN</td>\n",
       "      <td>NaN</td>\n",
       "      <td>NaN</td>\n",
       "      <td>2.0</td>\n",
       "      <td>1.0</td>\n",
       "      <td>21,30</td>\n",
       "      <td>62</td>\n",
       "      <td>Non-Knockout</td>\n",
       "    </tr>\n",
       "    <tr>\n",
       "      <th>961</th>\n",
       "      <td>Romania</td>\n",
       "      <td>Peru</td>\n",
       "      <td>3</td>\n",
       "      <td>NaN</td>\n",
       "      <td>0.0</td>\n",
       "      <td>1</td>\n",
       "      <td>NaN</td>\n",
       "      <td>0.0</td>\n",
       "      <td>Octav Luchide</td>\n",
       "      <td>Emerich Vogl</td>\n",
       "      <td>...</td>\n",
       "      <td>NaN</td>\n",
       "      <td>NaN</td>\n",
       "      <td>NaN</td>\n",
       "      <td>NaN</td>\n",
       "      <td>NaN</td>\n",
       "      <td>3.0</td>\n",
       "      <td>1.0</td>\n",
       "      <td>1,79,89</td>\n",
       "      <td>75</td>\n",
       "      <td>Non-Knockout</td>\n",
       "    </tr>\n",
       "    <tr>\n",
       "      <th>962</th>\n",
       "      <td>United States</td>\n",
       "      <td>Belgium</td>\n",
       "      <td>3</td>\n",
       "      <td>NaN</td>\n",
       "      <td>0.0</td>\n",
       "      <td>0</td>\n",
       "      <td>NaN</td>\n",
       "      <td>0.0</td>\n",
       "      <td>Bob Millar</td>\n",
       "      <td>Tom Florie</td>\n",
       "      <td>...</td>\n",
       "      <td>NaN</td>\n",
       "      <td>NaN</td>\n",
       "      <td>NaN</td>\n",
       "      <td>NaN</td>\n",
       "      <td>NaN</td>\n",
       "      <td>3.0</td>\n",
       "      <td>0.0</td>\n",
       "      <td>23,45,69</td>\n",
       "      <td></td>\n",
       "      <td>Non-Knockout</td>\n",
       "    </tr>\n",
       "    <tr>\n",
       "      <th>963</th>\n",
       "      <td>France</td>\n",
       "      <td>Mexico</td>\n",
       "      <td>4</td>\n",
       "      <td>NaN</td>\n",
       "      <td>0.0</td>\n",
       "      <td>1</td>\n",
       "      <td>NaN</td>\n",
       "      <td>0.0</td>\n",
       "      <td>Raoul Caudron</td>\n",
       "      <td>Alexandre Villaplane</td>\n",
       "      <td>...</td>\n",
       "      <td>NaN</td>\n",
       "      <td>NaN</td>\n",
       "      <td>NaN</td>\n",
       "      <td>NaN</td>\n",
       "      <td>NaN</td>\n",
       "      <td>4.0</td>\n",
       "      <td>1.0</td>\n",
       "      <td>19,40,43,87</td>\n",
       "      <td>70</td>\n",
       "      <td>Non-Knockout</td>\n",
       "    </tr>\n",
       "  </tbody>\n",
       "</table>\n",
       "<p>964 rows × 49 columns</p>\n",
       "</div>"
      ],
      "text/plain": [
       "         home_team away_team  home_score  home_xg  home_penalty  away_score  \\\n",
       "0        Argentina    France           3      3.3           4.0           3   \n",
       "1          Croatia   Morocco           2      0.7           0.0           1   \n",
       "2           France   Morocco           2      2.0           0.0           0   \n",
       "3        Argentina   Croatia           3      2.3           0.0           0   \n",
       "4          Morocco  Portugal           1      1.4           0.0           0   \n",
       "..             ...       ...         ...      ...           ...         ...   \n",
       "959      Argentina    France           1      NaN           0.0           0   \n",
       "960     Yugoslavia    Brazil           2      NaN           0.0           1   \n",
       "961        Romania      Peru           3      NaN           0.0           1   \n",
       "962  United States   Belgium           3      NaN           0.0           0   \n",
       "963         France    Mexico           4      NaN           0.0           1   \n",
       "\n",
       "     away_xg  away_penalty      home_manager          home_captain  ...  \\\n",
       "0        2.2           2.0    Lionel Scaloni          Lionel Messi  ...   \n",
       "1        1.2           0.0      Zlatko Dalić           Luka Modrić  ...   \n",
       "2        0.9           0.0  Didier Deschamps           Hugo Lloris  ...   \n",
       "3        0.5           0.0    Lionel Scaloni          Lionel Messi  ...   \n",
       "4        0.9           0.0   Hoalid Regragui          Romain Saïss  ...   \n",
       "..       ...           ...               ...                   ...  ...   \n",
       "959      NaN           0.0  Francisco Olazar       Manuel Ferreira  ...   \n",
       "960      NaN           0.0   Bosko Simonovic       Milutin Ivković  ...   \n",
       "961      NaN           0.0     Octav Luchide          Emerich Vogl  ...   \n",
       "962      NaN           0.0        Bob Millar            Tom Florie  ...   \n",
       "963      NaN           0.0     Raoul Caudron  Alexandre Villaplane  ...   \n",
       "\n",
       "    away_yellow_red_card                              home_yellow_card_long  \\\n",
       "0                    NaN  ['45+7&rsquor;|2:0|Enzo Fernández', '90+8&rsqu...   \n",
       "1                    NaN                                                NaN   \n",
       "2                    NaN                                                NaN   \n",
       "3                    NaN  ['68&rsquor;|2:0|Cristian Romero', '71&rsquor;...   \n",
       "4                    NaN  ['70&rsquor;|1:0|Achraf Dari', '90+1&rsquor;|1...   \n",
       "..                   ...                                                ...   \n",
       "959                  NaN                                                NaN   \n",
       "960                  NaN                                                NaN   \n",
       "961                  NaN                                                NaN   \n",
       "962                  NaN                                                NaN   \n",
       "963                  NaN                                                NaN   \n",
       "\n",
       "                                 away_yellow_card_long  \\\n",
       "0    ['55&rsquor;|2:0|Adrien Rabiot', '87&rsquor;|2...   \n",
       "1    ['69&rsquor;|2:1|Azzedine Ounahi', '84&rsquor;...   \n",
       "2                    ['27&rsquor;|1:0|Sofiane Boufal']   \n",
       "3    ['32&rsquor;|0:0|Mateo Kovačić', '32&rsquor;|0...   \n",
       "4                           ['87&rsquor;|1:0|Vitinha']   \n",
       "..                                                 ...   \n",
       "959                                                NaN   \n",
       "960                                                NaN   \n",
       "961                                                NaN   \n",
       "962                                                NaN   \n",
       "963                                                NaN   \n",
       "\n",
       "                               home_substitute_in_long  \\\n",
       "0    ['64&rsquor;|2:0|Marcos Acuña|for Ángel Di Mar...   \n",
       "1    ['61&rsquor;|2:1|Nikola Vlašić|for Andrej Kram...   \n",
       "2    ['65&rsquor;|1:0|Marcus Thuram|for Olivier Gir...   \n",
       "3    ['62&rsquor;|2:0|Lisandro Martínez|for Leandro...   \n",
       "4    ['57&rsquor;|1:0|Achraf Dari|for Romain Saïss'...   \n",
       "..                                                 ...   \n",
       "959                                                NaN   \n",
       "960                                                NaN   \n",
       "961                                                NaN   \n",
       "962                                                NaN   \n",
       "963                                                NaN   \n",
       "\n",
       "                               away_substitute_in_long h_total a_total  \\\n",
       "0    ['41&rsquor;|2:0|Randal Kolo Muani|for Ousmane...     7.0     5.0   \n",
       "1    ['46&rsquor;|2:1|Ilias Chair|for Abdelhamid Sa...     2.0     1.0   \n",
       "2    ['21&rsquor;|1:0|Selim Amallah|for Romain Saïs...     2.0     0.0   \n",
       "3    ['46&rsquor;|2:0|Mislav Oršić|for Borna Sosa',...     3.0     0.0   \n",
       "4    ['51&rsquor;|1:0|João Cancelo|for Raphaël Guer...     1.0     0.0   \n",
       "..                                                 ...     ...     ...   \n",
       "959                                                NaN     1.0     0.0   \n",
       "960                                                NaN     2.0     1.0   \n",
       "961                                                NaN     3.0     1.0   \n",
       "962                                                NaN     3.0     0.0   \n",
       "963                                                NaN     4.0     1.0   \n",
       "\n",
       "      Home_Goals Away_Goals      Knockout  \n",
       "0         36,108         81      Knockout  \n",
       "1           7,42          9  Non-Knockout  \n",
       "2           5,79                 Knockout  \n",
       "3          39,69                 Knockout  \n",
       "4             42                 Knockout  \n",
       "..           ...        ...           ...  \n",
       "959           81             Non-Knockout  \n",
       "960        21,30         62  Non-Knockout  \n",
       "961      1,79,89         75  Non-Knockout  \n",
       "962     23,45,69             Non-Knockout  \n",
       "963  19,40,43,87         70  Non-Knockout  \n",
       "\n",
       "[964 rows x 49 columns]"
      ]
     },
     "execution_count": 209,
     "metadata": {},
     "output_type": "execute_result"
    }
   ],
   "source": [
    "matches"
   ]
  },
  {
   "cell_type": "code",
   "execution_count": 218,
   "id": "1accaf49",
   "metadata": {},
   "outputs": [],
   "source": [
    "home_team_stats=matches.groupby(['home_team',\"Year\"]).agg({\n",
    "    'home_score':'sum',\n",
    "    'home_xg':'sum'\n",
    "    }).rename(columns={'home_score':'Total_goals'})"
   ]
  },
  {
   "cell_type": "code",
   "execution_count": 219,
   "id": "93dea45e",
   "metadata": {},
   "outputs": [],
   "source": [
    "away_team_stats=matches.groupby(['away_team',\"Year\"]).agg({\n",
    "    'away_score':'sum',\n",
    "    'away_xg':'sum'\n",
    "    }).rename(columns={'away_score':'Total_goals'})"
   ]
  },
  {
   "cell_type": "code",
   "execution_count": 234,
   "id": "ac634d49",
   "metadata": {},
   "outputs": [],
   "source": [
    "#home_team_stats= home_team_stats.reset_index()\n",
    "#away_team_stats= away_team_stats.reset_index()\n",
    "\n",
    "\n",
    "home_team_stats= home_team_stats[(home_team_stats['Year']==2018 )|(home_team_stats['Year']==2022)]\n",
    "away_team_stats= away_team_stats[(away_team_stats['Year']==2018 )|(away_team_stats['Year']==2022)]"
   ]
  },
  {
   "cell_type": "code",
   "execution_count": 230,
   "id": "a808e70e",
   "metadata": {},
   "outputs": [
    {
     "data": {
      "text/html": [
       "<div>\n",
       "<style scoped>\n",
       "    .dataframe tbody tr th:only-of-type {\n",
       "        vertical-align: middle;\n",
       "    }\n",
       "\n",
       "    .dataframe tbody tr th {\n",
       "        vertical-align: top;\n",
       "    }\n",
       "\n",
       "    .dataframe thead th {\n",
       "        text-align: right;\n",
       "    }\n",
       "</style>\n",
       "<table border=\"1\" class=\"dataframe\">\n",
       "  <thead>\n",
       "    <tr style=\"text-align: right;\">\n",
       "      <th></th>\n",
       "      <th>away_team</th>\n",
       "      <th>Year</th>\n",
       "      <th>Total_goals</th>\n",
       "      <th>away_xg</th>\n",
       "    </tr>\n",
       "  </thead>\n",
       "  <tbody>\n",
       "    <tr>\n",
       "      <th>21</th>\n",
       "      <td>Argentina</td>\n",
       "      <td>2018</td>\n",
       "      <td>5</td>\n",
       "      <td>1.7</td>\n",
       "    </tr>\n",
       "    <tr>\n",
       "      <th>22</th>\n",
       "      <td>Argentina</td>\n",
       "      <td>2022</td>\n",
       "      <td>4</td>\n",
       "      <td>5.4</td>\n",
       "    </tr>\n",
       "    <tr>\n",
       "      <th>27</th>\n",
       "      <td>Australia</td>\n",
       "      <td>2018</td>\n",
       "      <td>2</td>\n",
       "      <td>2.3</td>\n",
       "    </tr>\n",
       "    <tr>\n",
       "      <th>28</th>\n",
       "      <td>Australia</td>\n",
       "      <td>2022</td>\n",
       "      <td>3</td>\n",
       "      <td>1.7</td>\n",
       "    </tr>\n",
       "    <tr>\n",
       "      <th>48</th>\n",
       "      <td>Belgium</td>\n",
       "      <td>2018</td>\n",
       "      <td>3</td>\n",
       "      <td>2.2</td>\n",
       "    </tr>\n",
       "    <tr>\n",
       "      <th>...</th>\n",
       "      <td>...</td>\n",
       "      <td>...</td>\n",
       "      <td>...</td>\n",
       "      <td>...</td>\n",
       "    </tr>\n",
       "    <tr>\n",
       "      <th>425</th>\n",
       "      <td>Tunisia</td>\n",
       "      <td>2022</td>\n",
       "      <td>0</td>\n",
       "      <td>0.9</td>\n",
       "    </tr>\n",
       "    <tr>\n",
       "      <th>440</th>\n",
       "      <td>United States</td>\n",
       "      <td>2022</td>\n",
       "      <td>2</td>\n",
       "      <td>3.3</td>\n",
       "    </tr>\n",
       "    <tr>\n",
       "      <th>451</th>\n",
       "      <td>Uruguay</td>\n",
       "      <td>2018</td>\n",
       "      <td>1</td>\n",
       "      <td>1.6</td>\n",
       "    </tr>\n",
       "    <tr>\n",
       "      <th>452</th>\n",
       "      <td>Uruguay</td>\n",
       "      <td>2022</td>\n",
       "      <td>2</td>\n",
       "      <td>3.1</td>\n",
       "    </tr>\n",
       "    <tr>\n",
       "      <th>454</th>\n",
       "      <td>Wales</td>\n",
       "      <td>2022</td>\n",
       "      <td>1</td>\n",
       "      <td>1.5</td>\n",
       "    </tr>\n",
       "  </tbody>\n",
       "</table>\n",
       "<p>64 rows × 4 columns</p>\n",
       "</div>"
      ],
      "text/plain": [
       "         away_team  Year  Total_goals  away_xg\n",
       "21       Argentina  2018            5      1.7\n",
       "22       Argentina  2022            4      5.4\n",
       "27       Australia  2018            2      2.3\n",
       "28       Australia  2022            3      1.7\n",
       "48         Belgium  2018            3      2.2\n",
       "..             ...   ...          ...      ...\n",
       "425        Tunisia  2022            0      0.9\n",
       "440  United States  2022            2      3.3\n",
       "451        Uruguay  2018            1      1.6\n",
       "452        Uruguay  2022            2      3.1\n",
       "454          Wales  2022            1      1.5\n",
       "\n",
       "[64 rows x 4 columns]"
      ]
     },
     "execution_count": 230,
     "metadata": {},
     "output_type": "execute_result"
    }
   ],
   "source": [
    "away_team_stats"
   ]
  },
  {
   "cell_type": "code",
   "execution_count": 239,
   "id": "bc79473b",
   "metadata": {},
   "outputs": [],
   "source": [
    "home_team_stats.rename(columns= {'home_team':'team'}, inplace=True)\n",
    "away_team_stats.rename(columns= {'away_team':'team'}, inplace=True)"
   ]
  },
  {
   "cell_type": "code",
   "execution_count": 240,
   "id": "58009dc8",
   "metadata": {},
   "outputs": [],
   "source": [
    "merged= pd.merge(home_team_stats, away_team_stats, on=['team','Year'], how='inner')"
   ]
  },
  {
   "cell_type": "code",
   "execution_count": 241,
   "id": "0e1c07ad",
   "metadata": {},
   "outputs": [
    {
     "data": {
      "text/html": [
       "<div>\n",
       "<style scoped>\n",
       "    .dataframe tbody tr th:only-of-type {\n",
       "        vertical-align: middle;\n",
       "    }\n",
       "\n",
       "    .dataframe tbody tr th {\n",
       "        vertical-align: top;\n",
       "    }\n",
       "\n",
       "    .dataframe thead th {\n",
       "        text-align: right;\n",
       "    }\n",
       "</style>\n",
       "<table border=\"1\" class=\"dataframe\">\n",
       "  <thead>\n",
       "    <tr style=\"text-align: right;\">\n",
       "      <th></th>\n",
       "      <th>level_0_x</th>\n",
       "      <th>index_x</th>\n",
       "      <th>team</th>\n",
       "      <th>Year</th>\n",
       "      <th>Total_goals_x</th>\n",
       "      <th>home_xg</th>\n",
       "      <th>level_0_y</th>\n",
       "      <th>index_y</th>\n",
       "      <th>Total_goals_y</th>\n",
       "      <th>away_xg</th>\n",
       "    </tr>\n",
       "  </thead>\n",
       "  <tbody>\n",
       "    <tr>\n",
       "      <th>0</th>\n",
       "      <td>0</td>\n",
       "      <td>20</td>\n",
       "      <td>Argentina</td>\n",
       "      <td>2018</td>\n",
       "      <td>1</td>\n",
       "      <td>3.2</td>\n",
       "      <td>0</td>\n",
       "      <td>21</td>\n",
       "      <td>5</td>\n",
       "      <td>1.7</td>\n",
       "    </tr>\n",
       "    <tr>\n",
       "      <th>1</th>\n",
       "      <td>1</td>\n",
       "      <td>21</td>\n",
       "      <td>Argentina</td>\n",
       "      <td>2022</td>\n",
       "      <td>11</td>\n",
       "      <td>9.7</td>\n",
       "      <td>1</td>\n",
       "      <td>22</td>\n",
       "      <td>4</td>\n",
       "      <td>5.4</td>\n",
       "    </tr>\n",
       "    <tr>\n",
       "      <th>2</th>\n",
       "      <td>2</td>\n",
       "      <td>26</td>\n",
       "      <td>Australia</td>\n",
       "      <td>2018</td>\n",
       "      <td>0</td>\n",
       "      <td>0.9</td>\n",
       "      <td>2</td>\n",
       "      <td>27</td>\n",
       "      <td>2</td>\n",
       "      <td>2.3</td>\n",
       "    </tr>\n",
       "    <tr>\n",
       "      <th>3</th>\n",
       "      <td>3</td>\n",
       "      <td>27</td>\n",
       "      <td>Australia</td>\n",
       "      <td>2022</td>\n",
       "      <td>1</td>\n",
       "      <td>0.6</td>\n",
       "      <td>3</td>\n",
       "      <td>28</td>\n",
       "      <td>3</td>\n",
       "      <td>1.7</td>\n",
       "    </tr>\n",
       "    <tr>\n",
       "      <th>4</th>\n",
       "      <td>4</td>\n",
       "      <td>41</td>\n",
       "      <td>Belgium</td>\n",
       "      <td>2018</td>\n",
       "      <td>13</td>\n",
       "      <td>11.2</td>\n",
       "      <td>4</td>\n",
       "      <td>48</td>\n",
       "      <td>3</td>\n",
       "      <td>2.2</td>\n",
       "    </tr>\n",
       "    <tr>\n",
       "      <th>...</th>\n",
       "      <td>...</td>\n",
       "      <td>...</td>\n",
       "      <td>...</td>\n",
       "      <td>...</td>\n",
       "      <td>...</td>\n",
       "      <td>...</td>\n",
       "      <td>...</td>\n",
       "      <td>...</td>\n",
       "      <td>...</td>\n",
       "      <td>...</td>\n",
       "    </tr>\n",
       "    <tr>\n",
       "      <th>59</th>\n",
       "      <td>59</td>\n",
       "      <td>381</td>\n",
       "      <td>Tunisia</td>\n",
       "      <td>2022</td>\n",
       "      <td>1</td>\n",
       "      <td>1.4</td>\n",
       "      <td>59</td>\n",
       "      <td>425</td>\n",
       "      <td>0</td>\n",
       "      <td>0.9</td>\n",
       "    </tr>\n",
       "    <tr>\n",
       "      <th>60</th>\n",
       "      <td>60</td>\n",
       "      <td>395</td>\n",
       "      <td>United States</td>\n",
       "      <td>2022</td>\n",
       "      <td>1</td>\n",
       "      <td>0.8</td>\n",
       "      <td>60</td>\n",
       "      <td>440</td>\n",
       "      <td>2</td>\n",
       "      <td>3.3</td>\n",
       "    </tr>\n",
       "    <tr>\n",
       "      <th>61</th>\n",
       "      <td>61</td>\n",
       "      <td>408</td>\n",
       "      <td>Uruguay</td>\n",
       "      <td>2018</td>\n",
       "      <td>6</td>\n",
       "      <td>5.6</td>\n",
       "      <td>61</td>\n",
       "      <td>451</td>\n",
       "      <td>1</td>\n",
       "      <td>1.6</td>\n",
       "    </tr>\n",
       "    <tr>\n",
       "      <th>62</th>\n",
       "      <td>62</td>\n",
       "      <td>409</td>\n",
       "      <td>Uruguay</td>\n",
       "      <td>2022</td>\n",
       "      <td>0</td>\n",
       "      <td>0.6</td>\n",
       "      <td>62</td>\n",
       "      <td>452</td>\n",
       "      <td>2</td>\n",
       "      <td>3.1</td>\n",
       "    </tr>\n",
       "    <tr>\n",
       "      <th>63</th>\n",
       "      <td>63</td>\n",
       "      <td>411</td>\n",
       "      <td>Wales</td>\n",
       "      <td>2022</td>\n",
       "      <td>0</td>\n",
       "      <td>1.2</td>\n",
       "      <td>63</td>\n",
       "      <td>454</td>\n",
       "      <td>1</td>\n",
       "      <td>1.5</td>\n",
       "    </tr>\n",
       "  </tbody>\n",
       "</table>\n",
       "<p>64 rows × 10 columns</p>\n",
       "</div>"
      ],
      "text/plain": [
       "    level_0_x  index_x           team  Year  Total_goals_x  home_xg  \\\n",
       "0           0       20      Argentina  2018              1      3.2   \n",
       "1           1       21      Argentina  2022             11      9.7   \n",
       "2           2       26      Australia  2018              0      0.9   \n",
       "3           3       27      Australia  2022              1      0.6   \n",
       "4           4       41        Belgium  2018             13     11.2   \n",
       "..        ...      ...            ...   ...            ...      ...   \n",
       "59         59      381        Tunisia  2022              1      1.4   \n",
       "60         60      395  United States  2022              1      0.8   \n",
       "61         61      408        Uruguay  2018              6      5.6   \n",
       "62         62      409        Uruguay  2022              0      0.6   \n",
       "63         63      411          Wales  2022              0      1.2   \n",
       "\n",
       "    level_0_y  index_y  Total_goals_y  away_xg  \n",
       "0           0       21              5      1.7  \n",
       "1           1       22              4      5.4  \n",
       "2           2       27              2      2.3  \n",
       "3           3       28              3      1.7  \n",
       "4           4       48              3      2.2  \n",
       "..        ...      ...            ...      ...  \n",
       "59         59      425              0      0.9  \n",
       "60         60      440              2      3.3  \n",
       "61         61      451              1      1.6  \n",
       "62         62      452              2      3.1  \n",
       "63         63      454              1      1.5  \n",
       "\n",
       "[64 rows x 10 columns]"
      ]
     },
     "execution_count": 241,
     "metadata": {},
     "output_type": "execute_result"
    }
   ],
   "source": [
    "merged"
   ]
  },
  {
   "cell_type": "code",
   "execution_count": 243,
   "id": "7272bd40",
   "metadata": {},
   "outputs": [],
   "source": [
    "merged['Total_goals']= merged['Total_goals_x']+merged['Total_goals_y']\n",
    "merged['Total_xg']= merged['home_xg']+merged['away_xg']\n",
    "merged['Deviation']=merged['Total_xg']-merged['Total_goals']"
   ]
  },
  {
   "cell_type": "code",
   "execution_count": 244,
   "id": "2eb145ac",
   "metadata": {},
   "outputs": [
    {
     "data": {
      "text/html": [
       "<div>\n",
       "<style scoped>\n",
       "    .dataframe tbody tr th:only-of-type {\n",
       "        vertical-align: middle;\n",
       "    }\n",
       "\n",
       "    .dataframe tbody tr th {\n",
       "        vertical-align: top;\n",
       "    }\n",
       "\n",
       "    .dataframe thead th {\n",
       "        text-align: right;\n",
       "    }\n",
       "</style>\n",
       "<table border=\"1\" class=\"dataframe\">\n",
       "  <thead>\n",
       "    <tr style=\"text-align: right;\">\n",
       "      <th></th>\n",
       "      <th>level_0_x</th>\n",
       "      <th>index_x</th>\n",
       "      <th>team</th>\n",
       "      <th>Year</th>\n",
       "      <th>Total_goals_x</th>\n",
       "      <th>home_xg</th>\n",
       "      <th>level_0_y</th>\n",
       "      <th>index_y</th>\n",
       "      <th>Total_goals_y</th>\n",
       "      <th>away_xg</th>\n",
       "      <th>Total_goals</th>\n",
       "      <th>Total_xg</th>\n",
       "      <th>Deviation</th>\n",
       "    </tr>\n",
       "  </thead>\n",
       "  <tbody>\n",
       "    <tr>\n",
       "      <th>0</th>\n",
       "      <td>0</td>\n",
       "      <td>20</td>\n",
       "      <td>Argentina</td>\n",
       "      <td>2018</td>\n",
       "      <td>1</td>\n",
       "      <td>3.2</td>\n",
       "      <td>0</td>\n",
       "      <td>21</td>\n",
       "      <td>5</td>\n",
       "      <td>1.7</td>\n",
       "      <td>6</td>\n",
       "      <td>4.9</td>\n",
       "      <td>-1.1</td>\n",
       "    </tr>\n",
       "    <tr>\n",
       "      <th>2</th>\n",
       "      <td>2</td>\n",
       "      <td>26</td>\n",
       "      <td>Australia</td>\n",
       "      <td>2018</td>\n",
       "      <td>0</td>\n",
       "      <td>0.9</td>\n",
       "      <td>2</td>\n",
       "      <td>27</td>\n",
       "      <td>2</td>\n",
       "      <td>2.3</td>\n",
       "      <td>2</td>\n",
       "      <td>3.2</td>\n",
       "      <td>1.2</td>\n",
       "    </tr>\n",
       "    <tr>\n",
       "      <th>4</th>\n",
       "      <td>4</td>\n",
       "      <td>41</td>\n",
       "      <td>Belgium</td>\n",
       "      <td>2018</td>\n",
       "      <td>13</td>\n",
       "      <td>11.2</td>\n",
       "      <td>4</td>\n",
       "      <td>48</td>\n",
       "      <td>3</td>\n",
       "      <td>2.2</td>\n",
       "      <td>16</td>\n",
       "      <td>13.4</td>\n",
       "      <td>-2.6</td>\n",
       "    </tr>\n",
       "    <tr>\n",
       "      <th>6</th>\n",
       "      <td>6</td>\n",
       "      <td>64</td>\n",
       "      <td>Brazil</td>\n",
       "      <td>2018</td>\n",
       "      <td>6</td>\n",
       "      <td>10.3</td>\n",
       "      <td>6</td>\n",
       "      <td>69</td>\n",
       "      <td>2</td>\n",
       "      <td>1.4</td>\n",
       "      <td>8</td>\n",
       "      <td>11.7</td>\n",
       "      <td>3.7</td>\n",
       "    </tr>\n",
       "    <tr>\n",
       "      <th>10</th>\n",
       "      <td>10</td>\n",
       "      <td>91</td>\n",
       "      <td>Colombia</td>\n",
       "      <td>2018</td>\n",
       "      <td>2</td>\n",
       "      <td>1.6</td>\n",
       "      <td>10</td>\n",
       "      <td>103</td>\n",
       "      <td>4</td>\n",
       "      <td>2.4</td>\n",
       "      <td>6</td>\n",
       "      <td>4.0</td>\n",
       "      <td>-2.0</td>\n",
       "    </tr>\n",
       "    <tr>\n",
       "      <th>11</th>\n",
       "      <td>11</td>\n",
       "      <td>96</td>\n",
       "      <td>Costa Rica</td>\n",
       "      <td>2018</td>\n",
       "      <td>0</td>\n",
       "      <td>0.9</td>\n",
       "      <td>11</td>\n",
       "      <td>108</td>\n",
       "      <td>2</td>\n",
       "      <td>1.6</td>\n",
       "      <td>2</td>\n",
       "      <td>2.5</td>\n",
       "      <td>0.5</td>\n",
       "    </tr>\n",
       "    <tr>\n",
       "      <th>13</th>\n",
       "      <td>13</td>\n",
       "      <td>101</td>\n",
       "      <td>Croatia</td>\n",
       "      <td>2018</td>\n",
       "      <td>5</td>\n",
       "      <td>5.7</td>\n",
       "      <td>13</td>\n",
       "      <td>114</td>\n",
       "      <td>9</td>\n",
       "      <td>5.4</td>\n",
       "      <td>14</td>\n",
       "      <td>11.1</td>\n",
       "      <td>-2.9</td>\n",
       "    </tr>\n",
       "    <tr>\n",
       "      <th>15</th>\n",
       "      <td>15</td>\n",
       "      <td>117</td>\n",
       "      <td>Denmark</td>\n",
       "      <td>2018</td>\n",
       "      <td>1</td>\n",
       "      <td>1.0</td>\n",
       "      <td>15</td>\n",
       "      <td>133</td>\n",
       "      <td>2</td>\n",
       "      <td>1.9</td>\n",
       "      <td>3</td>\n",
       "      <td>2.9</td>\n",
       "      <td>-0.1</td>\n",
       "    </tr>\n",
       "    <tr>\n",
       "      <th>18</th>\n",
       "      <td>18</td>\n",
       "      <td>123</td>\n",
       "      <td>Egypt</td>\n",
       "      <td>2018</td>\n",
       "      <td>0</td>\n",
       "      <td>0.3</td>\n",
       "      <td>18</td>\n",
       "      <td>142</td>\n",
       "      <td>2</td>\n",
       "      <td>2.2</td>\n",
       "      <td>2</td>\n",
       "      <td>2.5</td>\n",
       "      <td>0.5</td>\n",
       "    </tr>\n",
       "    <tr>\n",
       "      <th>19</th>\n",
       "      <td>19</td>\n",
       "      <td>138</td>\n",
       "      <td>England</td>\n",
       "      <td>2018</td>\n",
       "      <td>6</td>\n",
       "      <td>3.7</td>\n",
       "      <td>19</td>\n",
       "      <td>158</td>\n",
       "      <td>6</td>\n",
       "      <td>7.5</td>\n",
       "      <td>12</td>\n",
       "      <td>11.2</td>\n",
       "      <td>-0.8</td>\n",
       "    </tr>\n",
       "    <tr>\n",
       "      <th>21</th>\n",
       "      <td>21</td>\n",
       "      <td>154</td>\n",
       "      <td>France</td>\n",
       "      <td>2018</td>\n",
       "      <td>12</td>\n",
       "      <td>8.3</td>\n",
       "      <td>21</td>\n",
       "      <td>175</td>\n",
       "      <td>2</td>\n",
       "      <td>0.9</td>\n",
       "      <td>14</td>\n",
       "      <td>9.2</td>\n",
       "      <td>-4.8</td>\n",
       "    </tr>\n",
       "    <tr>\n",
       "      <th>23</th>\n",
       "      <td>23</td>\n",
       "      <td>164</td>\n",
       "      <td>Germany</td>\n",
       "      <td>2018</td>\n",
       "      <td>2</td>\n",
       "      <td>2.8</td>\n",
       "      <td>23</td>\n",
       "      <td>185</td>\n",
       "      <td>0</td>\n",
       "      <td>2.7</td>\n",
       "      <td>2</td>\n",
       "      <td>5.5</td>\n",
       "      <td>3.5</td>\n",
       "    </tr>\n",
       "    <tr>\n",
       "      <th>26</th>\n",
       "      <td>26</td>\n",
       "      <td>188</td>\n",
       "      <td>IR Iran</td>\n",
       "      <td>2018</td>\n",
       "      <td>1</td>\n",
       "      <td>2.1</td>\n",
       "      <td>26</td>\n",
       "      <td>212</td>\n",
       "      <td>1</td>\n",
       "      <td>1.0</td>\n",
       "      <td>2</td>\n",
       "      <td>3.1</td>\n",
       "      <td>1.1</td>\n",
       "    </tr>\n",
       "    <tr>\n",
       "      <th>28</th>\n",
       "      <td>28</td>\n",
       "      <td>190</td>\n",
       "      <td>Iceland</td>\n",
       "      <td>2018</td>\n",
       "      <td>1</td>\n",
       "      <td>2.1</td>\n",
       "      <td>28</td>\n",
       "      <td>214</td>\n",
       "      <td>1</td>\n",
       "      <td>2.3</td>\n",
       "      <td>2</td>\n",
       "      <td>4.4</td>\n",
       "      <td>2.4</td>\n",
       "    </tr>\n",
       "    <tr>\n",
       "      <th>29</th>\n",
       "      <td>29</td>\n",
       "      <td>216</td>\n",
       "      <td>Japan</td>\n",
       "      <td>2018</td>\n",
       "      <td>2</td>\n",
       "      <td>1.6</td>\n",
       "      <td>29</td>\n",
       "      <td>237</td>\n",
       "      <td>4</td>\n",
       "      <td>2.7</td>\n",
       "      <td>6</td>\n",
       "      <td>4.3</td>\n",
       "      <td>-1.7</td>\n",
       "    </tr>\n",
       "    <tr>\n",
       "      <th>31</th>\n",
       "      <td>31</td>\n",
       "      <td>228</td>\n",
       "      <td>Korea Republic</td>\n",
       "      <td>2018</td>\n",
       "      <td>3</td>\n",
       "      <td>2.6</td>\n",
       "      <td>31</td>\n",
       "      <td>250</td>\n",
       "      <td>0</td>\n",
       "      <td>0.3</td>\n",
       "      <td>3</td>\n",
       "      <td>2.9</td>\n",
       "      <td>-0.1</td>\n",
       "    </tr>\n",
       "    <tr>\n",
       "      <th>33</th>\n",
       "      <td>33</td>\n",
       "      <td>239</td>\n",
       "      <td>Mexico</td>\n",
       "      <td>2018</td>\n",
       "      <td>0</td>\n",
       "      <td>1.4</td>\n",
       "      <td>33</td>\n",
       "      <td>268</td>\n",
       "      <td>3</td>\n",
       "      <td>3.9</td>\n",
       "      <td>3</td>\n",
       "      <td>5.3</td>\n",
       "      <td>2.3</td>\n",
       "    </tr>\n",
       "    <tr>\n",
       "      <th>35</th>\n",
       "      <td>35</td>\n",
       "      <td>244</td>\n",
       "      <td>Morocco</td>\n",
       "      <td>2018</td>\n",
       "      <td>0</td>\n",
       "      <td>0.7</td>\n",
       "      <td>35</td>\n",
       "      <td>274</td>\n",
       "      <td>2</td>\n",
       "      <td>2.1</td>\n",
       "      <td>2</td>\n",
       "      <td>2.8</td>\n",
       "      <td>0.8</td>\n",
       "    </tr>\n",
       "    <tr>\n",
       "      <th>38</th>\n",
       "      <td>38</td>\n",
       "      <td>261</td>\n",
       "      <td>Nigeria</td>\n",
       "      <td>2018</td>\n",
       "      <td>3</td>\n",
       "      <td>2.3</td>\n",
       "      <td>38</td>\n",
       "      <td>294</td>\n",
       "      <td>0</td>\n",
       "      <td>0.7</td>\n",
       "      <td>3</td>\n",
       "      <td>3.0</td>\n",
       "      <td>0.0</td>\n",
       "    </tr>\n",
       "    <tr>\n",
       "      <th>39</th>\n",
       "      <td>39</td>\n",
       "      <td>266</td>\n",
       "      <td>Panama</td>\n",
       "      <td>2018</td>\n",
       "      <td>1</td>\n",
       "      <td>0.6</td>\n",
       "      <td>39</td>\n",
       "      <td>301</td>\n",
       "      <td>1</td>\n",
       "      <td>1.6</td>\n",
       "      <td>2</td>\n",
       "      <td>2.2</td>\n",
       "      <td>0.2</td>\n",
       "    </tr>\n",
       "    <tr>\n",
       "      <th>40</th>\n",
       "      <td>40</td>\n",
       "      <td>277</td>\n",
       "      <td>Peru</td>\n",
       "      <td>2018</td>\n",
       "      <td>0</td>\n",
       "      <td>1.7</td>\n",
       "      <td>40</td>\n",
       "      <td>314</td>\n",
       "      <td>2</td>\n",
       "      <td>0.6</td>\n",
       "      <td>2</td>\n",
       "      <td>2.3</td>\n",
       "      <td>0.3</td>\n",
       "    </tr>\n",
       "    <tr>\n",
       "      <th>41</th>\n",
       "      <td>41</td>\n",
       "      <td>284</td>\n",
       "      <td>Poland</td>\n",
       "      <td>2018</td>\n",
       "      <td>1</td>\n",
       "      <td>1.9</td>\n",
       "      <td>41</td>\n",
       "      <td>322</td>\n",
       "      <td>1</td>\n",
       "      <td>1.4</td>\n",
       "      <td>2</td>\n",
       "      <td>3.3</td>\n",
       "      <td>1.3</td>\n",
       "    </tr>\n",
       "    <tr>\n",
       "      <th>43</th>\n",
       "      <td>43</td>\n",
       "      <td>292</td>\n",
       "      <td>Portugal</td>\n",
       "      <td>2018</td>\n",
       "      <td>4</td>\n",
       "      <td>2.4</td>\n",
       "      <td>43</td>\n",
       "      <td>330</td>\n",
       "      <td>2</td>\n",
       "      <td>2.3</td>\n",
       "      <td>6</td>\n",
       "      <td>4.7</td>\n",
       "      <td>-1.3</td>\n",
       "    </tr>\n",
       "    <tr>\n",
       "      <th>46</th>\n",
       "      <td>46</td>\n",
       "      <td>305</td>\n",
       "      <td>Russia</td>\n",
       "      <td>2018</td>\n",
       "      <td>10</td>\n",
       "      <td>3.9</td>\n",
       "      <td>46</td>\n",
       "      <td>345</td>\n",
       "      <td>1</td>\n",
       "      <td>1.1</td>\n",
       "      <td>11</td>\n",
       "      <td>5.0</td>\n",
       "      <td>-6.0</td>\n",
       "    </tr>\n",
       "    <tr>\n",
       "      <th>47</th>\n",
       "      <td>47</td>\n",
       "      <td>310</td>\n",
       "      <td>Saudi Arabia</td>\n",
       "      <td>2018</td>\n",
       "      <td>2</td>\n",
       "      <td>2.6</td>\n",
       "      <td>47</td>\n",
       "      <td>350</td>\n",
       "      <td>0</td>\n",
       "      <td>0.5</td>\n",
       "      <td>2</td>\n",
       "      <td>3.1</td>\n",
       "      <td>1.1</td>\n",
       "    </tr>\n",
       "    <tr>\n",
       "      <th>49</th>\n",
       "      <td>49</td>\n",
       "      <td>318</td>\n",
       "      <td>Senegal</td>\n",
       "      <td>2018</td>\n",
       "      <td>0</td>\n",
       "      <td>0.5</td>\n",
       "      <td>49</td>\n",
       "      <td>361</td>\n",
       "      <td>4</td>\n",
       "      <td>2.4</td>\n",
       "      <td>4</td>\n",
       "      <td>2.9</td>\n",
       "      <td>-1.1</td>\n",
       "    </tr>\n",
       "    <tr>\n",
       "      <th>51</th>\n",
       "      <td>51</td>\n",
       "      <td>321</td>\n",
       "      <td>Serbia</td>\n",
       "      <td>2018</td>\n",
       "      <td>1</td>\n",
       "      <td>2.3</td>\n",
       "      <td>51</td>\n",
       "      <td>364</td>\n",
       "      <td>1</td>\n",
       "      <td>0.9</td>\n",
       "      <td>2</td>\n",
       "      <td>3.2</td>\n",
       "      <td>1.2</td>\n",
       "    </tr>\n",
       "    <tr>\n",
       "      <th>53</th>\n",
       "      <td>53</td>\n",
       "      <td>351</td>\n",
       "      <td>Spain</td>\n",
       "      <td>2018</td>\n",
       "      <td>3</td>\n",
       "      <td>4.7</td>\n",
       "      <td>53</td>\n",
       "      <td>393</td>\n",
       "      <td>4</td>\n",
       "      <td>3.5</td>\n",
       "      <td>7</td>\n",
       "      <td>8.2</td>\n",
       "      <td>1.2</td>\n",
       "    </tr>\n",
       "    <tr>\n",
       "      <th>55</th>\n",
       "      <td>55</td>\n",
       "      <td>364</td>\n",
       "      <td>Sweden</td>\n",
       "      <td>2018</td>\n",
       "      <td>2</td>\n",
       "      <td>4.1</td>\n",
       "      <td>55</td>\n",
       "      <td>406</td>\n",
       "      <td>4</td>\n",
       "      <td>3.3</td>\n",
       "      <td>6</td>\n",
       "      <td>7.4</td>\n",
       "      <td>1.4</td>\n",
       "    </tr>\n",
       "    <tr>\n",
       "      <th>56</th>\n",
       "      <td>56</td>\n",
       "      <td>373</td>\n",
       "      <td>Switzerland</td>\n",
       "      <td>2018</td>\n",
       "      <td>2</td>\n",
       "      <td>1.4</td>\n",
       "      <td>56</td>\n",
       "      <td>416</td>\n",
       "      <td>3</td>\n",
       "      <td>3.7</td>\n",
       "      <td>5</td>\n",
       "      <td>5.1</td>\n",
       "      <td>0.1</td>\n",
       "    </tr>\n",
       "    <tr>\n",
       "      <th>58</th>\n",
       "      <td>58</td>\n",
       "      <td>380</td>\n",
       "      <td>Tunisia</td>\n",
       "      <td>2018</td>\n",
       "      <td>1</td>\n",
       "      <td>1.0</td>\n",
       "      <td>58</td>\n",
       "      <td>424</td>\n",
       "      <td>4</td>\n",
       "      <td>3.2</td>\n",
       "      <td>5</td>\n",
       "      <td>4.2</td>\n",
       "      <td>-0.8</td>\n",
       "    </tr>\n",
       "    <tr>\n",
       "      <th>61</th>\n",
       "      <td>61</td>\n",
       "      <td>408</td>\n",
       "      <td>Uruguay</td>\n",
       "      <td>2018</td>\n",
       "      <td>6</td>\n",
       "      <td>5.6</td>\n",
       "      <td>61</td>\n",
       "      <td>451</td>\n",
       "      <td>1</td>\n",
       "      <td>1.6</td>\n",
       "      <td>7</td>\n",
       "      <td>7.2</td>\n",
       "      <td>0.2</td>\n",
       "    </tr>\n",
       "  </tbody>\n",
       "</table>\n",
       "</div>"
      ],
      "text/plain": [
       "    level_0_x  index_x            team  Year  Total_goals_x  home_xg  \\\n",
       "0           0       20       Argentina  2018              1      3.2   \n",
       "2           2       26       Australia  2018              0      0.9   \n",
       "4           4       41         Belgium  2018             13     11.2   \n",
       "6           6       64          Brazil  2018              6     10.3   \n",
       "10         10       91        Colombia  2018              2      1.6   \n",
       "11         11       96      Costa Rica  2018              0      0.9   \n",
       "13         13      101         Croatia  2018              5      5.7   \n",
       "15         15      117         Denmark  2018              1      1.0   \n",
       "18         18      123           Egypt  2018              0      0.3   \n",
       "19         19      138         England  2018              6      3.7   \n",
       "21         21      154          France  2018             12      8.3   \n",
       "23         23      164         Germany  2018              2      2.8   \n",
       "26         26      188         IR Iran  2018              1      2.1   \n",
       "28         28      190         Iceland  2018              1      2.1   \n",
       "29         29      216           Japan  2018              2      1.6   \n",
       "31         31      228  Korea Republic  2018              3      2.6   \n",
       "33         33      239          Mexico  2018              0      1.4   \n",
       "35         35      244         Morocco  2018              0      0.7   \n",
       "38         38      261         Nigeria  2018              3      2.3   \n",
       "39         39      266          Panama  2018              1      0.6   \n",
       "40         40      277            Peru  2018              0      1.7   \n",
       "41         41      284          Poland  2018              1      1.9   \n",
       "43         43      292        Portugal  2018              4      2.4   \n",
       "46         46      305          Russia  2018             10      3.9   \n",
       "47         47      310    Saudi Arabia  2018              2      2.6   \n",
       "49         49      318         Senegal  2018              0      0.5   \n",
       "51         51      321          Serbia  2018              1      2.3   \n",
       "53         53      351           Spain  2018              3      4.7   \n",
       "55         55      364          Sweden  2018              2      4.1   \n",
       "56         56      373     Switzerland  2018              2      1.4   \n",
       "58         58      380         Tunisia  2018              1      1.0   \n",
       "61         61      408         Uruguay  2018              6      5.6   \n",
       "\n",
       "    level_0_y  index_y  Total_goals_y  away_xg  Total_goals  Total_xg  \\\n",
       "0           0       21              5      1.7            6       4.9   \n",
       "2           2       27              2      2.3            2       3.2   \n",
       "4           4       48              3      2.2           16      13.4   \n",
       "6           6       69              2      1.4            8      11.7   \n",
       "10         10      103              4      2.4            6       4.0   \n",
       "11         11      108              2      1.6            2       2.5   \n",
       "13         13      114              9      5.4           14      11.1   \n",
       "15         15      133              2      1.9            3       2.9   \n",
       "18         18      142              2      2.2            2       2.5   \n",
       "19         19      158              6      7.5           12      11.2   \n",
       "21         21      175              2      0.9           14       9.2   \n",
       "23         23      185              0      2.7            2       5.5   \n",
       "26         26      212              1      1.0            2       3.1   \n",
       "28         28      214              1      2.3            2       4.4   \n",
       "29         29      237              4      2.7            6       4.3   \n",
       "31         31      250              0      0.3            3       2.9   \n",
       "33         33      268              3      3.9            3       5.3   \n",
       "35         35      274              2      2.1            2       2.8   \n",
       "38         38      294              0      0.7            3       3.0   \n",
       "39         39      301              1      1.6            2       2.2   \n",
       "40         40      314              2      0.6            2       2.3   \n",
       "41         41      322              1      1.4            2       3.3   \n",
       "43         43      330              2      2.3            6       4.7   \n",
       "46         46      345              1      1.1           11       5.0   \n",
       "47         47      350              0      0.5            2       3.1   \n",
       "49         49      361              4      2.4            4       2.9   \n",
       "51         51      364              1      0.9            2       3.2   \n",
       "53         53      393              4      3.5            7       8.2   \n",
       "55         55      406              4      3.3            6       7.4   \n",
       "56         56      416              3      3.7            5       5.1   \n",
       "58         58      424              4      3.2            5       4.2   \n",
       "61         61      451              1      1.6            7       7.2   \n",
       "\n",
       "    Deviation  \n",
       "0        -1.1  \n",
       "2         1.2  \n",
       "4        -2.6  \n",
       "6         3.7  \n",
       "10       -2.0  \n",
       "11        0.5  \n",
       "13       -2.9  \n",
       "15       -0.1  \n",
       "18        0.5  \n",
       "19       -0.8  \n",
       "21       -4.8  \n",
       "23        3.5  \n",
       "26        1.1  \n",
       "28        2.4  \n",
       "29       -1.7  \n",
       "31       -0.1  \n",
       "33        2.3  \n",
       "35        0.8  \n",
       "38        0.0  \n",
       "39        0.2  \n",
       "40        0.3  \n",
       "41        1.3  \n",
       "43       -1.3  \n",
       "46       -6.0  \n",
       "47        1.1  \n",
       "49       -1.1  \n",
       "51        1.2  \n",
       "53        1.2  \n",
       "55        1.4  \n",
       "56        0.1  \n",
       "58       -0.8  \n",
       "61        0.2  "
      ]
     },
     "execution_count": 244,
     "metadata": {},
     "output_type": "execute_result"
    }
   ],
   "source": [
    "merged[merged['Year']==2018]"
   ]
  },
  {
   "cell_type": "markdown",
   "id": "bb2dbde6",
   "metadata": {},
   "source": [
    "CONCLUSION.\n",
    "\n",
    "IN 2018 , Argentina Failed to take home advantages and underperformed in home games , However they over performed in non home grounds.\n",
    "\n",
    "In 2018 Russia Was the most attacking team , as they scored 60% more goals then they were expected to score , this may be due to home condition advantage as in 2018 FIFA world cup was in Russia.\n",
    "\n",
    "Russia was also the Underdog Team in 2018 , as it performed much more than expected.\n",
    "\n",
    "Netherland was the underdog team of 2022, it scored 52% more goals than expected.\n",
    "\n",
    "Among top teams Portugal scored 40% more than expected goals.\n",
    "\n",
    "Most Overrated team of 2018 and 2022 was Brazil they scored 32% and 40% less goals than expected in 2018 and 2022 respectively."
   ]
  },
  {
   "cell_type": "code",
   "execution_count": null,
   "id": "239bd6ef",
   "metadata": {},
   "outputs": [],
   "source": []
  }
 ],
 "metadata": {
  "kernelspec": {
   "display_name": "Python 3 (ipykernel)",
   "language": "python",
   "name": "python3"
  },
  "language_info": {
   "codemirror_mode": {
    "name": "ipython",
    "version": 3
   },
   "file_extension": ".py",
   "mimetype": "text/x-python",
   "name": "python",
   "nbconvert_exporter": "python",
   "pygments_lexer": "ipython3",
   "version": "3.11.4"
  }
 },
 "nbformat": 4,
 "nbformat_minor": 5
}
